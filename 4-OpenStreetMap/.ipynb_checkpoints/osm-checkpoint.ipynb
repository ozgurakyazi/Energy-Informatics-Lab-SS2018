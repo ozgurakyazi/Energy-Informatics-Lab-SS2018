{
 "cells": [
  {
   "cell_type": "code",
   "execution_count": null,
   "metadata": {},
   "outputs": [],
   "source": [
    "import psycopg2 as ps\n",
    "import ipyleaflet as ipyl\n",
    "import ipywidgets as ipyw\n",
    "import pandas as pd\n",
    "import json\n"
   ]
  },
  {
   "cell_type": "code",
   "execution_count": null,
   "metadata": {},
   "outputs": [],
   "source": [
    "conn_string = \"dbname='gis' user='postgres' password='cfirf918920' host='localhost'\"\n",
    "conn = ps.connect(conn_string)\n",
    "cur = conn.cursor()\n",
    "query = \"\"\"SELECT \n",
    "               * \n",
    "           FROM \n",
    "               planet_osm_point p \n",
    "           INNER JOIN \n",
    "               planet_osm_nodes n ON n.id=p.osm_id\n",
    "\"\"\"\n",
    "query_json = \"\"\"\n",
    "SELECT row_to_json(fc)\n",
    " FROM ( SELECT 'FeatureCollection' As type, array_to_json(array_agg(f)) As features\n",
    " FROM (SELECT 'Feature' As type\n",
    "    , ST_AsGeoJSON(ST_Transform(lg.way, 4326))::json As geometry\n",
    "    , row_to_json((SELECT l FROM (SELECT osm_id, access) As l\n",
    "      )) As properties\n",
    "   FROM planet_osm_point As lg   ) As f )  As fc;\n",
    "\"\"\"\n",
    "\n",
    "cur.execute(query_json)\n",
    "d = cur.fetchone()\n",
    "\n",
    "#df = pd.read_sql(query, conn)\n",
    "conn.close()"
   ]
  },
  {
   "cell_type": "code",
   "execution_count": null,
   "metadata": {},
   "outputs": [],
   "source": [
    "map = ipyl.Map(center=[53.88, 13.45], zoom=4)\n",
    "label = ipyw.Label(layout=ipyw.Layout(width='100%'))\n",
    "\n",
    "layer = ipyl.GeoJSON(data=d[0], hover_style={'fillColor': 'red'})\n",
    "\n",
    "def hover_handler(event=None, id=None, properties=None):\n",
    "    label.value = properties['geounit']\n",
    "\n",
    "layer.on_hover(hover_handler)\n",
    "map.add_layer(layer)\n",
    "\n",
    "\n",
    "ipyw.VBox([map, label])\n",
    "\n"
   ]
  }
 ],
 "metadata": {
  "kernelspec": {
   "display_name": "Python 3",
   "language": "python",
   "name": "python3"
  },
  "language_info": {
   "codemirror_mode": {
    "name": "ipython",
    "version": 3
   },
   "file_extension": ".py",
   "mimetype": "text/x-python",
   "name": "python",
   "nbconvert_exporter": "python",
   "pygments_lexer": "ipython3",
   "version": "3.6.4"
  }
 },
 "nbformat": 4,
 "nbformat_minor": 2
}
