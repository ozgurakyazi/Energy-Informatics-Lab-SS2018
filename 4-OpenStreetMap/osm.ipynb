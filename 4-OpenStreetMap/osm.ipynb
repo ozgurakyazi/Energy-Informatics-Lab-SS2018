{
 "cells": [
  {
   "cell_type": "code",
   "execution_count": null,
   "metadata": {},
   "outputs": [],
   "source": [
    "import psycopg2 as ps\n",
    "import ipyleaflet as ipyl\n",
    "import ipywidgets as ipyw\n",
    "import pandas as pd\n",
    "import json\n"
   ]
  },
  {
   "cell_type": "code",
   "execution_count": null,
   "metadata": {},
   "outputs": [],
   "source": [
    "conn_string = \"dbname='gis' user='postgres' password='123456' host='localhost'\"\n",
    "conn = ps.connect(conn_string)\n",
    "cur = conn.cursor()\n",
    "query = \"\"\"SELECT \n",
    "               * \n",
    "           FROM \n",
    "               planet_osm_line \n",
    "\n",
    "\"\"\"\n",
    "columns = \"\"\"\n",
    "        operator,\n",
    "        name,\n",
    "        highway,\n",
    "        amenity,\n",
    "        public_transport,\n",
    "        railway,\n",
    "        power,\n",
    "        bicycle,\n",
    "        barrier\n",
    "\"\"\"\n",
    "query_json_line = \"\"\"\n",
    "SELECT row_to_json(fc)\n",
    " FROM ( SELECT 'FeatureCollection' As type, array_to_json(array_agg(f)) As features\n",
    " FROM (SELECT 'Feature' As type\n",
    "    , ST_AsGeoJSON(ST_Transform(lg.way, 4326))::json As geometry\n",
    "    , row_to_json((SELECT l FROM (SELECT {}) As l\n",
    "      )) As properties\n",
    "   FROM planet_osm_line As lg ) As f )  As fc;\n",
    "\"\"\".format(columns)\n",
    "\n",
    "query_json_point = \"\"\"\n",
    "SELECT row_to_json(fc)\n",
    " FROM ( SELECT 'FeatureCollection' As type, array_to_json(array_agg(f)) As features\n",
    " FROM (SELECT 'Feature' As type\n",
    "    , ST_AsGeoJSON(ST_Transform(lg.way, 4326))::json As geometry\n",
    "    , row_to_json((SELECT l FROM (SELECT {}) As l\n",
    "      )) As properties\n",
    "   FROM planet_osm_point As lg order by random() limit 100) As f )  As fc;\n",
    "\"\"\".format(columns)\n",
    "\n",
    "\n",
    "cur.execute(query_json_point)\n",
    "d_points = cur.fetchone()\n",
    "cur.execute(query_json_line)\n",
    "d_lines = cur.fetchone()\n",
    "\n",
    "#df = pd.read_sql(query, conn)\n",
    "conn.close()"
   ]
  },
  {
   "cell_type": "code",
   "execution_count": null,
   "metadata": {},
   "outputs": [],
   "source": [
    "map = ipyl.Map(center=[52.52, 13.45], zoom=10)\n",
    "label = ipyw.Label(layout=ipyw.Layout(width='100%'))\n",
    "\n",
    "layer_points = ipyl.GeoJSON(data=d_points[0], hover_style={'fill_color': 'red'}, style={'fill_color':'#001010','fill':True})\n",
    "layer_lines = ipyl.GeoJSON(data=d_lines[0],style={'color':'red'})\n",
    "\n",
    "def hover_handler(event=None, id=None, properties=None):\n",
    "    s = \"\"\n",
    "    for key, value in properties.items():\n",
    "        s = s +str(key) +\":\" + str(value) + \";\\t\"\n",
    "    label.value = s\n",
    "    \n",
    "layer_lines.on_hover(hover_handler)\n",
    "layer_points.on_click(hover_handler)\n",
    "map.add_layer(layer_lines)\n",
    "map.add_layer(layer_points)\n",
    "\n",
    "ipyw.VBox([map, label])\n",
    "\n"
   ]
  },
  {
   "cell_type": "code",
   "execution_count": null,
   "metadata": {},
   "outputs": [],
   "source": []
  }
 ],
 "metadata": {
  "kernelspec": {
   "display_name": "Python 3",
   "language": "python",
   "name": "python3"
  },
  "language_info": {
   "codemirror_mode": {
    "name": "ipython",
    "version": 3
   },
   "file_extension": ".py",
   "mimetype": "text/x-python",
   "name": "python",
   "nbconvert_exporter": "python",
   "pygments_lexer": "ipython3",
   "version": "3.5.2"
  }
 },
 "nbformat": 4,
 "nbformat_minor": 2
}
