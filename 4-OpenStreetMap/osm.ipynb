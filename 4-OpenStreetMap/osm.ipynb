{
 "cells": [
  {
   "cell_type": "code",
   "execution_count": 11,
   "metadata": {},
   "outputs": [],
   "source": [
    "import psycopg2 as ps\n",
    "import ipyleaflet as ipyl\n",
    "import ipywidgets as ipyw\n",
    "import pandas as pd\n",
    "import json\n"
   ]
  },
  {
   "cell_type": "code",
   "execution_count": 12,
   "metadata": {},
   "outputs": [],
   "source": [
    "'''\n",
    "Preliminary works:\n",
    "To extract OpenStreetMap data that we want to display here we created filter following transnet project as below:\n",
    "1. All power nodes/ways of relations tagged with power=*\"\n",
    "2. All relations tagged with route=power\"\n",
    "3. All ways and its corresponding nodes tagged with power=*\"\n",
    "Than we merge all extracts data before converts it using osm2pgsql to postGIS-enabled PostgreSQL databases.\n",
    "\n",
    "This section handle database connection to our postgreSQL database.\n",
    "Since ipyleaflet working with GeoJSON format, we use query database that convert our extracted database to JSON format.\n",
    "'''\n",
    "\n",
    "conn_string = \"dbname='gis' user='postgres' password='' host='localhost'\"\n",
    "conn = ps.connect(conn_string)\n",
    "cur = conn.cursor()\n",
    "query = \"\"\"SELECT \n",
    "               * \n",
    "           FROM \n",
    "               planet_osm_point p \n",
    "           INNER JOIN \n",
    "               planet_osm_nodes n ON n.id=p.osm_id\n",
    "\"\"\"\n",
    "query_json = \"\"\"\n",
    "SELECT row_to_json(fc)\n",
    " FROM ( SELECT 'FeatureCollection' As type, array_to_json(array_agg(f)) As features\n",
    " FROM (SELECT 'Feature' As type\n",
    "    , ST_AsGeoJSON(ST_Transform(lg.way, 4326))::json As geometry\n",
    "    , row_to_json((SELECT l FROM (SELECT osm_id, access) As l\n",
    "      )) As properties\n",
    "   FROM planet_osm_line As lg   ) As f )  As fc;\n",
    "\"\"\"\n",
    "\n",
    "cur.execute(query_json)\n",
    "d = cur.fetchone()\n",
    "\n",
    "#df = pd.read_sql(query, conn)\n",
    "conn.close()"
   ]
  },
  {
   "cell_type": "code",
   "execution_count": 46,
   "metadata": {},
   "outputs": [
    {
     "data": {
      "application/vnd.jupyter.widget-view+json": {
       "model_id": "3f117d8ee3454f63b301f3ce48dd99bb",
       "version_major": 2,
       "version_minor": 0
      },
      "text/plain": [
       "VBox(children=(Map(basemap={'url': 'https://{s}.tile.openstreetmap.org/{z}/{x}/{y}.png', 'max_zoom': 19, 'attr…"
      ]
     },
     "metadata": {},
     "output_type": "display_data"
    }
   ],
   "source": [
    "#Loading map area in Berlin\n",
    "map = ipyl.Map(center=[52.52, 13.45], zoom=9)\n",
    "label = ipyw.Label(layout=ipyw.Layout(width='100%'))\n",
    "\n",
    "#Loading GeoJSON to display extracted data on the map\n",
    "layer = ipyl.GeoJSON(data=d[0], hover_style={'fillColor': 'red'})\n",
    "\n",
    "#Function handling hover action on the map\n",
    "def hover_handler(event=None, id=None, properties=None):\n",
    "    props = [properties['osm_id'], properties['access']]\n",
    "    prop_list = [str(x) for x in props]\n",
    "    label.value = '\\n'.join(prop_list)\n",
    "    \n",
    "layer.on_hover(hover_handler)\n",
    "map.add_layer(layer)\n",
    "\n",
    "ipyw.VBox([map, label])\n",
    "\n"
   ]
  },
  {
   "cell_type": "code",
   "execution_count": null,
   "metadata": {},
   "outputs": [],
   "source": []
  }
 ],
 "metadata": {
  "kernelspec": {
   "display_name": "Python 3",
   "language": "python",
   "name": "python3"
  },
  "language_info": {
   "codemirror_mode": {
    "name": "ipython",
    "version": 3
   },
   "file_extension": ".py",
   "mimetype": "text/x-python",
   "name": "python",
   "nbconvert_exporter": "python",
   "pygments_lexer": "ipython3",
   "version": "3.6.4"
  }
 },
 "nbformat": 4,
 "nbformat_minor": 2
}
