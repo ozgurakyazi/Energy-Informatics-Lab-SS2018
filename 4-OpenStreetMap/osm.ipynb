{
 "cells": [
  {
   "cell_type": "code",
   "execution_count": null,
   "metadata": {},
   "outputs": [],
   "source": [
    "import psycopg2 as ps\n",
    "import ipyleaflet as ipyl\n",
    "import ipywidgets as ipyw\n",
    "import pandas as pd\n",
    "import json\n"
   ]
  },
  {
   "cell_type": "markdown",
   "metadata": {},
   "source": [
    "\n",
    "# Preliminary works:\n",
    " To extract OpenStreetMap data that we want to display here, \n",
    "  we created filter following transnet project as below:\n",
    "  1. All power nodes/ways of relations tagged with power=*\n",
    "  2. All relations tagged with route=power\n",
    "  3. All ways and its corresponding nodes tagged with power=*\n",
    "\n",
    "\n",
    "Afterwards, we merge all extracted data before converts it using osm2pgsql to postGIS-enabled PostgreSQL databases."
   ]
  },
  {
   "cell_type": "markdown",
   "metadata": {},
   "source": [
    "# Database Connection and Query\n",
    "\n",
    "This section handle database connection to our postgreSQL database.\n",
    "Since ipyleaflet working with GeoJSON format, we use query database that convert our extracted database to JSON format.\n",
    "\n",
    "## Note:\n",
    "User needs to enter database name, user and password information in the following cell, respective variables."
   ]
  },
  {
   "cell_type": "code",
   "execution_count": null,
   "metadata": {},
   "outputs": [],
   "source": [
    "db_name= \"gis\"\n",
    "db_user = \"\"\n",
    "db_password = \"\""
   ]
  },
  {
   "cell_type": "markdown",
   "metadata": {},
   "source": [
    "## Database Connection\n",
    "\n",
    "Here the database connection is done in the following cell.\n"
   ]
  },
  {
   "cell_type": "code",
   "execution_count": null,
   "metadata": {},
   "outputs": [],
   "source": [
    "conn_string = \"dbname='\"+db_name+\"' user='\" + db_user + \"' password='\" + db_password + \"' host='localhost'\"\n",
    "conn = ps.connect(conn_string)\n",
    "cur = conn.cursor()"
   ]
  },
  {
   "cell_type": "markdown",
   "metadata": {},
   "source": [
    "## Query Database\n",
    "\n",
    "Next, the database is queried for its planet_osm_line and planet_osm_point. As power related information we chose next columns to show in the map."
   ]
  },
  {
   "cell_type": "code",
   "execution_count": null,
   "metadata": {},
   "outputs": [],
   "source": [
    "columns = \"\"\"\n",
    "        operator,\n",
    "        name,\n",
    "        highway,\n",
    "        amenity,\n",
    "        public_transport,\n",
    "        railway,\n",
    "        power,\n",
    "        route\n",
    "\"\"\""
   ]
  },
  {
   "cell_type": "markdown",
   "metadata": {},
   "source": [
    "### Create Queries\n",
    "\n",
    "Query string for line objects. The query takes the line objects, converts its WebMercator(EPSG:3857) coordinates to WGS 84(EPSG:4326) and create GeoJSON structured string using all the information, to be able to use it in ipyleaflet map."
   ]
  },
  {
   "cell_type": "code",
   "execution_count": null,
   "metadata": {},
   "outputs": [],
   "source": [
    "query_json_line = \"\"\"\n",
    "SELECT row_to_json(fc)\n",
    " FROM ( SELECT 'FeatureCollection' As type, array_to_json(array_agg(f)) As features\n",
    " FROM (SELECT 'Feature' As type\n",
    "    , ST_AsGeoJSON(ST_Transform(lg.way, 4326))::json As geometry\n",
    "    , row_to_json((SELECT l FROM (SELECT {}) As l\n",
    "      )) As properties\n",
    "   FROM planet_osm_line As lg ) As f )  As fc;\n",
    "\"\"\".format(columns)"
   ]
  },
  {
   "cell_type": "markdown",
   "metadata": {},
   "source": [
    "Query string for point objects. Since the big number of points extracted, we limit the number of points as 100, which are randomly selected points, in order to get faster response of codes when display the map with object plots. One can remove the *limit 100* statement in the query and see all the points at once."
   ]
  },
  {
   "cell_type": "code",
   "execution_count": null,
   "metadata": {},
   "outputs": [],
   "source": [
    "query_json_point = \"\"\"\n",
    "SELECT row_to_json(fc)\n",
    " FROM ( SELECT 'FeatureCollection' As type, array_to_json(array_agg(f)) As features\n",
    " FROM (SELECT 'Feature' As type\n",
    "    , ST_AsGeoJSON(ST_Transform(lg.way, 4326))::json As geometry\n",
    "    , row_to_json((SELECT l FROM (SELECT {}) As l\n",
    "      )) As properties\n",
    "   FROM planet_osm_point As lg order by random() limit 100) As f )  As fc;\n",
    "\"\"\".format(columns)"
   ]
  },
  {
   "cell_type": "markdown",
   "metadata": {},
   "source": [
    "Send queries to database and save the results in variables."
   ]
  },
  {
   "cell_type": "code",
   "execution_count": null,
   "metadata": {},
   "outputs": [],
   "source": [
    "cur.execute(query_json_point)\n",
    "d_points = cur.fetchone()\n",
    "cur.execute(query_json_line)\n",
    "d_lines = cur.fetchone()"
   ]
  },
  {
   "cell_type": "markdown",
   "metadata": {},
   "source": [
    "Connection to database is closed, since we are done with our queries."
   ]
  },
  {
   "cell_type": "code",
   "execution_count": null,
   "metadata": {},
   "outputs": [],
   "source": [
    "conn.close()"
   ]
  },
  {
   "cell_type": "markdown",
   "metadata": {},
   "source": [
    "# Create Map\n",
    "\n",
    "Since we are focusing on Berlin power data, we are centering there in the map."
   ]
  },
  {
   "cell_type": "code",
   "execution_count": null,
   "metadata": {},
   "outputs": [],
   "source": [
    "map = ipyl.Map(center=[52.52, 13.45], zoom=11, layout=ipyw.Layout(height='600px'))\n",
    "label = ipyw.Label(layout=ipyw.Layout(width='100%'))"
   ]
  },
  {
   "cell_type": "markdown",
   "metadata": {},
   "source": [
    "Loading GeoJSON to display extracted data on the map."
   ]
  },
  {
   "cell_type": "code",
   "execution_count": null,
   "metadata": {},
   "outputs": [],
   "source": [
    "layer_points = ipyl.GeoJSON(data=d_points[0], hover_style={'fill_color': 'red'}, style={'fill_color':'#001010','fill':True})\n",
    "layer_lines = ipyl.GeoJSON(data=d_lines[0],style={'color':'red'})"
   ]
  },
  {
   "cell_type": "markdown",
   "metadata": {},
   "source": [
    "Function **action_handler** is used to handle *click* and *hover* mouse actions, to show label properties below the map. \n",
    "\n",
    "But we found that ipyleaflet 'on_hover' feature only works for line object and opened an issue on [here](https://github.com/jupyter-widgets/ipyleaflet/issues/174). \n",
    "\n",
    "For point object we need to use 'on_click' on the object then label will be shown below the map.\n",
    "\n",
    "So, to get power relevant information for line objects, it is enough to hover on the interested line, however, for the point objects, one needs to click on the marker to be able to see the relevant information."
   ]
  },
  {
   "cell_type": "code",
   "execution_count": null,
   "metadata": {},
   "outputs": [],
   "source": [
    "def action_handler(event=None, id=None, properties=None):\n",
    "    s = \"\"\n",
    "    for key, value in properties.items():\n",
    "        if str(value)!='None':\n",
    "            s = s +str(key).title() +\"--> \" + str(value).title() + \";   \\t\"\n",
    "    if s==\"\":\n",
    "        s = 'No Data'\n",
    "    label.value = s"
   ]
  },
  {
   "cell_type": "markdown",
   "metadata": {},
   "source": [
    "Register action handlers to the GeoJSON objects."
   ]
  },
  {
   "cell_type": "code",
   "execution_count": null,
   "metadata": {},
   "outputs": [],
   "source": [
    "# Hover lines to show label data.\n",
    "layer_lines.on_hover(action_handler)\n",
    "# Click points to show label data.\n",
    "layer_points.on_click(action_handler)"
   ]
  },
  {
   "cell_type": "markdown",
   "metadata": {},
   "source": [
    "Add created layers to the map."
   ]
  },
  {
   "cell_type": "code",
   "execution_count": null,
   "metadata": {},
   "outputs": [],
   "source": [
    "map.add_layer(layer_lines)\n",
    "map.add_layer(layer_points)"
   ]
  },
  {
   "cell_type": "markdown",
   "metadata": {},
   "source": [
    "# Show the map."
   ]
  },
  {
   "cell_type": "code",
   "execution_count": null,
   "metadata": {},
   "outputs": [],
   "source": [
    "ipyw.VBox([map, label])"
   ]
  }
 ],
 "metadata": {
  "kernelspec": {
   "display_name": "Python 3",
   "language": "python",
   "name": "python3"
  },
  "language_info": {
   "codemirror_mode": {
    "name": "ipython",
    "version": 3
   },
   "file_extension": ".py",
   "mimetype": "text/x-python",
   "name": "python",
   "nbconvert_exporter": "python",
   "pygments_lexer": "ipython3",
   "version": "3.5.2"
  }
 },
 "nbformat": 4,
 "nbformat_minor": 2
}
