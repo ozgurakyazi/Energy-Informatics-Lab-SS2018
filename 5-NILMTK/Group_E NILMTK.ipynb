{
 "cells": [
  {
   "cell_type": "markdown",
   "metadata": {},
   "source": [
    "# Group E Assignment 5: NILMTK\n",
    "## Introduction\n",
    "Non-Intrusive Load Monitoring is an approach for the energy disaggregation which aims to help to predict individual appliances power and their behavior through the whole household power meter. One can directly conclude that there is no need of the individual sensors, which makes NILM a cheaper alternative to monitoring appliances. Secondly, this helps to reduce energy consumption, save money, find and flatten peak power loads and, finally, go to sustainability. \n",
    "\n",
    "In this project we are going to explore NILMTK Python-framework through the UKDALE dataset to perform energy disaggregation. "
   ]
  },
  {
   "cell_type": "markdown",
   "metadata": {},
   "source": [
    "## Exercise 1\n",
    "In this exercise we mainly followed NILMTK documentation."
   ]
  },
  {
   "cell_type": "markdown",
   "metadata": {},
   "source": [
    "### Load UKDALE data into memory and print out the metadata"
   ]
  },
  {
   "cell_type": "code",
   "execution_count": null,
   "metadata": {},
   "outputs": [],
   "source": [
    "from nilmtk import DataSet\n",
    "from nilmtk.utils import print_dict\n",
    "from nilmtk.timeframe import TimeFrame\n",
    "import pandas as pd\n",
    "\n",
    "ukdale = DataSet('./data/ukdale.h5')\n",
    "\n",
    "\n",
    "#train = DataSet('/path/redd.h5')"
   ]
  },
  {
   "cell_type": "markdown",
   "metadata": {},
   "source": [
    "### 1.2 Print out Metadata\n",
    "Here we can see description of the dataset, e.g. which meter devices were used, location of the data reading, date, number of buildings, timeframe, creators etc. "
   ]
  },
  {
   "cell_type": "code",
   "execution_count": null,
   "metadata": {},
   "outputs": [],
   "source": [
    "print_dict(ukdale.metadata)\n"
   ]
  },
  {
   "cell_type": "markdown",
   "metadata": {},
   "source": [
    "### Print out Buildings"
   ]
  },
  {
   "cell_type": "code",
   "execution_count": null,
   "metadata": {
    "scrolled": false
   },
   "outputs": [],
   "source": [
    "print_dict(ukdale.buildings)"
   ]
  },
  {
   "cell_type": "markdown",
   "metadata": {},
   "source": [
    "### 1.3 Print out the sub-metered appliances in each building\n",
    "\n",
    "Here we can see all submeters attached to appliances for each building separately. We conclude that each building has exactly one main meter  there are no nested MeterGroups for appliances.\n",
    "Each submeter contains information about its instance, building, as well as appliance (type and instance)\n"
   ]
  },
  {
   "cell_type": "code",
   "execution_count": null,
   "metadata": {
    "scrolled": true
   },
   "outputs": [],
   "source": [
    "for build in ukdale.buildings:\n",
    "    print(\"Appliances of Building \" +str(build))\n",
    "    print(ukdale.buildings[build].elec.submeters())\n",
    "    print(\"---\")\n",
    "elec = ukdale.buildings[1].elec"
   ]
  },
  {
   "cell_type": "markdown",
   "metadata": {},
   "source": [
    "### 1.4 Calculate the total energy consumption for building 1 in kWh"
   ]
  },
  {
   "cell_type": "code",
   "execution_count": null,
   "metadata": {},
   "outputs": [],
   "source": [
    "elec.mains().total_energy()"
   ]
  },
  {
   "cell_type": "markdown",
   "metadata": {},
   "source": [
    "### 1.5 Print out the type of power for mains and sub-meters\n",
    "Same type of power is used for mains and submeters:"
   ]
  },
  {
   "cell_type": "code",
   "execution_count": null,
   "metadata": {},
   "outputs": [],
   "source": [
    "elec.mains().available_ac_types('power')"
   ]
  },
  {
   "cell_type": "code",
   "execution_count": null,
   "metadata": {
    "scrolled": true
   },
   "outputs": [],
   "source": [
    "elec.submeters().available_ac_types('power')"
   ]
  },
  {
   "cell_type": "markdown",
   "metadata": {},
   "source": [
    "## Exercise 2"
   ]
  },
  {
   "cell_type": "markdown",
   "metadata": {},
   "source": [
    "### 2.1 Timeframed \"Fridge Freezer\" and \"Light\" Power Plot"
   ]
  },
  {
   "cell_type": "code",
   "execution_count": null,
   "metadata": {},
   "outputs": [],
   "source": [
    "ukdale_window = DataSet('./data/ukdale.h5')\n",
    "ukdale_window.set_window(start='2014-04-28', end='2014-04-29')\n",
    "\n",
    "fridge_meter = ukdale_window.buildings[1].elec['fridge freezer']\n",
    "light_meter = ukdale_window.buildings[1].elec['light']\n",
    "elec = ukdale_window.buildings[1].elec"
   ]
  },
  {
   "cell_type": "code",
   "execution_count": null,
   "metadata": {},
   "outputs": [],
   "source": [
    "fridge_meter.plot()\n",
    "light_meter.plot()"
   ]
  },
  {
   "cell_type": "markdown",
   "metadata": {},
   "source": [
    "### 2.2 Plot Overall Consumption For that time period"
   ]
  },
  {
   "cell_type": "code",
   "execution_count": null,
   "metadata": {},
   "outputs": [],
   "source": [
    "all_window = next(ukdale_window.buildings[1].elec.load())\n",
    "#all_window.head()"
   ]
  },
  {
   "cell_type": "code",
   "execution_count": null,
   "metadata": {},
   "outputs": [],
   "source": [
    "all_window['power'].plot()"
   ]
  },
  {
   "cell_type": "markdown",
   "metadata": {},
   "source": [
    "### 2.3 Calculate and plot the energy consumption fraction for each sub-meter\n"
   ]
  },
  {
   "cell_type": "markdown",
   "metadata": {},
   "source": [
    "To get energy fraction per each submeter, we call `energy_per_meter()` method for the submeters. We are not interested in the reactive power since submeters do not utilize it, hence, we remove it from the consideration. Then we extract active and apparent power from the `energy_fraction_per_submeter` dataframe and build plots correspondingly."
   ]
  },
  {
   "cell_type": "code",
   "execution_count": null,
   "metadata": {
    "scrolled": false
   },
   "outputs": [],
   "source": [
    "energy_fraction_per_submeter = elec.submeters().energy_per_meter().transpose().fillna(0)\n",
    "del energy_fraction_per_submeter['reactive']\n",
    "energy_fraction_per_submeter.div(energy_fraction_per_submeter.sum(axis=0))\n",
    "\n",
    "#plot active power\n",
    "energy_fraction_per_submeter['active'].plot(kind=\"bar\", figsize=(15,10), title=\"Active Power Fraction\")"
   ]
  },
  {
   "cell_type": "code",
   "execution_count": null,
   "metadata": {},
   "outputs": [],
   "source": [
    "energy_fraction_per_submeter.plot(kind=\"bar\", figsize=(15,10), title=\"Apparent Power Fraction\")"
   ]
  },
  {
   "cell_type": "markdown",
   "metadata": {},
   "source": [
    "### 2.4 Highest Power Consuming Appliance\n",
    "Fridge freezer in the building 1 is the most power-consuming appliance. "
   ]
  },
  {
   "cell_type": "code",
   "execution_count": null,
   "metadata": {},
   "outputs": [],
   "source": [
    "max_appliance = elec.submeters().select_top_k(k=1).energy_per_meter()"
   ]
  },
  {
   "cell_type": "markdown",
   "metadata": {},
   "source": [
    "### 2.5 Find appliances of the type “single-phase induction motor”"
   ]
  },
  {
   "cell_type": "code",
   "execution_count": null,
   "metadata": {},
   "outputs": [],
   "source": [
    "elec.select_using_appliances(category='single-phase induction motor')"
   ]
  },
  {
   "cell_type": "markdown",
   "metadata": {},
   "source": [
    "## Exercise 3\n",
    "First steps:\n",
    " * set train set range until the end of the 24-03-2013\n",
    " * set test set range from the 25-03-2013"
   ]
  },
  {
   "cell_type": "code",
   "execution_count": null,
   "metadata": {},
   "outputs": [],
   "source": [
    "import time\n",
    "from six import iteritems\n",
    "import matplotlib.pyplot as plt\n",
    "import numpy as np\n",
    "\n",
    "train = DataSet('./data/ukdale.h5')\n",
    "test = DataSet('./data/ukdale.h5')"
   ]
  },
  {
   "cell_type": "code",
   "execution_count": null,
   "metadata": {},
   "outputs": [],
   "source": [
    "train.set_window(end=\"24-3-2013\")\n",
    "test.set_window(start=\"25-3-2013\")\n",
    "\n",
    "train_elec = train.buildings[3].elec\n",
    "test_elec = test.buildings[3].elec"
   ]
  },
  {
   "cell_type": "markdown",
   "metadata": {},
   "source": [
    "#### Then goes data exploration: \n",
    "* First plot summarises power data for the building 3 for the site meter and various appliances during the training period\n",
    "* Second plot indicates Site meter reading during the test period"
   ]
  },
  {
   "cell_type": "code",
   "execution_count": null,
   "metadata": {},
   "outputs": [],
   "source": [
    "train_elec.plot()"
   ]
  },
  {
   "cell_type": "code",
   "execution_count": null,
   "metadata": {},
   "outputs": [],
   "source": [
    "test_elec.mains().plot()"
   ]
  },
  {
   "cell_type": "code",
   "execution_count": null,
   "metadata": {},
   "outputs": [],
   "source": [
    "mains = train_elec.mains()\n",
    "mains_df = next(mains.load())\n",
    "mains_df.head()"
   ]
  },
  {
   "cell_type": "markdown",
   "metadata": {},
   "source": [
    "### Prepare a Method for Predicting and Calculating the F-Score\n"
   ]
  },
  {
   "cell_type": "code",
   "execution_count": null,
   "metadata": {},
   "outputs": [],
   "source": [
    "from nilmtk.disaggregate import CombinatorialOptimisation, FHMM\n",
    "from nilmtk.tests.testingtools import data_dir\n",
    "from sklearn.metrics import f1_score"
   ]
  },
  {
   "cell_type": "markdown",
   "metadata": {},
   "source": [
    "### Disaggregate and Calculate the F-Score With this function\n",
    "\n",
    "Until the calculating F-score we mainly used used a sample code from the NILMTK documentation as for the reference for the model training and evaluation. Below the relevant steps are summarised:\n",
    "*  Train the model on the training set\n",
    "*  Read test data by chunks, apply the model to calculate predicted appliance power in the `pred` and ground truth data in the `gt`\n",
    "*  Try to fit the data into the main memory by concatenating chunks into a pandas dataframe\n",
    "*  Correspond data with the local timezone and put human-readable labels\n",
    "\n",
    "As we are using F1 score the model evaluation, we transfer from the energy disaggregation to the classification problem. Hence, if the predicted power is more than a threshold, the device is classified as ON. \n",
    "\n",
    "F1 score is defined as a harmonic mean of the precision and recall metrics in the binary classification problem. \n",
    "Later we will explain the choice of the threshold value. \n"
   ]
  },
  {
   "cell_type": "code",
   "execution_count": null,
   "metadata": {},
   "outputs": [],
   "source": [
    "def disaggr_and_fscore(algorithm,train_elec, \n",
    "                       test_elec,train_timezone, \n",
    "                       threshold_w = 5,\n",
    "                       show_debug=True):\n",
    "    \n",
    "    start = time.time()\n",
    "    algorithm.train(train_elec,sample_period=6)\n",
    "    end = time.time() \n",
    "    print(\"Train runtime =\", end-start, \"seconds.\")\n",
    "    pred = {}\n",
    "    gt= {}\n",
    "\n",
    "    for i, chunk in enumerate(test_elec.mains().load(sample_period=6)):\n",
    "        chunk_drop_na = (chunk).dropna()\n",
    "        pred[i] = algorithm.disaggregate_chunk(chunk_drop_na)\n",
    "        gt[i]={}\n",
    "\n",
    "        for meter in test_elec.submeters().meters:\n",
    "            # Only use the meters that we trained on (this saves time!)    \n",
    "            gt[i][meter] = next(meter.load(sample_period=6))\n",
    "        gt[i] = pd.DataFrame({k:v.squeeze() for k,v in iteritems(gt[i])}, index=next(iter(gt[i].values())).index).dropna()\n",
    "\n",
    "    gt_overall = pd.concat(gt)\n",
    "    gt_overall.index = gt_overall.index.droplevel()\n",
    "    pred_overall = pd.concat(pred)\n",
    "    pred_overall.index = pred_overall.index.droplevel()\n",
    "\n",
    "    gt_overall = gt_overall[pred_overall.columns]\n",
    "\n",
    "    gt_index_utc = gt_overall.index.tz_convert(\"UTC\")\n",
    "    pred_index_utc = pred_overall.index.tz_convert(\"UTC\")\n",
    "    common_index_utc = gt_index_utc.intersection(pred_index_utc)\n",
    "\n",
    "\n",
    "    common_index_local = common_index_utc.tz_convert(train_timezone)\n",
    "\n",
    "    gt_overall = gt_overall.ix[common_index_local]\n",
    "    pred_overall = pred_overall.ix[common_index_local]\n",
    "    \n",
    "    if show_debug:\n",
    "        gt_overall.head()\n",
    "\n",
    "    appliance_labels = [m.label() for m in gt_overall.columns.values]\n",
    "    gt_overall.columns = appliance_labels\n",
    "    pred_overall.columns = appliance_labels\n",
    "    \n",
    "    if show_debug:\n",
    "        pred_overall.head()\n",
    "        pred_overall.head(100000).plot(title=\"Pred\",figsize=(15,5))\n",
    "        gt_overall.head(100000).plot(title=\"GT\",figsize=(15,5))\n",
    "        plt.legend()\n",
    "\n",
    "    resulting_f_score = {}\n",
    "    #threshold_w = 5 #moved to function declaration\n",
    "    for appliance in gt_overall.columns:\n",
    "        temp_gt = gt_overall[appliance].copy()\n",
    "        temp_gt[temp_gt<=threshold_w] = 0\n",
    "        temp_gt[temp_gt>threshold_w] = 1\n",
    "        temp_pred = pred_overall[appliance].copy()\n",
    "        temp_pred[temp_pred<=threshold_w] = 0\n",
    "        temp_pred[temp_pred>threshold_w] = 1\n",
    "        resulting_f_score[appliance] = f1_score(temp_gt, temp_pred)\n",
    "\n",
    "    return resulting_f_score"
   ]
  },
  {
   "cell_type": "code",
   "execution_count": null,
   "metadata": {},
   "outputs": [],
   "source": [
    "classifiers = {'CO':CombinatorialOptimisation(), 'FHMM':FHMM()}\n",
    "resulting_f_scores = {}"
   ]
  },
  {
   "cell_type": "markdown",
   "metadata": {},
   "source": [
    "We are comparing two algorithms - Combinatorial Optimisation and Factorial Hidden Markov Model.\n"
   ]
  },
  {
   "cell_type": "markdown",
   "metadata": {},
   "source": [
    "### 3.1 Combinatorial Optimisation"
   ]
  },
  {
   "cell_type": "markdown",
   "metadata": {},
   "source": [
    "We now train the Combinatorial Optimisation model and apply it on the test data.  Below are two plots showing predicted and the ground truth power consumption.\n"
   ]
  },
  {
   "cell_type": "code",
   "execution_count": null,
   "metadata": {},
   "outputs": [],
   "source": [
    "resulting_f_scores['CO'] = disaggr_and_fscore(CombinatorialOptimisation(),\n",
    "                                              train_elec, \n",
    "                                              test_elec,train.metadata['timezone'],\n",
    "                                              show_debug=True)"
   ]
  },
  {
   "cell_type": "markdown",
   "metadata": {},
   "source": [
    "### 3.2 FHMM"
   ]
  },
  {
   "cell_type": "markdown",
   "metadata": {},
   "source": [
    "The same for the FHMM model:"
   ]
  },
  {
   "cell_type": "code",
   "execution_count": null,
   "metadata": {},
   "outputs": [],
   "source": [
    "resulting_f_scores['FHMM'] = disaggr_and_fscore(FHMM(),\n",
    "                                                train_elec, \n",
    "                                                test_elec,\n",
    "                                                train.metadata['timezone'],\n",
    "                                                show_debug=False)"
   ]
  },
  {
   "cell_type": "markdown",
   "metadata": {},
   "source": [
    "## Exercise 4"
   ]
  },
  {
   "cell_type": "markdown",
   "metadata": {},
   "source": [
    "## Compare F-Score of CO and FHMM\n"
   ]
  },
  {
   "cell_type": "code",
   "execution_count": null,
   "metadata": {},
   "outputs": [],
   "source": [
    "f_score_df={}\n",
    "f_score_df['FHMM']=pd.Series(resulting_f_scores['FHMM'])\n",
    "f_score_df['CO'] = pd.Series(resulting_f_scores['CO'])\n",
    "f_score_df = pd.DataFrame(f_score_df)\n",
    "f_score_df"
   ]
  },
  {
   "cell_type": "code",
   "execution_count": null,
   "metadata": {},
   "outputs": [],
   "source": [
    "f_score_df.plot(kind='bar')"
   ]
  },
  {
   "cell_type": "markdown",
   "metadata": {},
   "source": [
    "Here one can see F-scores for the individual appliance level using CO and FHMM algorithms.\n",
    "CO performed significantly better for the kettle classification, showing F-score of `0.016418` against `0.009945`. It also showed slightly higher F-metric for the Electric space heater and the Laptop computer but not that significant. In contrast, FHMM has an F-score of 0.091067 for the projector versus 0.087560 by CO but the diffence is very small. Thus, we conclude that Combinatorial Optimisation performed better. \n",
    "\n",
    "Now why we chose a threshold of 5. It was actually retrieved empirically since a valud of 0 yielded inadequate results:\n",
    "\n",
    "We chose empirically a classification threshold to be 5 since a threshold of 0 gave inadequate F-score:\n",
    "\n",
    "\n",
    "\n",
    "| Appliance        | CO           | FHMM  |\n",
    "| ------------- |-------------| -----|\n",
    "| Electric space heater|\t0.189193\t|1.000000 |\n",
    "| Kettle|\t0.396679|\t0.912690 |\n",
    "| Laptop computer|\t0.397019|\t0.375311|\n",
    "| Projector|\t0.088132|\t0.091067 |"
   ]
  },
  {
   "cell_type": "markdown",
   "metadata": {},
   "source": [
    "## Conclusion and findings"
   ]
  },
  {
   "cell_type": "markdown",
   "metadata": {},
   "source": [
    "foo"
   ]
  }
 ],
 "metadata": {
  "kernelspec": {
   "display_name": "Python (nilmtk)",
   "language": "python",
   "name": "nilmtk-env"
  },
  "language_info": {
   "codemirror_mode": {
    "name": "ipython",
    "version": 3
   },
   "file_extension": ".py",
   "mimetype": "text/x-python",
   "name": "python",
   "nbconvert_exporter": "python",
   "pygments_lexer": "ipython3",
   "version": "3.6.5"
  }
 },
 "nbformat": 4,
 "nbformat_minor": 2
}
