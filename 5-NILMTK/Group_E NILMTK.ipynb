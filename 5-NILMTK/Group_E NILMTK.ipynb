{
 "cells": [
  {
   "cell_type": "markdown",
   "metadata": {},
   "source": [
    "# Group E Assignment 5: NILMTK"
   ]
  },
  {
   "cell_type": "markdown",
   "metadata": {},
   "source": [
    "## Exercise 1"
   ]
  },
  {
   "cell_type": "markdown",
   "metadata": {},
   "source": [
    "### Load UKDALE data into memory and print out the metadata"
   ]
  },
  {
   "cell_type": "code",
   "execution_count": 2,
   "metadata": {},
   "outputs": [
    {
     "data": {
      "text/html": [
       "<ul><li><strong>description_of_subjects</strong>: 4 MSc students and 1 PhD student.</li><li><strong>meter_devices</strong>: <ul><li><strong>EcoManagerTxPlug</strong>: <ul><li><strong>max_sample_period</strong>: 120</li><li><strong>model_url</strong>: <a href=\"https://shop.edfenergy.com/Item.aspx?id=540\">https://shop.edfenergy.com/Item.aspx?id=540</a></li><li><strong>wireless_configuration</strong>: <ul><li><strong>base</strong>: <a href=\"creators: [Jack Kelly] model: rfm_edf_ecomanager model_url: https://github.com/JackKelly/rfm_edf_ecomanager/\n",
       "\">creators: [Jack Kelly] model: rfm_edf_ecomanager model_url: https://github.com/JackKelly/rfm_edf_ecomanager/\n",
       "</a></li><li><strong>protocol</strong>: custom</li><li><strong>carrier_frequency</strong>: 434</li></ul></li><li><strong>brand</strong>: EcoManager</li><li><strong>measurements</strong>: <ul><li>{'lower_limit': 0, 'upper_limit': 3300, 'physical_quantity': 'power', 'type': 'active'}</li></ul></li><li><strong>data_logger</strong>: <ul><li><strong>model</strong>: rfm_ecomanager_logger</li><li><strong>creators</strong>: <ul><li>Jack Kelly</li></ul></li><li><strong>model_url</strong>: <a href=\"https://github.com/JackKelly/rfm_ecomanager_logger\">https://github.com/JackKelly/rfm_ecomanager_logger</a></li></ul></li><li><strong>sample_period</strong>: 6</li><li><strong>wireless</strong>: True</li><li><strong>brand_url</strong>: <a href=\"http://www.edfenergy.com/products-services/for-your-home/ecomanager\">http://www.edfenergy.com/products-services/for-your-home/ecomanager</a></li><li><strong>model</strong>: EcoManagerTxPlug</li><li><strong>seller</strong>: EDF Energy</li><li><strong>manufacturer</strong>: Current Cost / Sailwider</li></ul></li><li><strong>CurrentCostTx</strong>: <ul><li><strong>max_sample_period</strong>: 120</li><li><strong>model_url</strong>: <a href=\"http://www.currentcost.com/product-transmitter.html\">http://www.currentcost.com/product-transmitter.html</a></li><li><strong>wireless_configuration</strong>: <ul><li><strong>base</strong>: <a href=\"creators: [Jack Kelly] model: rfm_edf_ecomanager model_url: https://github.com/JackKelly/rfm_edf_ecomanager/\n",
       "\">creators: [Jack Kelly] model: rfm_edf_ecomanager model_url: https://github.com/JackKelly/rfm_edf_ecomanager/\n",
       "</a></li><li><strong>protocol</strong>: custom</li><li><strong>carrier_frequency</strong>: 434</li></ul></li><li><strong>measurements</strong>: <ul><li>{'lower_limit': 0, 'upper_limit': 25000, 'physical_quantity': 'power', 'type': 'apparent'}</li></ul></li><li><strong>data_logger</strong>: <ul><li><strong>model</strong>: rfm_ecomanager_logger</li><li><strong>creators</strong>: <ul><li>Jack Kelly</li></ul></li><li><strong>model_url</strong>: <a href=\"https://github.com/JackKelly/rfm_ecomanager_logger\">https://github.com/JackKelly/rfm_ecomanager_logger</a></li></ul></li><li><strong>sample_period</strong>: 6</li><li><strong>wireless</strong>: True</li><li><strong>model</strong>: CurrentCost Tx</li><li><strong>manufacturer</strong>: Current Cost</li></ul></li><li><strong>SoundCardPowerMeter</strong>: <ul><li><strong>max_sample_period</strong>: 3</li><li><strong>wireless</strong>: False</li><li><strong>model_url</strong>: <a href=\"https://github.com/JackKelly/snd_card_power_meter\">https://github.com/JackKelly/snd_card_power_meter</a></li><li><strong>model</strong>: Sound Card Power Meter</li><li><strong>measurements</strong>: <ul><li>{'lower_limit': 0, 'upper_limit': 25000, 'physical_quantity': 'power', 'type': 'active'}</li><li>{'lower_limit': 0, 'upper_limit': 25000, 'physical_quantity': 'power', 'type': 'apparent'}</li><li>{'lower_limit': 180, 'upper_limit': 275, 'physical_quantity': 'voltage', 'description': 'RMS voltage'}</li></ul></li><li><strong>manufacturer</strong>: Jack Kelly / Imperial College London</li><li><strong>sample_period</strong>: 1</li></ul></li><li><strong>EcoManagerWholeHouseTx</strong>: <ul><li><strong>max_sample_period</strong>: 120</li><li><strong>model_url</strong>: <a href=\"https://shop.edfenergy.com/Item.aspx?id=547\">https://shop.edfenergy.com/Item.aspx?id=547</a></li><li><strong>wireless_configuration</strong>: <ul><li><strong>base</strong>: <a href=\"creators: [Jack Kelly] model: rfm_edf_ecomanager model_url: https://github.com/JackKelly/rfm_edf_ecomanager/\n",
       "\">creators: [Jack Kelly] model: rfm_edf_ecomanager model_url: https://github.com/JackKelly/rfm_edf_ecomanager/\n",
       "</a></li><li><strong>protocol</strong>: custom</li><li><strong>carrier_frequency</strong>: 434</li></ul></li><li><strong>brand</strong>: EcoManager</li><li><strong>measurements</strong>: <ul><li>{'lower_limit': 0, 'upper_limit': 25000, 'physical_quantity': 'power', 'type': 'apparent'}</li></ul></li><li><strong>data_logger</strong>: <ul><li><strong>model</strong>: rfm_ecomanager_logger</li><li><strong>creators</strong>: <ul><li>Jack Kelly</li></ul></li><li><strong>model_url</strong>: <a href=\"https://github.com/JackKelly/rfm_ecomanager_logger\">https://github.com/JackKelly/rfm_ecomanager_logger</a></li></ul></li><li><strong>sample_period</strong>: 6</li><li><strong>wireless</strong>: True</li><li><strong>brand_url</strong>: <a href=\"http://www.edfenergy.com/products-services/for-your-home/ecomanager\">http://www.edfenergy.com/products-services/for-your-home/ecomanager</a></li><li><strong>model</strong>: EcoManagerWholeHouseTx</li><li><strong>seller</strong>: EDF Energy</li><li><strong>site_meter</strong>: True</li><li><strong>manufacturer</strong>: Current Cost / Sailwider</li></ul></li></ul></li><li><strong>description</strong>: Appliance-by-appliance and whole-home power demand for 5 UK homes. Appliance power demand was recorded once every 6 seconds. Whole-home power demand was recorded once every 6 seconds for all homes and additionally at 16kHz for homes 1, 2 and 5. Detailed metadata is included.</li><li><strong>rights_list</strong>: <ul><li>{'name': 'Creative Commons Attribution 4.0 International (CC BY 4.0)', 'uri': 'http://creativecommons.org/licenses/by/4.0/'}</li></ul></li><li><strong>long_name</strong>: UK Domestic Appliance-Level Electricity</li><li><strong>geo_location</strong>: <ul><li><strong>latitude</strong>: 51.464462</li><li><strong>country</strong>: GB</li><li><strong>longitude</strong>: -0.076544</li><li><strong>locality</strong>: London</li></ul></li><li><strong>date</strong>: 2015-01-05</li><li><strong>timezone</strong>: Europe/London</li><li><strong>institution</strong>: Imperial College London</li><li><strong>subject</strong>: Disaggregated domestic electricity demand</li><li><strong>publisher</strong>: UK Energy Research Centre Energy Data Centre (UKERC EDC)</li><li><strong>funding</strong>: <ul><li>Jack Kelly's PhD is funded by an EPSRC DTA</li><li>Hardware necessary for this project was funded from Jack Kelly's Intel EU PhD Fellowship</li></ul></li><li><strong>name</strong>: UK-DALE</li><li><strong>number_of_buildings</strong>: 5</li><li><strong>related_documents</strong>: <ul><li><a href=\"Dataset is available for download from http://www.doc.ic.ac.uk/~dk3810/data/\">Dataset is available for download from http://www.doc.ic.ac.uk/~dk3810/data/</a></li><li><a href=\"Dataset is also available from the UK Energy Research Council's Energy Data Centre: The 1-second data is available from http://data.ukedc.rl.ac.uk/cgi-bin/dataset_catalogue/view.cgi.py?id=19 and the 6-second data is available from http://data.ukedc.rl.ac.uk/cgi-bin/dataset_catalogue/view.cgi.py?id=18 but please note that this archive is updated less frequently than the data on www.doc.ic.ac.uk/~dk3810/data/\">Dataset is also available from the UK Energy Research Council's Energy Data Centre: The 1-second data is available from http://data.ukedc.rl.ac.uk/cgi-bin/dataset_catalogue/view.cgi.py?id=19 and the 6-second data is available from http://data.ukedc.rl.ac.uk/cgi-bin/dataset_catalogue/view.cgi.py?id=18 but please note that this archive is updated less frequently than the data on www.doc.ic.ac.uk/~dk3810/data/</a></li><li><a href=\"This research paper describes the data collection: http://arxiv.org/abs/1404.0284\">This research paper describes the data collection: http://arxiv.org/abs/1404.0284</a></li><li><a href=\"The following poster describes the metering setup and provides some analyses: Jack Kelly and William Knottenbelt. Smart Meter Disaggregation: Data Collection & Analysis. UK Energy Research Council Summer School Ph.D. poster session. June 2013. PDF: http://www.doc.ic.ac.uk/~dk3810/writing/UKERC_poster2013_v2.pdf\">The following poster describes the metering setup and provides some analyses: Jack Kelly and William Knottenbelt. Smart Meter Disaggregation: Data Collection & Analysis. UK Energy Research Council Summer School Ph.D. poster session. June 2013. PDF: http://www.doc.ic.ac.uk/~dk3810/writing/UKERC_poster2013_v2.pdf</a></li></ul></li><li><strong>contact</strong>: jack.kelly@imperial.ac.uk</li><li><strong>timeframe</strong>: <ul><li><strong>start</strong>: 2012-11-09T22:28:15+00:00</li><li><strong>end</strong>: 2015-01-05T06:26:44+00:00</li></ul></li><li><strong>geospatial_coverage</strong>: Southern England</li><li><strong>creators</strong>: <ul><li>Kelly, Jack</li></ul></li><li><strong>schema</strong>: <a href=\"https://github.com/nilmtk/nilm_metadata/tree/v0.2\">https://github.com/nilmtk/nilm_metadata/tree/v0.2</a></li></ul>"
      ],
      "text/plain": [
       "<IPython.core.display.HTML object>"
      ]
     },
     "metadata": {},
     "output_type": "display_data"
    }
   ],
   "source": [
    "from nilmtk import DataSet\n",
    "from nilmtk.utils import print_dict\n",
    "from nilmtk.timeframe import TimeFrame\n",
    "\n",
    "ukdale = DataSet('./data/ukdale.h5')\n",
    "print_dict(ukdale.metadata)\n",
    "\n",
    "#train = DataSet('/path/redd.h5')"
   ]
  },
  {
   "cell_type": "markdown",
   "metadata": {},
   "source": [
    "### Print out the sub-metered appliances in each building"
   ]
  },
  {
   "cell_type": "code",
   "execution_count": 3,
   "metadata": {
    "scrolled": true
   },
   "outputs": [
    {
     "data": {
      "text/html": [
       "<ul><li><strong>1</strong>: Building(instance=1, dataset='UK-DALE')</li><li><strong>2</strong>: Building(instance=2, dataset='UK-DALE')</li><li><strong>3</strong>: Building(instance=3, dataset='UK-DALE')</li><li><strong>4</strong>: Building(instance=4, dataset='UK-DALE')</li><li><strong>5</strong>: Building(instance=5, dataset='UK-DALE')</li></ul>"
      ],
      "text/plain": [
       "<IPython.core.display.HTML object>"
      ]
     },
     "metadata": {},
     "output_type": "display_data"
    }
   ],
   "source": [
    "print_dict(ukdale.buildings)"
   ]
  },
  {
   "cell_type": "code",
   "execution_count": 4,
   "metadata": {
    "scrolled": false
   },
   "outputs": [
    {
     "name": "stdout",
     "output_type": "stream",
     "text": [
      "Appliances of Building 1\n",
      "MeterGroup(meters=\n",
      "  ElecMeter(instance=2, building=1, dataset='UK-DALE', appliances=[Appliance(type='boiler', instance=1)])\n",
      "  ElecMeter(instance=3, building=1, dataset='UK-DALE', appliances=[Appliance(type='solar thermal pumping station', instance=1)])\n",
      "  ElecMeter(instance=4, building=1, dataset='UK-DALE', appliances=[Appliance(type='laptop computer', instance=1), Appliance(type='laptop computer', instance=3)])\n",
      "  ElecMeter(instance=5, building=1, dataset='UK-DALE', appliances=[Appliance(type='washer dryer', instance=1)])\n",
      "  ElecMeter(instance=6, building=1, dataset='UK-DALE', appliances=[Appliance(type='dish washer', instance=1)])\n",
      "  ElecMeter(instance=7, building=1, dataset='UK-DALE', appliances=[Appliance(type='television', instance=1)])\n",
      "  ElecMeter(instance=8, building=1, dataset='UK-DALE', appliances=[Appliance(type='light', instance=1), Appliance(type='light', instance=2)])\n",
      "  ElecMeter(instance=9, building=1, dataset='UK-DALE', appliances=[Appliance(type='HTPC', instance=1)])\n",
      "  ElecMeter(instance=10, building=1, dataset='UK-DALE', appliances=[Appliance(type='kettle', instance=1), Appliance(type='food processor', instance=1), Appliance(type='toasted sandwich maker', instance=1)])\n",
      "  ElecMeter(instance=11, building=1, dataset='UK-DALE', appliances=[Appliance(type='toaster', instance=1), Appliance(type='kitchen aid', instance=1), Appliance(type='food processor', instance=2)])\n",
      "  ElecMeter(instance=12, building=1, dataset='UK-DALE', appliances=[Appliance(type='fridge freezer', instance=1)])\n",
      "  ElecMeter(instance=13, building=1, dataset='UK-DALE', appliances=[Appliance(type='microwave', instance=1)])\n",
      "  ElecMeter(instance=14, building=1, dataset='UK-DALE', appliances=[Appliance(type='computer monitor', instance=1)])\n",
      "  ElecMeter(instance=15, building=1, dataset='UK-DALE', appliances=[Appliance(type='audio system', instance=1)])\n",
      "  ElecMeter(instance=16, building=1, dataset='UK-DALE', appliances=[Appliance(type='breadmaker', instance=1)])\n",
      "  ElecMeter(instance=17, building=1, dataset='UK-DALE', appliances=[Appliance(type='audio amplifier', instance=1)])\n",
      "  ElecMeter(instance=18, building=1, dataset='UK-DALE', appliances=[Appliance(type='broadband router', instance=1)])\n",
      "  ElecMeter(instance=19, building=1, dataset='UK-DALE', appliances=[Appliance(type='light', instance=3)])\n",
      "  ElecMeter(instance=20, building=1, dataset='UK-DALE', appliances=[Appliance(type='soldering iron', instance=1)])\n",
      "  ElecMeter(instance=21, building=1, dataset='UK-DALE', appliances=[Appliance(type='ethernet switch', instance=1), Appliance(type='USB hub', instance=1)])\n",
      "  ElecMeter(instance=22, building=1, dataset='UK-DALE', appliances=[Appliance(type='vacuum cleaner', instance=1)])\n",
      "  ElecMeter(instance=23, building=1, dataset='UK-DALE', appliances=[Appliance(type='light', instance=4)])\n",
      "  ElecMeter(instance=24, building=1, dataset='UK-DALE', appliances=[Appliance(type='light', instance=5)])\n",
      "  ElecMeter(instance=25, building=1, dataset='UK-DALE', appliances=[Appliance(type='light', instance=16)])\n",
      "  ElecMeter(instance=26, building=1, dataset='UK-DALE', appliances=[Appliance(type='light', instance=6)])\n",
      "  ElecMeter(instance=27, building=1, dataset='UK-DALE', appliances=[Appliance(type='tablet computer charger', instance=1)])\n",
      "  ElecMeter(instance=28, building=1, dataset='UK-DALE', appliances=[Appliance(type='active subwoofer', instance=1)])\n",
      "  ElecMeter(instance=29, building=1, dataset='UK-DALE', appliances=[Appliance(type='light', instance=7)])\n",
      "  ElecMeter(instance=30, building=1, dataset='UK-DALE', appliances=[Appliance(type='radio', instance=1)])\n",
      "  ElecMeter(instance=31, building=1, dataset='UK-DALE', appliances=[Appliance(type='light', instance=8)])\n",
      "  ElecMeter(instance=32, building=1, dataset='UK-DALE', appliances=[Appliance(type='wireless phone charger', instance=1), Appliance(type='audio system', instance=2)])\n",
      "  ElecMeter(instance=33, building=1, dataset='UK-DALE', appliances=[Appliance(type='light', instance=9)])\n",
      "  ElecMeter(instance=34, building=1, dataset='UK-DALE', appliances=[Appliance(type='mobile phone charger', instance=1)])\n",
      "  ElecMeter(instance=35, building=1, dataset='UK-DALE', appliances=[Appliance(type='light', instance=10)])\n",
      "  ElecMeter(instance=36, building=1, dataset='UK-DALE', appliances=[Appliance(type='coffee maker', instance=1)])\n",
      "  ElecMeter(instance=37, building=1, dataset='UK-DALE', appliances=[Appliance(type='radio', instance=2)])\n",
      "  ElecMeter(instance=38, building=1, dataset='UK-DALE', appliances=[Appliance(type='mobile phone charger', instance=2), Appliance(type='baby monitor', instance=2), Appliance(type='radio', instance=3)])\n",
      "  ElecMeter(instance=39, building=1, dataset='UK-DALE', appliances=[Appliance(type='hair dryer', instance=1)])\n",
      "  ElecMeter(instance=40, building=1, dataset='UK-DALE', appliances=[Appliance(type='hair straighteners', instance=1)])\n",
      "  ElecMeter(instance=41, building=1, dataset='UK-DALE', appliances=[Appliance(type='clothes iron', instance=1)])\n",
      "  ElecMeter(instance=42, building=1, dataset='UK-DALE', appliances=[Appliance(type='oven', instance=1)])\n",
      "  ElecMeter(instance=43, building=1, dataset='UK-DALE', appliances=[Appliance(type='computer', instance=1), Appliance(type='external hard disk', instance=1)])\n",
      "  ElecMeter(instance=44, building=1, dataset='UK-DALE', appliances=[Appliance(type='light', instance=11)])\n",
      "  ElecMeter(instance=45, building=1, dataset='UK-DALE', appliances=[Appliance(type='light', instance=12)])\n",
      "  ElecMeter(instance=46, building=1, dataset='UK-DALE', appliances=[Appliance(type='baby monitor', instance=1)])\n",
      "  ElecMeter(instance=47, building=1, dataset='UK-DALE', appliances=[Appliance(type='charger', instance=1)])\n",
      "  ElecMeter(instance=48, building=1, dataset='UK-DALE', appliances=[Appliance(type='light', instance=13)])\n",
      "  ElecMeter(instance=49, building=1, dataset='UK-DALE', appliances=[Appliance(type='light', instance=14)])\n",
      "  ElecMeter(instance=50, building=1, dataset='UK-DALE', appliances=[Appliance(type='light', instance=15)])\n",
      "  ElecMeter(instance=51, building=1, dataset='UK-DALE', appliances=[Appliance(type='desktop computer', instance=1)])\n",
      "  ElecMeter(instance=52, building=1, dataset='UK-DALE', appliances=[Appliance(type='fan', instance=1)])\n",
      "  ElecMeter(instance=53, building=1, dataset='UK-DALE', appliances=[Appliance(type='printer', instance=1)])\n",
      "  ElecMeter(instance=54, building=1, dataset='UK-DALE', site_meter, appliances=[Appliance(type='immersion heater', instance=1), Appliance(type='water pump', instance=1), Appliance(type='security alarm', instance=1), Appliance(type='fan', instance=2), Appliance(type='drill', instance=1), Appliance(type='laptop computer', instance=2)])\n",
      ")\n",
      "---\n",
      "Appliances of Building 2\n",
      "MeterGroup(meters=\n",
      "  ElecMeter(instance=2, building=2, dataset='UK-DALE', appliances=[Appliance(type='laptop computer', instance=1)])\n",
      "  ElecMeter(instance=3, building=2, dataset='UK-DALE', appliances=[Appliance(type='computer monitor', instance=1)])\n",
      "  ElecMeter(instance=4, building=2, dataset='UK-DALE', appliances=[Appliance(type='active speaker', instance=1)])\n",
      "  ElecMeter(instance=5, building=2, dataset='UK-DALE', appliances=[Appliance(type='computer', instance=1)])\n",
      "  ElecMeter(instance=6, building=2, dataset='UK-DALE', appliances=[Appliance(type='broadband router', instance=1)])\n",
      "  ElecMeter(instance=7, building=2, dataset='UK-DALE', appliances=[Appliance(type='external hard disk', instance=1)])\n",
      "  ElecMeter(instance=8, building=2, dataset='UK-DALE', appliances=[Appliance(type='kettle', instance=1)])\n",
      "  ElecMeter(instance=9, building=2, dataset='UK-DALE', appliances=[Appliance(type='rice cooker', instance=1)])\n",
      "  ElecMeter(instance=10, building=2, dataset='UK-DALE', appliances=[Appliance(type='running machine', instance=1)])\n",
      "  ElecMeter(instance=11, building=2, dataset='UK-DALE', appliances=[Appliance(type='laptop computer', instance=2)])\n",
      "  ElecMeter(instance=12, building=2, dataset='UK-DALE', appliances=[Appliance(type='washing machine', instance=1)])\n",
      "  ElecMeter(instance=13, building=2, dataset='UK-DALE', appliances=[Appliance(type='dish washer', instance=1)])\n",
      "  ElecMeter(instance=14, building=2, dataset='UK-DALE', appliances=[Appliance(type='fridge', instance=1)])\n",
      "  ElecMeter(instance=15, building=2, dataset='UK-DALE', appliances=[Appliance(type='microwave', instance=1)])\n",
      "  ElecMeter(instance=16, building=2, dataset='UK-DALE', appliances=[Appliance(type='toaster', instance=1)])\n",
      "  ElecMeter(instance=17, building=2, dataset='UK-DALE', appliances=[Appliance(type='games console', instance=1)])\n",
      "  ElecMeter(instance=18, building=2, dataset='UK-DALE', appliances=[Appliance(type='modem', instance=1)])\n",
      "  ElecMeter(instance=19, building=2, dataset='UK-DALE', appliances=[Appliance(type='cooker', instance=1)])\n",
      "  ElecMeter(instance=20, building=2, dataset='UK-DALE', site_meter, appliances=[])\n",
      ")\n",
      "---\n",
      "Appliances of Building 3\n",
      "MeterGroup(meters=\n",
      "  ElecMeter(instance=1, building=3, dataset='UK-DALE', site_meter, appliances=[])\n",
      "  ElecMeter(instance=2, building=3, dataset='UK-DALE', appliances=[Appliance(type='kettle', instance=1)])\n",
      "  ElecMeter(instance=3, building=3, dataset='UK-DALE', appliances=[Appliance(type='electric space heater', instance=1)])\n",
      "  ElecMeter(instance=4, building=3, dataset='UK-DALE', appliances=[Appliance(type='laptop computer', instance=1)])\n",
      "  ElecMeter(instance=5, building=3, dataset='UK-DALE', appliances=[Appliance(type='projector', instance=1)])\n",
      ")\n",
      "---\n",
      "Appliances of Building 4\n",
      "MeterGroup(meters=\n",
      "  ElecMeter(instance=1, building=4, dataset='UK-DALE', site_meter, appliances=[])\n",
      "  ElecMeter(instance=2, building=4, dataset='UK-DALE', appliances=[Appliance(type='television', instance=1), Appliance(type='DVD player', instance=1), Appliance(type='set top box', instance=1), Appliance(type='light', instance=1)])\n",
      "  ElecMeter(instance=3, building=4, dataset='UK-DALE', appliances=[Appliance(type='kettle', instance=1), Appliance(type='radio', instance=1)])\n",
      "  ElecMeter(instance=4, building=4, dataset='UK-DALE', appliances=[Appliance(type='boiler', instance=1)])\n",
      "  ElecMeter(instance=5, building=4, dataset='UK-DALE', appliances=[Appliance(type='freezer', instance=1)])\n",
      "  ElecMeter(instance=6, building=4, dataset='UK-DALE', appliances=[Appliance(type='washing machine', instance=1), Appliance(type='microwave', instance=1), Appliance(type='breadmaker', instance=1)])\n",
      ")\n",
      "---\n",
      "Appliances of Building 5\n",
      "MeterGroup(meters=\n",
      "  ElecMeter(instance=2, building=5, dataset='UK-DALE', appliances=[Appliance(type='active speaker', instance=1)])\n",
      "  ElecMeter(instance=3, building=5, dataset='UK-DALE', appliances=[Appliance(type='desktop computer', instance=1)])\n",
      "  ElecMeter(instance=4, building=5, dataset='UK-DALE', appliances=[Appliance(type='hair dryer', instance=1)])\n",
      "  ElecMeter(instance=5, building=5, dataset='UK-DALE', appliances=[Appliance(type='television', instance=1)])\n",
      "  ElecMeter(instance=6, building=5, dataset='UK-DALE', appliances=[Appliance(type='computer monitor', instance=1)])\n",
      "  ElecMeter(instance=7, building=5, dataset='UK-DALE', appliances=[Appliance(type='running machine', instance=1)])\n",
      "  ElecMeter(instance=8, building=5, dataset='UK-DALE', appliances=[Appliance(type='network attached storage', instance=1)])\n",
      "  ElecMeter(instance=9, building=5, dataset='UK-DALE', appliances=[Appliance(type='server computer', instance=1)])\n",
      "  ElecMeter(instance=10, building=5, dataset='UK-DALE', appliances=[Appliance(type='computer monitor', instance=2)])\n",
      "  ElecMeter(instance=11, building=5, dataset='UK-DALE', appliances=[Appliance(type='games console', instance=1)])\n",
      "  ElecMeter(instance=12, building=5, dataset='UK-DALE', appliances=[Appliance(type='clothes iron', instance=1)])\n",
      "  ElecMeter(instance=13, building=5, dataset='UK-DALE', appliances=[Appliance(type='coffee maker', instance=1)])\n",
      "  ElecMeter(instance=14, building=5, dataset='UK-DALE', appliances=[Appliance(type='desktop computer', instance=2)])\n",
      "  ElecMeter(instance=15, building=5, dataset='UK-DALE', appliances=[Appliance(type='toaster', instance=1)])\n",
      "  ElecMeter(instance=16, building=5, dataset='UK-DALE', appliances=[Appliance(type='audio amplifier', instance=1)])\n",
      "  ElecMeter(instance=17, building=5, dataset='UK-DALE', appliances=[Appliance(type='set top box', instance=1)])\n",
      "  ElecMeter(instance=18, building=5, dataset='UK-DALE', appliances=[Appliance(type='kettle', instance=1)])\n",
      "  ElecMeter(instance=19, building=5, dataset='UK-DALE', appliances=[Appliance(type='fridge freezer', instance=1)])\n",
      "  ElecMeter(instance=20, building=5, dataset='UK-DALE', appliances=[Appliance(type='electric oven', instance=1)])\n",
      "  ElecMeter(instance=21, building=5, dataset='UK-DALE', appliances=[Appliance(type='electric stove', instance=1)])\n",
      "  ElecMeter(instance=22, building=5, dataset='UK-DALE', appliances=[Appliance(type='dish washer', instance=1)])\n",
      "  ElecMeter(instance=23, building=5, dataset='UK-DALE', appliances=[Appliance(type='microwave', instance=1)])\n",
      "  ElecMeter(instance=24, building=5, dataset='UK-DALE', appliances=[Appliance(type='washer dryer', instance=1)])\n",
      "  ElecMeter(instance=25, building=5, dataset='UK-DALE', appliances=[Appliance(type='vacuum cleaner', instance=1)])\n",
      "  ElecMeter(instance=26, building=5, dataset='UK-DALE', site_meter, appliances=[])\n",
      ")\n",
      "---\n"
     ]
    }
   ],
   "source": [
    "for build in ukdale.buildings:\n",
    "    print(\"Appliances of Building \" +str(build))\n",
    "    print(ukdale.buildings[build].elec)\n",
    "    print(\"---\")"
   ]
  },
  {
   "cell_type": "code",
   "execution_count": 6,
   "metadata": {},
   "outputs": [],
   "source": [
    "elec = ukdale.buildings[1].elec"
   ]
  },
  {
   "cell_type": "code",
   "execution_count": 35,
   "metadata": {},
   "outputs": [
    {
     "name": "stdout",
     "output_type": "stream",
     "text": [
      "Calculating total_energy for ElecMeterID(instance=54, building=1, dataset='UK-DALE') ...   "
     ]
    },
    {
     "data": {
      "text/plain": [
       "apparent   NaN\n",
       "dtype: float64"
      ]
     },
     "execution_count": 35,
     "metadata": {},
     "output_type": "execute_result"
    }
   ],
   "source": [
    "elec.total_energy()"
   ]
  },
  {
   "cell_type": "code",
   "execution_count": 8,
   "metadata": {},
   "outputs": [
    {
     "name": "stdout",
     "output_type": "stream",
     "text": [
      "Calculating total_energy for ElecMeterID(instance=53, building=1, dataset='UK-DALE') ...    total_energy for ElecMeterID(instance=17, building=1, dataset='UK-DALE') ...   total_energy for ElecMeterID(instance=44, building=1, dataset='UK-DALE') ...   "
     ]
    },
    {
     "data": {
      "text/plain": [
       "apparent   NaN\n",
       "dtype: float64"
      ]
     },
     "execution_count": 8,
     "metadata": {},
     "output_type": "execute_result"
    }
   ],
   "source": [
    "elec.submeters().total_energy()"
   ]
  },
  {
   "cell_type": "markdown",
   "metadata": {},
   "source": [
    "### Calculate the total energy consumption for building 1 in kWh"
   ]
  },
  {
   "cell_type": "code",
   "execution_count": 36,
   "metadata": {},
   "outputs": [
    {
     "data": {
      "text/plain": [
       "apparent    6.354473\n",
       "active      5.431495\n",
       "dtype: float64"
      ]
     },
     "execution_count": 36,
     "metadata": {},
     "output_type": "execute_result"
    }
   ],
   "source": [
    "elec.mains().total_energy()"
   ]
  },
  {
   "cell_type": "markdown",
   "metadata": {},
   "source": [
    "### Print out the type of power for mains and sub-meters (apparent, active, or reactive)"
   ]
  },
  {
   "cell_type": "code",
   "execution_count": 37,
   "metadata": {},
   "outputs": [
    {
     "data": {
      "text/plain": [
       "['active', 'apparent']"
      ]
     },
     "execution_count": 37,
     "metadata": {},
     "output_type": "execute_result"
    }
   ],
   "source": [
    "elec.mains().available_ac_types('power')"
   ]
  },
  {
   "cell_type": "code",
   "execution_count": 38,
   "metadata": {
    "scrolled": true
   },
   "outputs": [
    {
     "data": {
      "text/plain": [
       "['active', 'apparent']"
      ]
     },
     "execution_count": 38,
     "metadata": {},
     "output_type": "execute_result"
    }
   ],
   "source": [
    "elec.submeters().available_ac_types('power')"
   ]
  },
  {
   "cell_type": "markdown",
   "metadata": {},
   "source": [
    "## Exercise 2"
   ]
  },
  {
   "cell_type": "markdown",
   "metadata": {},
   "source": [
    "### Select and plot the power that is used by the following appliances of building 1 for start='2014-04-28' and end='2014-04-29'"
   ]
  },
  {
   "cell_type": "code",
   "execution_count": 25,
   "metadata": {},
   "outputs": [],
   "source": [
    "ukdale_window = DataSet('./data/ukdale.h5')\n",
    "ukdale_window.set_window(start='2014-04-28', end='2014-04-29')\n",
    "\n",
    "fridge_meter = ukdale_window.buildings[1].elec['fridge freezer']\n",
    "light_meter = ukdale_window.buildings[1].elec['light']"
   ]
  },
  {
   "cell_type": "code",
   "execution_count": 30,
   "metadata": {},
   "outputs": [
    {
     "name": "stderr",
     "output_type": "stream",
     "text": [
      "/Users/hardanimaulana/anaconda2/envs/nilmtk-env/lib/python3.6/site-packages/nilmtk/elecmeter.py:189: RuntimeWarning: Multiple appliances are associated with meter {} but none are marked as the dominant appliance. Hence returning the first appliance in the list.\n",
      "  ' returning the first appliance in the list.', RuntimeWarning)\n"
     ]
    },
    {
     "data": {
      "text/plain": [
       "<matplotlib.axes._subplots.AxesSubplot at 0xa1e75a2b0>"
      ]
     },
     "execution_count": 30,
     "metadata": {},
     "output_type": "execute_result"
    },
    {
     "data": {
      "image/png": "[encoded data removed]",
      "text/plain": [
       "<Figure size 432x288 with 1 Axes>"
      ]
     },
     "metadata": {},
     "output_type": "display_data"
    }
   ],
   "source": [
    "fridge_meter.plot()\n",
    "light_meter.plot()"
   ]
  },
  {
   "cell_type": "code",
   "execution_count": 39,
   "metadata": {},
   "outputs": [
    {
     "name": "stdout",
     "output_type": "stream",
     "text": [
      "Loading data for meter ElecMeterID(instance=54, building=1, dataset='UK-DALE')     \n",
      "Done loading data all meters for this chunk.\n"
     ]
    },
    {
     "data": {
      "text/html": [
       "<div>\n",
       "<style scoped>\n",
       "    .dataframe tbody tr th:only-of-type {\n",
       "        vertical-align: middle;\n",
       "    }\n",
       "\n",
       "    .dataframe tbody tr th {\n",
       "        vertical-align: top;\n",
       "    }\n",
       "\n",
       "    .dataframe thead tr th {\n",
       "        text-align: left;\n",
       "    }\n",
       "</style>\n",
       "<table border=\"1\" class=\"dataframe\">\n",
       "  <thead>\n",
       "    <tr>\n",
       "      <th>physical_quantity</th>\n",
       "      <th>power</th>\n",
       "      <th>voltage</th>\n",
       "      <th>power</th>\n",
       "    </tr>\n",
       "    <tr>\n",
       "      <th>type</th>\n",
       "      <th>apparent</th>\n",
       "      <th></th>\n",
       "      <th>active</th>\n",
       "    </tr>\n",
       "  </thead>\n",
       "  <tbody>\n",
       "    <tr>\n",
       "      <th>2014-04-28 00:00:00+01:00</th>\n",
       "      <td>NaN</td>\n",
       "      <td>NaN</td>\n",
       "      <td>4.000000</td>\n",
       "    </tr>\n",
       "    <tr>\n",
       "      <th>2014-04-28 00:00:06+01:00</th>\n",
       "      <td>241.339996</td>\n",
       "      <td>241.539993</td>\n",
       "      <td>229.830002</td>\n",
       "    </tr>\n",
       "    <tr>\n",
       "      <th>2014-04-28 00:00:12+01:00</th>\n",
       "      <td>241.289993</td>\n",
       "      <td>241.460007</td>\n",
       "      <td>321.580017</td>\n",
       "    </tr>\n",
       "    <tr>\n",
       "      <th>2014-04-28 00:00:18+01:00</th>\n",
       "      <td>241.220001</td>\n",
       "      <td>241.570007</td>\n",
       "      <td>321.570007</td>\n",
       "    </tr>\n",
       "    <tr>\n",
       "      <th>2014-04-28 00:00:24+01:00</th>\n",
       "      <td>241.529999</td>\n",
       "      <td>241.669998</td>\n",
       "      <td>322.640015</td>\n",
       "    </tr>\n",
       "  </tbody>\n",
       "</table>\n",
       "</div>"
      ],
      "text/plain": [
       "physical_quantity               power     voltage       power\n",
       "type                         apparent                  active\n",
       "2014-04-28 00:00:00+01:00         NaN         NaN    4.000000\n",
       "2014-04-28 00:00:06+01:00  241.339996  241.539993  229.830002\n",
       "2014-04-28 00:00:12+01:00  241.289993  241.460007  321.580017\n",
       "2014-04-28 00:00:18+01:00  241.220001  241.570007  321.570007\n",
       "2014-04-28 00:00:24+01:00  241.529999  241.669998  322.640015"
      ]
     },
     "execution_count": 39,
     "metadata": {},
     "output_type": "execute_result"
    }
   ],
   "source": [
    "all_window = next(ukdale_window.buildings[1].elec.load())\n",
    "all_window.head()"
   ]
  },
  {
   "cell_type": "code",
   "execution_count": 59,
   "metadata": {},
   "outputs": [],
   "source": [
    "all_window['voltage'=='NaN']=0"
   ]
  },
  {
   "cell_type": "code",
   "execution_count": 60,
   "metadata": {},
   "outputs": [
    {
     "data": {
      "text/plain": [
       "<matplotlib.axes._subplots.AxesSubplot at 0xa231ae160>"
      ]
     },
     "execution_count": 60,
     "metadata": {},
     "output_type": "execute_result"
    },
    {
     "data": {
      "image/png": "[encoded data removed]",
      "text/plain": [
       "<Figure size 432x288 with 1 Axes>"
      ]
     },
     "metadata": {},
     "output_type": "display_data"
    }
   ],
   "source": [
    "all_window['power']['active'].plot()"
   ]
  },
  {
   "cell_type": "code",
   "execution_count": null,
   "metadata": {},
   "outputs": [],
   "source": []
  }
 ],
 "metadata": {
  "kernelspec": {
   "display_name": "Python (nilmtk)",
   "language": "python",
   "name": "nilmtk-env"
  }
 },
 "nbformat": 4,
 "nbformat_minor": 2
}
