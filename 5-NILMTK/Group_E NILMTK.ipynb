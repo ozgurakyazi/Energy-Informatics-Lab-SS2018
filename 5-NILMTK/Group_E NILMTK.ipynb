{
 "cells": [
  {
   "cell_type": "markdown",
   "metadata": {},
   "source": [
    "# Group E Assignment 5: NILMTK"
   ]
  },
  {
   "cell_type": "markdown",
   "metadata": {},
   "source": [
    "## Exercise 1"
   ]
  },
  {
   "cell_type": "markdown",
   "metadata": {},
   "source": [
    "### Load UKDALE data into memory and print out the metadata"
   ]
  },
  {
   "cell_type": "code",
   "execution_count": null,
   "metadata": {},
   "outputs": [],
   "source": [
    "from nilmtk import DataSet\n",
    "from nilmtk.utils import print_dict\n",
    "from nilmtk.timeframe import TimeFrame\n",
    "import pandas as pd\n",
    "\n",
    "ukdale = DataSet('./data/ukdale.h5')"
   ]
  },
  {
   "cell_type": "markdown",
   "metadata": {},
   "source": [
    "### 1.2 Print out Metadata"
   ]
  },
  {
   "cell_type": "code",
   "execution_count": null,
   "metadata": {},
   "outputs": [],
   "source": [
    "print_dict(ukdale.metadata)"
   ]
  },
  {
   "cell_type": "markdown",
   "metadata": {},
   "source": [
    "### Print out Buildings"
   ]
  },
  {
   "cell_type": "code",
   "execution_count": null,
   "metadata": {
    "scrolled": false
   },
   "outputs": [],
   "source": [
    "print_dict(ukdale.buildings)"
   ]
  },
  {
   "cell_type": "markdown",
   "metadata": {},
   "source": [
    "### 1.3 Print out the sub-metered appliances in each building"
   ]
  },
  {
   "cell_type": "code",
   "execution_count": null,
   "metadata": {
    "scrolled": true
   },
   "outputs": [],
   "source": [
    "for build in ukdale.buildings:\n",
    "    print(\"Appliances of Building \" +str(build))\n",
    "    print(ukdale.buildings[build].elec.submeters())\n",
    "    print(\"---\")"
   ]
  },
  {
   "cell_type": "code",
   "execution_count": null,
   "metadata": {},
   "outputs": [],
   "source": [
    "elec = ukdale.buildings[1].elec"
   ]
  },
  {
   "cell_type": "markdown",
   "metadata": {},
   "source": [
    "### 1.4 Calculate the total energy consumption for building 1 in kWh"
   ]
  },
  {
   "cell_type": "code",
   "execution_count": null,
   "metadata": {},
   "outputs": [],
   "source": [
    "elec.mains().total_energy()"
   ]
  },
  {
   "cell_type": "markdown",
   "metadata": {},
   "source": [
    "### 1.5 Print out the type of power for mains and sub-meters"
   ]
  },
  {
   "cell_type": "code",
   "execution_count": null,
   "metadata": {},
   "outputs": [],
   "source": [
    "elec.mains().available_ac_types('power')"
   ]
  },
  {
   "cell_type": "code",
   "execution_count": null,
   "metadata": {
    "scrolled": true
   },
   "outputs": [],
   "source": [
    "elec.submeters().available_ac_types('power')"
   ]
  },
  {
   "cell_type": "markdown",
   "metadata": {},
   "source": [
    "## Exercise 2"
   ]
  },
  {
   "cell_type": "markdown",
   "metadata": {},
   "source": [
    "### 2.1 Timeframed \"Fridge Freezer\" and \"Light\" Power Plot"
   ]
  },
  {
   "cell_type": "code",
   "execution_count": null,
   "metadata": {},
   "outputs": [],
   "source": [
    "ukdale_window = DataSet('./data/ukdale.h5')\n",
    "ukdale_window.set_window(start='2014-04-28', end='2014-04-29')\n",
    "\n",
    "fridge_meter = ukdale_window.buildings[1].elec['fridge freezer']\n",
    "light_meter = ukdale_window.buildings[1].elec['light']\n",
    "elec = ukdale_window.buildings[1].elec"
   ]
  },
  {
   "cell_type": "code",
   "execution_count": null,
   "metadata": {},
   "outputs": [],
   "source": [
    "fridge_meter.plot()\n",
    "light_meter.plot()"
   ]
  },
  {
   "cell_type": "markdown",
   "metadata": {},
   "source": [
    "### 2.2 Plot Overall Consumption For that time period"
   ]
  },
  {
   "cell_type": "code",
   "execution_count": null,
   "metadata": {},
   "outputs": [],
   "source": [
    "all_window = next(ukdale_window.buildings[1].elec.load())\n",
    "all_window.head()"
   ]
  },
  {
   "cell_type": "code",
   "execution_count": null,
   "metadata": {},
   "outputs": [],
   "source": [
    "all_window['power'].plot()"
   ]
  },
  {
   "cell_type": "markdown",
   "metadata": {},
   "source": [
    "### 2.3 Calculate and plot the energy consumption fraction for each sub-meter"
   ]
  },
  {
   "cell_type": "code",
   "execution_count": null,
   "metadata": {
    "scrolled": false
   },
   "outputs": [],
   "source": [
    "energy_fraction_per_submeter = elec.submeters().energy_per_meter().transpose().fillna(0)\n",
    "del energy_fraction_per_submeter['reactive']\n",
    "active_en = energy_fraction_per_submeter['active']\n",
    "active_en_frac = active_en/active_en.sum()\n",
    "active_en_frac.plot(kind=\"bar\", figsize=(15,10), title=\"Active Energy Fraction\")"
   ]
  },
  {
   "cell_type": "code",
   "execution_count": null,
   "metadata": {},
   "outputs": [],
   "source": [
    "apparent_en = energy_fraction_per_submeter['apparent']\n",
    "apparent_en_frac = apparent_en/apparent_en.sum()\n",
    "apparent_en_frac.plot(kind=\"bar\", figsize=(15,10), title=\"Apparent Energy Fraction\")"
   ]
  },
  {
   "cell_type": "markdown",
   "metadata": {},
   "source": [
    "### 2.4 Highest Power Consuming Appliance"
   ]
  },
  {
   "cell_type": "code",
   "execution_count": null,
   "metadata": {},
   "outputs": [],
   "source": [
    "max_appliance = elec.submeters().select_top_k(k=1).energy_per_meter()"
   ]
  },
  {
   "cell_type": "markdown",
   "metadata": {},
   "source": [
    "### 2.5 Find appliances of the type “single-phase induction motor”"
   ]
  },
  {
   "cell_type": "code",
   "execution_count": null,
   "metadata": {},
   "outputs": [],
   "source": [
    "elec.select_using_appliances(category='single-phase induction motor')"
   ]
  },
  {
   "cell_type": "markdown",
   "metadata": {},
   "source": [
    "## Exercise 3"
   ]
  },
  {
   "cell_type": "code",
   "execution_count": null,
   "metadata": {},
   "outputs": [],
   "source": [
    "import time\n",
    "from six import iteritems\n",
    "import matplotlib.pyplot as plt\n",
    "import numpy as np\n",
    "\n",
    "train = DataSet('./data/ukdale.h5')\n",
    "test = DataSet('./data/ukdale.h5')"
   ]
  },
  {
   "cell_type": "code",
   "execution_count": null,
   "metadata": {},
   "outputs": [],
   "source": [
    "train.set_window(end=\"24-3-2013\")\n",
    "test.set_window(start=\"25-3-2013\")\n",
    "\n",
    "train_elec = train.buildings[3].elec\n",
    "test_elec = test.buildings[3].elec"
   ]
  },
  {
   "cell_type": "code",
   "execution_count": null,
   "metadata": {},
   "outputs": [],
   "source": [
    "train_elec.mains().plot()"
   ]
  },
  {
   "cell_type": "code",
   "execution_count": null,
   "metadata": {},
   "outputs": [],
   "source": [
    "test_elec.mains().plot()"
   ]
  },
  {
   "cell_type": "code",
   "execution_count": null,
   "metadata": {},
   "outputs": [],
   "source": [
    "mains = train_elec.mains()\n",
    "mains_df = next(mains.load())\n",
    "mains_df.head()"
   ]
  },
  {
   "cell_type": "markdown",
   "metadata": {},
   "source": [
    "### Prepare a Method for Predicting and Calculating the F-Score"
   ]
  },
  {
   "cell_type": "code",
   "execution_count": null,
   "metadata": {},
   "outputs": [],
   "source": [
    "from nilmtk.disaggregate import CombinatorialOptimisation, FHMM\n",
    "from nilmtk.tests.testingtools import data_dir\n",
    "from sklearn.metrics import f1_score"
   ]
  },
  {
   "cell_type": "markdown",
   "metadata": {},
   "source": [
    "### Disaggregate and Calculate the F-Score With this function"
   ]
  },
  {
   "cell_type": "code",
   "execution_count": null,
   "metadata": {},
   "outputs": [],
   "source": [
    "def disaggr_and_fscore(algorithm,train_elec, test_elec,train_timezone,show_debug=True):\n",
    "    start = time.time()\n",
    "    algorithm.train(train_elec,sample_period=6)\n",
    "    end = time.time()\n",
    "    print(\"Train runtime =\", end-start, \"seconds.\")\n",
    "    pred = {}\n",
    "    gt= {}\n",
    "\n",
    "    for i, chunk in enumerate(test_elec.mains().load(sample_period=6)):\n",
    "        chunk_drop_na = (chunk).dropna()\n",
    "        pred[i] = algorithm.disaggregate_chunk(chunk_drop_na)\n",
    "        gt[i]={}\n",
    "\n",
    "        for meter in test_elec.submeters().meters:\n",
    "            # Only use the meters that we trained on (this saves time!)    \n",
    "            gt[i][meter] = next(meter.load(sample_period=6))\n",
    "        gt[i] = pd.DataFrame({k:v.squeeze() for k,v in iteritems(gt[i])}, index=next(iter(gt[i].values())).index).dropna()\n",
    "\n",
    "    gt_overall = pd.concat(gt)\n",
    "    gt_overall.index = gt_overall.index.droplevel()\n",
    "    pred_overall = pd.concat(pred)\n",
    "    pred_overall.index = pred_overall.index.droplevel()\n",
    "\n",
    "    gt_overall = gt_overall[pred_overall.columns]\n",
    "\n",
    "    gt_index_utc = gt_overall.index.tz_convert(\"UTC\")\n",
    "    pred_index_utc = pred_overall.index.tz_convert(\"UTC\")\n",
    "    common_index_utc = gt_index_utc.intersection(pred_index_utc)\n",
    "\n",
    "\n",
    "    common_index_local = common_index_utc.tz_convert(train_timezone)\n",
    "\n",
    "    gt_overall = gt_overall.ix[common_index_local]\n",
    "    pred_overall = pred_overall.ix[common_index_local]\n",
    "    \n",
    "    if show_debug:\n",
    "        gt_overall.head()\n",
    "\n",
    "    appliance_labels = [m.label() for m in gt_overall.columns.values]\n",
    "    gt_overall.columns = appliance_labels\n",
    "    pred_overall.columns = appliance_labels\n",
    "    \n",
    "    if show_debug:\n",
    "        pred_overall.head()\n",
    "        pred_overall.head(100000).plot(title=\"Pred\",figsize=(15,5))\n",
    "        gt_overall.head(100000).plot(title=\"GT\",figsize=(15,5))\n",
    "        plt.legend()\n",
    "\n",
    "    resulting_f_score = {}\n",
    "    threshold_w = 5\n",
    "    for appliance in gt_overall.columns:\n",
    "        temp_gt = gt_overall[appliance].copy()\n",
    "        temp_gt[temp_gt<=threshold_w] = 0\n",
    "        temp_gt[temp_gt>threshold_w] = 1\n",
    "        temp_pred = pred_overall[appliance].copy()\n",
    "        temp_pred[temp_pred<=threshold_w] = 0\n",
    "        temp_pred[temp_pred>threshold_w] = 1\n",
    "        resulting_f_score[appliance] = f1_score(temp_gt, temp_pred)\n",
    "\n",
    "    return resulting_f_score"
   ]
  },
  {
   "cell_type": "code",
   "execution_count": null,
   "metadata": {},
   "outputs": [],
   "source": [
    "classifiers = {'CO':CombinatorialOptimisation(), 'FHMM':FHMM()}\n",
    "resulting_f_scores = {}"
   ]
  },
  {
   "cell_type": "markdown",
   "metadata": {},
   "source": [
    "### 3.1 Combinatorial Optimisation"
   ]
  },
  {
   "cell_type": "code",
   "execution_count": null,
   "metadata": {
    "scrolled": false
   },
   "outputs": [],
   "source": [
    "resulting_f_scores['CO'] = disaggr_and_fscore(CombinatorialOptimisation(),train_elec, test_elec,train.metadata['timezone'],show_debug=True)"
   ]
  },
  {
   "cell_type": "markdown",
   "metadata": {},
   "source": [
    "### 3.2 FHMM"
   ]
  },
  {
   "cell_type": "code",
   "execution_count": null,
   "metadata": {},
   "outputs": [],
   "source": [
    "resulting_f_scores['FHMM'] = disaggr_and_fscore(FHMM(),train_elec, test_elec,train.metadata['timezone'],show_debug=True)"
   ]
  },
  {
   "cell_type": "markdown",
   "metadata": {},
   "source": [
    "## Exercise 4"
   ]
  },
  {
   "cell_type": "markdown",
   "metadata": {},
   "source": [
    "### Compare F-Score of CO and FHMM"
   ]
  },
  {
   "cell_type": "code",
   "execution_count": null,
   "metadata": {},
   "outputs": [],
   "source": [
    "f_score_df={}\n",
    "f_score_df['FHMM']=pd.Series(resulting_f_scores['FHMM'])\n",
    "f_score_df['CO'] = pd.Series(resulting_f_scores['CO'])\n",
    "f_score_df = pd.DataFrame(f_score_df)\n",
    "f_score_df"
   ]
  },
  {
   "cell_type": "code",
   "execution_count": null,
   "metadata": {},
   "outputs": [],
   "source": [
    "f_score_df.plot(kind='bar')"
   ]
  }
 ],
 "metadata": {
  "kernelspec": {
   "display_name": "Python (nilmtk5)",
   "language": "python",
   "name": "nilmtk-env"
  },
  "language_info": {
   "codemirror_mode": {
    "name": "ipython",
    "version": 3
   },
   "file_extension": ".py",
   "mimetype": "text/x-python",
   "name": "python",
   "nbconvert_exporter": "python",
   "pygments_lexer": "ipython3",
   "version": "3.6.5"
  }
 },
 "nbformat": 4,
 "nbformat_minor": 2
}
