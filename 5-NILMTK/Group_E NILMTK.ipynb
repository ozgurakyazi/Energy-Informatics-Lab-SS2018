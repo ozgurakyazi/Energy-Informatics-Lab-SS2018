{
 "cells": [
  {
   "cell_type": "markdown",
   "metadata": {},
   "source": [
    "# Group E Assignment 5: NILMTK"
   ]
  },
  {
   "cell_type": "markdown",
   "metadata": {},
   "source": [
    "## Exercise 1"
   ]
  },
  {
   "cell_type": "markdown",
   "metadata": {},
   "source": [
    "### Load UKDALE data into memory and print out the metadata"
   ]
  },
  {
   "cell_type": "code",
   "execution_count": null,
   "metadata": {},
   "outputs": [],
   "source": [
    "from nilmtk import DataSet\n",
    "from nilmtk.utils import print_dict\n",
    "from nilmtk.timeframe import TimeFrame\n",
    "import pandas as pd\n",
    "\n",
    "ukdale = DataSet('./data/ukdale.h5')\n",
    "\n",
    "\n",
    "#train = DataSet('/path/redd.h5')"
   ]
  },
  {
   "cell_type": "markdown",
   "metadata": {},
   "source": [
    "### 1.2 Print out Metadata"
   ]
  },
  {
   "cell_type": "code",
   "execution_count": null,
   "metadata": {},
   "outputs": [],
   "source": [
    "print_dict(ukdale.metadata)"
   ]
  },
  {
   "cell_type": "markdown",
   "metadata": {},
   "source": [
    "### Print out Buildings"
   ]
  },
  {
   "cell_type": "code",
   "execution_count": null,
   "metadata": {
    "scrolled": false
   },
   "outputs": [],
   "source": [
    "print_dict(ukdale.buildings)"
   ]
  },
  {
   "cell_type": "markdown",
   "metadata": {},
   "source": [
    "### 1.3 Print out the sub-metered appliances in each building"
   ]
  },
  {
   "cell_type": "code",
   "execution_count": null,
   "metadata": {
    "scrolled": true
   },
   "outputs": [],
   "source": [
    "for build in ukdale.buildings:\n",
    "    print(\"Appliances of Building \" +str(build))\n",
    "    print(ukdale.buildings[build].elec.submeters())\n",
    "    print(\"---\")"
   ]
  },
  {
   "cell_type": "code",
   "execution_count": null,
   "metadata": {},
   "outputs": [],
   "source": [
    "elec = ukdale.buildings[1].elec"
   ]
  },
  {
   "cell_type": "markdown",
   "metadata": {},
   "source": [
    "### 1.4 Calculate the total energy consumption for building 1 in kWh"
   ]
  },
  {
   "cell_type": "code",
   "execution_count": null,
   "metadata": {},
   "outputs": [],
   "source": [
    "elec.mains().total_energy()"
   ]
  },
  {
   "cell_type": "markdown",
   "metadata": {},
   "source": [
    "### 1.5 Print out the type of power for mains and sub-meters"
   ]
  },
  {
   "cell_type": "code",
   "execution_count": null,
   "metadata": {},
   "outputs": [],
   "source": [
    "elec.mains().available_ac_types('power')"
   ]
  },
  {
   "cell_type": "code",
   "execution_count": null,
   "metadata": {
    "scrolled": true
   },
   "outputs": [],
   "source": [
    "elec.submeters().available_ac_types('power')"
   ]
  },
  {
   "cell_type": "markdown",
   "metadata": {},
   "source": [
    "## Exercise 2"
   ]
  },
  {
   "cell_type": "markdown",
   "metadata": {},
   "source": [
    "### 2.1 Timeframed \"Fridge Freezer\" and \"Light\" Power Plot"
   ]
  },
  {
   "cell_type": "code",
   "execution_count": null,
   "metadata": {},
   "outputs": [],
   "source": [
    "ukdale_window = DataSet('./data/ukdale.h5')\n",
    "ukdale_window.set_window(start='2014-04-28', end='2014-04-29')\n",
    "\n",
    "fridge_meter = ukdale_window.buildings[1].elec['fridge freezer']\n",
    "light_meter = ukdale_window.buildings[1].elec['light']\n",
    "elec = ukdale_window.buildings[1].elec"
   ]
  },
  {
   "cell_type": "code",
   "execution_count": null,
   "metadata": {},
   "outputs": [],
   "source": [
    "fridge_meter.plot()\n",
    "light_meter.plot()"
   ]
  },
  {
   "cell_type": "markdown",
   "metadata": {},
   "source": [
    "### 2.2 Plot Overall Consumption For that time period"
   ]
  },
  {
   "cell_type": "code",
   "execution_count": null,
   "metadata": {},
   "outputs": [],
   "source": [
    "all_window = next(ukdale_window.buildings[1].elec.load())\n",
    "all_window.head()"
   ]
  },
  {
   "cell_type": "code",
   "execution_count": null,
   "metadata": {},
   "outputs": [],
   "source": [
    "all_window['power'].plot()"
   ]
  },
  {
   "cell_type": "markdown",
   "metadata": {},
   "source": [
    "### 2.3 Calculate and plot the energy consumption fraction for each sub-meter"
   ]
  },
  {
   "cell_type": "code",
   "execution_count": null,
   "metadata": {
    "scrolled": false
   },
   "outputs": [],
   "source": [
    "energy_fraction_per_submeter = elec.submeters().energy_per_meter().transpose().fillna(0)\n",
    "del energy_fraction_per_submeter['reactive']\n",
    "active_en = energy_fraction_per_submeter['active']\n",
    "active_en_frac = active_en/active_en.sum()\n",
    "active_en_frac.plot(kind=\"bar\", figsize=(15,10), title=\"Active Energy Fraction\")"
   ]
  },
  {
   "cell_type": "code",
   "execution_count": null,
   "metadata": {},
   "outputs": [],
   "source": [
    "apparent_en = energy_fraction_per_submeter['apparent']\n",
    "apparent_en_frac = apparent_en/apparent_en.sum()\n",
    "apparent_en_frac.plot(kind=\"bar\", figsize=(15,10), title=\"Apparent Energy Fraction\")"
   ]
  },
  {
   "cell_type": "markdown",
   "metadata": {},
   "source": [
    "### 2.4 Highest Power Consuming Appliance"
   ]
  },
  {
   "cell_type": "code",
   "execution_count": null,
   "metadata": {},
   "outputs": [],
   "source": [
    "max_appliance = elec.submeters().select_top_k(k=1).energy_per_meter()"
   ]
  },
  {
   "cell_type": "markdown",
   "metadata": {},
   "source": [
    "### 2.5 Find appliances of the type “single-phase induction motor”"
   ]
  },
  {
   "cell_type": "code",
   "execution_count": null,
   "metadata": {},
   "outputs": [],
   "source": [
    "elec.select_using_appliances(category='single-phase induction motor')"
   ]
  },
  {
   "cell_type": "markdown",
   "metadata": {},
   "source": [
    "## Exercise 3"
   ]
  },
  {
   "cell_type": "code",
   "execution_count": null,
   "metadata": {},
   "outputs": [],
   "source": [
    "import time\n",
    "from six import iteritems\n",
    "import matplotlib.pyplot as plt\n",
    "import numpy as np\n",
    "\n",
    "train = DataSet('./data/ukdale.h5')\n",
    "test = DataSet('./data/ukdale.h5')"
   ]
  },
  {
   "cell_type": "code",
   "execution_count": null,
   "metadata": {},
   "outputs": [],
   "source": [
    "train.set_window(end=\"24-3-2013\")\n",
    "test.set_window(start=\"25-3-2013\")\n",
    "\n",
    "train_elec = train.buildings[3].elec\n",
    "test_elec = test.buildings[3].elec"
   ]
  },
  {
   "cell_type": "code",
   "execution_count": null,
   "metadata": {},
   "outputs": [],
   "source": [
    "train_elec.mains().plot()"
   ]
  },
  {
   "cell_type": "code",
   "execution_count": null,
   "metadata": {},
   "outputs": [],
   "source": [
    "test_elec.mains().plot()"
   ]
  },
  {
   "cell_type": "code",
   "execution_count": null,
   "metadata": {},
   "outputs": [],
   "source": [
    "mains = train_elec.mains()\n",
    "mains_df = next(mains.load())\n",
    "mains_df.head()"
   ]
  },
  {
   "cell_type": "markdown",
   "metadata": {},
   "source": [
    "### Combinatorial Optimisation"
   ]
  },
  {
   "cell_type": "code",
   "execution_count": null,
   "metadata": {},
   "outputs": [],
   "source": [
    "from nilmtk.disaggregate import CombinatorialOptimisation\n",
    "from nilmtk.tests.testingtools import data_dir\n",
    "\n",
    "start = time.time()\n",
    "co = CombinatorialOptimisation()\n",
    "co.train(train_elec)\n",
    "end = time.time()\n",
    "print(\"Train runtime =\", end-start, \"seconds.\")"
   ]
  },
  {
   "cell_type": "code",
   "execution_count": null,
   "metadata": {},
   "outputs": [],
   "source": [
    "pred = {}\n",
    "gt= {}\n",
    "\n",
    "for i, chunk in enumerate(test_elec.mains().load(sample_period=6)):\n",
    "    chunk_drop_na = (chunk).dropna()\n",
    "    pred[i] = co.disaggregate_chunk(chunk_drop_na)\n",
    "    gt[i]={}\n",
    "    \n",
    "    for meter in test_elec.submeters().meters:\n",
    "        # Only use the meters that we trained on (this saves time!)    \n",
    "        gt[i][meter] = next(meter.load(sample_period=6))\n",
    "    gt[i] = pd.DataFrame({k:v.squeeze() for k,v in iteritems(gt[i])}, index=next(iter(gt[i].values())).index).dropna()"
   ]
  },
  {
   "cell_type": "code",
   "execution_count": null,
   "metadata": {},
   "outputs": [],
   "source": [
    "gt_overall = pd.concat(gt)\n",
    "gt_overall.index = gt_overall.index.droplevel()\n",
    "pred_overall = pd.concat(pred)\n",
    "pred_overall.index = pred_overall.index.droplevel()\n",
    "\n",
    "gt_overall = gt_overall[pred_overall.columns]"
   ]
  },
  {
   "cell_type": "code",
   "execution_count": null,
   "metadata": {},
   "outputs": [],
   "source": [
    "gt_index_utc = gt_overall.index.tz_convert(\"UTC\")\n",
    "pred_index_utc = pred_overall.index.tz_convert(\"UTC\")\n",
    "common_index_utc = gt_index_utc.intersection(pred_index_utc)"
   ]
  },
  {
   "cell_type": "code",
   "execution_count": null,
   "metadata": {},
   "outputs": [],
   "source": [
    "local_timezone = train.metadata['timezone']"
   ]
  },
  {
   "cell_type": "code",
   "execution_count": null,
   "metadata": {},
   "outputs": [],
   "source": [
    "common_index_local = common_index_utc.tz_convert(local_timezone)"
   ]
  },
  {
   "cell_type": "code",
   "execution_count": null,
   "metadata": {},
   "outputs": [],
   "source": [
    "gt_overall = gt_overall.ix[common_index_local]\n",
    "pred_overall = pred_overall.ix[common_index_local]"
   ]
  },
  {
   "cell_type": "code",
   "execution_count": null,
   "metadata": {},
   "outputs": [],
   "source": [
    "gt_overall.head()"
   ]
  },
  {
   "cell_type": "code",
   "execution_count": null,
   "metadata": {},
   "outputs": [],
   "source": [
    "appliance_labels = [m.label() for m in gt_overall.columns.values]\n",
    "gt_overall.columns = appliance_labels\n",
    "pred_overall.columns = appliance_labels"
   ]
  },
  {
   "cell_type": "code",
   "execution_count": null,
   "metadata": {},
   "outputs": [],
   "source": [
    "pred_overall.head()"
   ]
  },
  {
   "cell_type": "code",
   "execution_count": null,
   "metadata": {},
   "outputs": [],
   "source": [
    "pred_overall.plot(title=\"Pred\",figsize=(15,5))\n",
    "gt_overall.plot(title=\"GT\",figsize=(15,5))\n",
    "plt.legend()"
   ]
  },
  {
   "cell_type": "code",
   "execution_count": null,
   "metadata": {},
   "outputs": [],
   "source": [
    "from sklearn.metrics import f1_score"
   ]
  },
  {
   "cell_type": "code",
   "execution_count": null,
   "metadata": {},
   "outputs": [],
   "source": [
    "rms_error = {}\n",
    "threshold_w = 0\n",
    "for appliance in gt_overall.columns:\n",
    "    temp_gt = gt_overall[appliance].copy()\n",
    "    temp_gt[temp_gt<=threshold_w] = 0\n",
    "    temp_gt[temp_gt>threshold_w] = 1\n",
    "    temp_pred = pred_overall[appliance].copy()\n",
    "    temp_pred[temp_pred<=threshold_w] = 0\n",
    "    temp_pred[temp_pred>threshold_w] = 1\n",
    "    rms_error[appliance] = f1_score(temp_gt, temp_pred)"
   ]
  },
  {
   "cell_type": "code",
   "execution_count": null,
   "metadata": {},
   "outputs": [],
   "source": [
    "rms_error"
   ]
  }
 ],
 "metadata": {
  "kernelspec": {
   "display_name": "Python (nilmtk5)",
   "language": "python",
   "name": "nilmtk-env"
  },
  "language_info": {
   "codemirror_mode": {
    "name": "ipython",
    "version": 3
   },
   "file_extension": ".py",
   "mimetype": "text/x-python",
   "name": "python",
   "nbconvert_exporter": "python",
   "pygments_lexer": "ipython3",
   "version": "3.6.5"
  }
 },
 "nbformat": 4,
 "nbformat_minor": 2
}
