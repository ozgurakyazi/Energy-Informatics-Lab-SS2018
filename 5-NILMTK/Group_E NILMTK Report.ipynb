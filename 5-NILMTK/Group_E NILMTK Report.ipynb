{
 "cells": [
  {
   "cell_type": "markdown",
   "metadata": {},
   "source": [
    "# Group E Report\n",
    "\n",
    "\n",
    "## NILMTK - An Introduction to Load Disaggregation\n"
   ]
  },
  {
   "cell_type": "markdown",
   "metadata": {},
   "source": [
    "## Introduction\n",
    "Non-Intrusive Load Monitoring is an approach for the energy disaggregation which aims to help to predict individual appliances power and their behavior through the whole household power meter. One can directly conclude that there is no need of the individual sensors, which makes NILM a cheaper alternative to monitoring appliances. Secondly, this helps to reduce energy consumption, save money, find and flatten peak power loads and, finally, go to sustainability. \n",
    "\n",
    "In this project we are going to explore NILMTK Python-framework through the UKDALE dataset to perform energy disaggregation. "
   ]
  },
  {
   "cell_type": "markdown",
   "metadata": {},
   "source": [
    "### EXERCISE 1: Installation and loading data to perform basic checks\n",
    "\n",
    "In this exercise we prepare framework and UKDALE dataset. UKDALE is an open-access dataset from the UK recording Domestic Appliance-Level Electricity at a sample rate of 16 kHz for the whole-house and at 1/6 Hz for individual appliances. \n",
    "\n",
    "After we load data into memory, we can printout the UKDALE's metadata. In metadata we can see description of the dataset, e.g. which meter devices were used, location of the data reading, date, number of buildings, timeframe, creators etc.\n",
    "\n",
    "The next task is to print out the sub-metered appliances in each building. Here we can see all submeters attached to appliances for each building separately. We conclude that each building has exactly one main meter there are no nested MeterGroups for appliances. Each submeter contains information about its instance, building, as well as appliance (type and instance).\n",
    "\n",
    "The type of power for mains and sub-meters are shown below:\n",
    "```python\n",
    "elec.mains().available_ac_types('power')\n",
    "Out[]: ['active', 'apparent']\n",
    "elec.submeters().available_ac_types('power')\n",
    "Out[]: ['active', 'apparent']\n",
    "```\n",
    "\n",
    "We calculate the total energy consumption for building 1 in kWh and have below result:\n",
    "```python\n",
    "apparent    5835.953591\n",
    "active      5008.108254\n",
    "dtype: float64\n",
    "```\n",
    "\n",
    "We can also get the wiring diagram for the MeterGroup which consist of 53 instances for Building 1:\n",
    "\n",
    "<img src='./images/wirediagram.png'>"
   ]
  },
  {
   "cell_type": "markdown",
   "metadata": {},
   "source": [
    "### EXERCISE 2: Appliances and power consumed\n",
    "\n",
    "We select and plot the power that is used by the following appliances of building 1 from 2014-04-28 until 2014-04-29' for fridge freezer and light as below: \n",
    "\n",
    "<img src='./images/plot1.png'>\n",
    "\n",
    "And the plot of the overall power consumption for a the same day is shown below:\n",
    "\n",
    "<img src='./images/plot2.png'>\n",
    "\n",
    "To get energy fraction per each submeter, we call energy_per_meter() method for the submeters. We are not interested in the reactive power since submeters do not utilize it, hence, we remove it from the consideration. Then we extract active and apparent power from the energy_fraction_per_submeter dataframe and build plots correspondingly. The plot of energy consumption for each sub-meter is shown below for active and apparent power fraction:\n",
    "\n",
    "<img src='./images/plot3.png'>\n",
    "\n",
    "<img src='./images/plot4.png'>\n",
    "\n",
    "#### Data filtering\n",
    "With NILM we can easily filter dataset as we have been practicing in this exercise. Some finding from our filtering task are below:\n",
    "<ol>\n",
    "  <li>The appliance with the highest power consumption in building 1 is instance number 12 which is <b>fridge freezer</b>. </li>\n",
    "  <li>Appliances of the type “single-phase induction motor” consist of:\n",
    "      <ol>\n",
    "          <li>'boiler'</li>\n",
    "          <li>'solar thermal pumping station'</li>\n",
    "          <li>'washer dryer'</li>\n",
    "          <li>'dish washer'</li>\n",
    "          <li>'kettle', 'food processor', 'toasted sandwich maker'</li>\n",
    "          <li>'toaster', 'kitchen aid', 'food processor'</li>\n",
    "          <li>'fridge freezer'</li>\n",
    "          <li>'breadmaker'</li>\n",
    "          <li>'vacuum cleaner'</li>\n",
    "          <li>'fan'</li>\n",
    "          <li>'immersion heater', 'water pump', 'security alarm', 'fan', 'drill', 'laptop computer'</li>\n",
    "      <ol>\n",
    "  </li>\n",
    "</ol>\n"
   ]
  },
  {
   "cell_type": "markdown",
   "metadata": {},
   "source": []
  }
 ],
 "metadata": {
  "kernelspec": {
   "display_name": "Python (nilmtk)",
   "language": "python",
   "name": "nilmtk-env"
  },
  "language_info": {
   "codemirror_mode": {
    "name": "ipython",
    "version": 3
   },
   "file_extension": ".py",
   "mimetype": "text/x-python",
   "name": "python",
   "nbconvert_exporter": "python",
   "pygments_lexer": "ipython3",
   "version": "3.6.5"
  }
 },
 "nbformat": 4,
 "nbformat_minor": 2
}
