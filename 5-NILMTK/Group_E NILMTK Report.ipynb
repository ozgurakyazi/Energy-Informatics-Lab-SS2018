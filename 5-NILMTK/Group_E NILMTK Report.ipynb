{
 "cells": [
  {
   "cell_type": "markdown",
   "metadata": {},
   "source": [
    "# Group E Report\n",
    "\n",
    "\n",
    "## NILMTK - An Introduction to Load Disaggregation\n"
   ]
  },
  {
   "cell_type": "markdown",
   "metadata": {},
   "source": [
    "## Introduction\n",
    "Non-Intrusive Load Monitoring is an approach for the energy disaggregation which aims to help to predict individual appliances power and their behavior through the whole household power meter. One can directly conclude that there is no need of the individual sensors, which makes NILM a cheaper alternative to monitoring appliances. Secondly, this helps to reduce energy consumption, save money, find and flatten peak power loads and, finally, go to sustainability. \n",
    "\n",
    "In this project we are going to explore NILMTK Python-framework through the UKDALE dataset to perform energy disaggregation. "
   ]
  },
  {
   "cell_type": "markdown",
   "metadata": {},
   "source": [
    "### EXERCISE 1: Installation and loading data to perform basic checks\n",
    "\n",
    "In this exercise we prepare framework and UKDALE dataset. UKDALE is an open-access dataset from the UK recording Domestic Appliance-Level Electricity at a sample rate of 16 kHz for the whole-house and at 1/6 Hz for individual appliances. \n",
    "\n",
    "After we load data into memory, we can printout the UKDALE's metadata. In metadata we can see description of the dataset, e.g. which meter devices were used, location of the data reading, date, number of buildings, timeframe, creators etc.\n",
    "\n",
    "The next task is to print out the sub-metered appliances in each building. Here we can see all submeters attached to appliances for each building separately. We conclude that each building has exactly one main meter there are no nested MeterGroups for appliances. Each submeter contains information about its instance, building, as well as appliance (type and instance).\n",
    "\n",
    "We calculate the total energy consumption for building 1 in kWh and have below result:\n",
    "```python\n",
    "apparent    5835.953591\n",
    "active      5008.108254\n",
    "dtype: float64\n",
    "```"
   ]
  },
  {
   "cell_type": "code",
   "execution_count": null,
   "metadata": {},
   "outputs": [],
   "source": []
  }
 ],
 "metadata": {
  "kernelspec": {
   "display_name": "Python (nilmtk)",
   "language": "python",
   "name": "nilmtk-env"
  },
  "language_info": {
   "codemirror_mode": {
    "name": "ipython",
    "version": 3
   },
   "file_extension": ".py",
   "mimetype": "text/x-python",
   "name": "python",
   "nbconvert_exporter": "python",
   "pygments_lexer": "ipython3",
   "version": "3.6.5"
  }
 },
 "nbformat": 4,
 "nbformat_minor": 2
}
