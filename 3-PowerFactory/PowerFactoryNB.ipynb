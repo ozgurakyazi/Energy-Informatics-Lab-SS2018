{
 "cells": [
  {
   "cell_type": "markdown",
   "metadata": {},
   "source": [
    "# Power Factory "
   ]
  },
  {
   "cell_type": "markdown",
   "metadata": {},
   "source": [
    "Group E\n",
    "\n",
    "Project 3 Solution IPYNB"
   ]
  },
  {
   "cell_type": "markdown",
   "metadata": {},
   "source": [
    "## Required Libraries and Setup"
   ]
  },
  {
   "cell_type": "code",
   "execution_count": null,
   "metadata": {
    "collapsed": true
   },
   "outputs": [],
   "source": [
    "import sys\n",
    "sys.path.append('C:/Program Files/DIgSILENT/PowerFactory 15.2/Python/3.4')"
   ]
  },
  {
   "cell_type": "code",
   "execution_count": null,
   "metadata": {
    "collapsed": false
   },
   "outputs": [],
   "source": [
    "import powerfactory as pf\n",
    "import pandas as pd\n",
    "import datetime as dt\n",
    "import os\n",
    "import PythonMagick\n",
    "from IPython.display import Image\n",
    "import time\n",
    "app = pf.GetApplication()\n",
    "app.ActivateProject('LabPowerFactory')"
   ]
  },
  {
   "cell_type": "markdown",
   "metadata": {},
   "source": [
    "## Exercise 2"
   ]
  },
  {
   "cell_type": "markdown",
   "metadata": {},
   "source": [
    "## Necessary Classes"
   ]
  },
  {
   "cell_type": "code",
   "execution_count": null,
   "metadata": {
    "collapsed": true
   },
   "outputs": [],
   "source": [
    "# Load flow calculation class\n",
    "load_flow_class = app.GetFromStudyCase('ComLdf')\n",
    "# Time_object\n",
    "study_time = app.GetFromStudyCase('SetTime')"
   ]
  },
  {
   "cell_type": "markdown",
   "metadata": {},
   "source": [
    "## Get Objects"
   ]
  },
  {
   "cell_type": "code",
   "execution_count": null,
   "metadata": {
    "collapsed": false
   },
   "outputs": [],
   "source": [
    "subs=app.GetCalcRelevantObjects('*.ElmTrfstat')\n",
    "lines=app.GetCalcRelevantObjects('*.ElmLne')\n",
    "feeders=app.GetCalcRelevantObjects('*.ElmFeeder')"
   ]
  },
  {
   "cell_type": "markdown",
   "metadata": {},
   "source": [
    "## Example\n",
    "This is the code which should be executed after each time we change the configuration"
   ]
  },
  {
   "cell_type": "code",
   "execution_count": null,
   "metadata": {
    "collapsed": false
   },
   "outputs": [],
   "source": [
    "\n",
    "load_flow_class.Execute()"
   ]
  },
  {
   "cell_type": "markdown",
   "metadata": {},
   "source": [
    "## Exercise 3"
   ]
  },
  {
   "cell_type": "markdown",
   "metadata": {},
   "source": [
    "## To-Do: Build Incidence Matrix"
   ]
  },
  {
   "cell_type": "markdown",
   "metadata": {},
   "source": [
    "### Example Code"
   ]
  },
  {
   "cell_type": "code",
   "execution_count": null,
   "metadata": {
    "collapsed": false
   },
   "outputs": [],
   "source": [
    "app.GetFromStudyCase('ComLdf').Execute()\n",
    "layers = {}\n",
    "net_layout = sorted(set([sub.GetAttribute('e:pBusbar').GetAttribute('e:ciDistRoot') for sub in subs]))\n",
    "for l in net_layout:\n",
    "    layers[l] = []\n",
    "    for s in subs: \n",
    "        if s.GetAttribute('e:pBusbar').GetAttribute('e:ciDistRoot') == l:\n",
    "            layers[l].append(s.loc_name)\n",
    "layers\n",
    "\n"
   ]
  },
  {
   "cell_type": "markdown",
   "metadata": {},
   "source": [
    "## Radiality Check"
   ]
  },
  {
   "cell_type": "code",
   "execution_count": null,
   "metadata": {
    "collapsed": true
   },
   "outputs": [],
   "source": [
    "def radiality_check(feeders):\n",
    "  radiality_is_met = True\n",
    "  for feeder in feeders:\n",
    "      is_radial = feeder.ciRadial\n",
    "      if is_radial == 0:\n",
    "          return (False, 'Grid is meshed')\n",
    "  return(True, None)"
   ]
  },
  {
   "cell_type": "code",
   "execution_count": null,
   "metadata": {
    "collapsed": false
   },
   "outputs": [],
   "source": [
    "## just to check if the normal \n",
    "radiality_check(feeders)[0]   "
   ]
  },
  {
   "cell_type": "markdown",
   "metadata": {},
   "source": [
    "## Feeded Check"
   ]
  },
  {
   "cell_type": "code",
   "execution_count": null,
   "metadata": {
    "collapsed": true
   },
   "outputs": [],
   "source": [
    "def feeded_check(subs): \n",
    "  all_are_fed = True\n",
    "  for sub in subs:\n",
    "      bus_bar = sub.GetAttribute('e:pBusbar')\n",
    "      is_energized = bus_bar.IsEnergized()\n",
    "      if is_energized == 0:\n",
    "          return (False, sub.loc_name +' Is not energized')\n",
    "  return(True, None)"
   ]
  },
  {
   "cell_type": "code",
   "execution_count": null,
   "metadata": {
    "collapsed": false
   },
   "outputs": [],
   "source": [
    "feeded_check(subs)[0]"
   ]
  }
 ],
 "metadata": {
  "kernelspec": {
   "display_name": "Python 3",
   "language": "python",
   "name": "python3"
  },
  "language_info": {
   "codemirror_mode": {
    "name": "ipython",
    "version": 3
   },
   "file_extension": ".py",
   "mimetype": "text/x-python",
   "name": "python",
   "nbconvert_exporter": "python",
   "pygments_lexer": "ipython3",
   "version": "3.4.5"
  }
 },
 "nbformat": 4,
 "nbformat_minor": 2
}
