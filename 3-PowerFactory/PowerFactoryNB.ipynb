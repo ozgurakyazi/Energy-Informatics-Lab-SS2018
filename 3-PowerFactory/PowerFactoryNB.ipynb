{
 "cells": [
  {
   "cell_type": "markdown",
   "metadata": {},
   "source": [
    "# Power Factory "
   ]
  },
  {
   "cell_type": "markdown",
   "metadata": {},
   "source": [
    "Group E\n",
    "\n",
    "Project 3 Solution IPYNB"
   ]
  },
  {
   "cell_type": "markdown",
   "metadata": {},
   "source": [
    "## Required Libraries and Setup"
   ]
  },
  {
   "cell_type": "code",
   "execution_count": 1,
   "metadata": {
    "collapsed": true
   },
   "outputs": [],
   "source": [
    "import sys\n",
    "sys.path.append('C:/Program Files/DIgSILENT/PowerFactory 15.2/Python/3.4')"
   ]
  },
  {
   "cell_type": "code",
   "execution_count": 2,
   "metadata": {
    "collapsed": false
   },
   "outputs": [
    {
     "data": {
      "text/plain": [
       "0"
      ]
     },
     "execution_count": 2,
     "metadata": {},
     "output_type": "execute_result"
    }
   ],
   "source": [
    "import powerfactory as pf\n",
    "import pandas as pd\n",
    "import datetime as dt\n",
    "import os\n",
    "import PythonMagick\n",
    "from IPython.display import Image\n",
    "import time\n",
    "app = pf.GetApplication()\n",
    "app.ActivateProject('LabPowerFactory')"
   ]
  },
  {
   "cell_type": "markdown",
   "metadata": {},
   "source": [
    "## Exercise 2"
   ]
  },
  {
   "cell_type": "markdown",
   "metadata": {},
   "source": [
    "## Necessary Classes"
   ]
  },
  {
   "cell_type": "code",
   "execution_count": 3,
   "metadata": {
    "collapsed": true
   },
   "outputs": [],
   "source": [
    "# Load flow calculation class\n",
    "load_flow_class = app.GetFromStudyCase('ComLdf')\n",
    "# Time_object\n",
    "study_time = app.GetFromStudyCase('SetTime')"
   ]
  },
  {
   "cell_type": "markdown",
   "metadata": {},
   "source": [
    "## Get Objects"
   ]
  },
  {
   "cell_type": "code",
   "execution_count": 5,
   "metadata": {
    "collapsed": false
   },
   "outputs": [],
   "source": [
    "subs=app.GetCalcRelevantObjects('*.ElmTrfstat')\n",
    "lines=app.GetCalcRelevantObjects('*.ElmLne')\n",
    "feeders=app.GetCalcRelevantObjects('*.ElmFeeder')"
   ]
  },
  {
   "cell_type": "markdown",
   "metadata": {},
   "source": [
    "## Example\n",
    "This is the code which should be executed after each time we change the configuration"
   ]
  },
  {
   "cell_type": "code",
   "execution_count": 10,
   "metadata": {
    "collapsed": false
   },
   "outputs": [
    {
     "data": {
      "text/plain": [
       "0"
      ]
     },
     "execution_count": 10,
     "metadata": {},
     "output_type": "execute_result"
    }
   ],
   "source": [
    "\n",
    "load_flow_class.Execute()"
   ]
  },
  {
   "cell_type": "markdown",
   "metadata": {},
   "source": [
    "## Exercise 3"
   ]
  },
  {
   "cell_type": "markdown",
   "metadata": {},
   "source": [
    "## To-Do: Build Incidence Matrix"
   ]
  },
  {
   "cell_type": "markdown",
   "metadata": {},
   "source": [
    "### Example Code"
   ]
  },
  {
   "cell_type": "code",
   "execution_count": 20,
   "metadata": {
    "collapsed": false
   },
   "outputs": [
    {
     "data": {
      "text/plain": [
       "{2: ['Trafo Substation(1)',\n",
       "  'Trafo Substation(4)',\n",
       "  'Trafo Substation(9)',\n",
       "  'Trafo Substation(16)',\n",
       "  'Trafo Substation(28)',\n",
       "  'Trafo Substation(29)'],\n",
       " 3: ['Trafo Substation(3)',\n",
       "  'Trafo Substation(7)',\n",
       "  'Trafo Substation(11)',\n",
       "  'Trafo Substation(23)',\n",
       "  'Trafo Substation(21)',\n",
       "  'Trafo Substation(27)',\n",
       "  'Trafo Substation(2)'],\n",
       " 4: ['Trafo Substation(14)',\n",
       "  'Trafo Substation(18)',\n",
       "  'Trafo Substation(25)',\n",
       "  'Trafo Substation(26)']}"
      ]
     },
     "execution_count": 20,
     "metadata": {},
     "output_type": "execute_result"
    }
   ],
   "source": [
    "app.GetFromStudyCase('ComLdf').Execute()\n",
    "layers = {}\n",
    "net_layout = sorted(set([sub.GetAttribute('e:pBusbar').GetAttribute('e:ciDistRoot') for sub in subs]))\n",
    "for l in net_layout:\n",
    "    layers[l] = []\n",
    "    for s in subs: \n",
    "        if s.GetAttribute('e:pBusbar').GetAttribute('e:ciDistRoot') == l:\n",
    "            layers[l].append(s.loc_name)\n",
    "layers\n",
    "\n"
   ]
  },
  {
   "cell_type": "markdown",
   "metadata": {},
   "source": [
    "## Radiality Check"
   ]
  },
  {
   "cell_type": "code",
   "execution_count": 11,
   "metadata": {
    "collapsed": true
   },
   "outputs": [],
   "source": [
    "def radiality_check(feeders):\n",
    "  radiality_is_met = True\n",
    "  for feeder in feeders:\n",
    "      is_radial = feeder.ciRadial\n",
    "      if is_radial == 0:\n",
    "          return (False, 'Grid is meshed')\n",
    "  return(True, None)"
   ]
  },
  {
   "cell_type": "code",
   "execution_count": 15,
   "metadata": {
    "collapsed": false
   },
   "outputs": [
    {
     "data": {
      "text/plain": [
       "True"
      ]
     },
     "execution_count": 15,
     "metadata": {},
     "output_type": "execute_result"
    }
   ],
   "source": [
    "## just to check if the normal \n",
    "radiality_check(feeders)[0]   "
   ]
  },
  {
   "cell_type": "markdown",
   "metadata": {},
   "source": [
    "## Feeded Check"
   ]
  },
  {
   "cell_type": "code",
   "execution_count": 16,
   "metadata": {
    "collapsed": true
   },
   "outputs": [],
   "source": [
    "def feeded_check(subs): \n",
    "  all_are_fed = True\n",
    "  for sub in subs:\n",
    "      bus_bar = sub.GetAttribute('e:pBusbar')\n",
    "      is_energized = bus_bar.IsEnergized()\n",
    "      if is_energized == 0:\n",
    "          return (False, sub.loc_name +' Is not energized')\n",
    "  return(True, None)"
   ]
  },
  {
   "cell_type": "code",
   "execution_count": 18,
   "metadata": {
    "collapsed": false
   },
   "outputs": [
    {
     "data": {
      "text/plain": [
       "True"
      ]
     },
     "execution_count": 18,
     "metadata": {},
     "output_type": "execute_result"
    }
   ],
   "source": [
    "feeded_check(subs)[0]"
   ]
  }
 ],
 "metadata": {
  "kernelspec": {
   "display_name": "Python 3",
   "language": "python",
   "name": "python3"
  },
  "language_info": {
   "codemirror_mode": {
    "name": "ipython",
    "version": 3
   },
   "file_extension": ".py",
   "mimetype": "text/x-python",
   "name": "python",
   "nbconvert_exporter": "python",
   "pygments_lexer": "ipython3",
   "version": "3.4.5"
  }
 },
 "nbformat": 4,
 "nbformat_minor": 2
}
