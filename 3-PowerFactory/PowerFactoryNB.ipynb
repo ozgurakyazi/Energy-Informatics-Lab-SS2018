{
 "cells": [
  {
   "cell_type": "markdown",
   "metadata": {},
   "source": [
    "# Power Factory "
   ]
  },
  {
   "cell_type": "markdown",
   "metadata": {},
   "source": [
    "Group E  \n",
    "\n",
    "Project 3 Solution IPYNB"
   ]
  },
  {
   "cell_type": "markdown",
   "metadata": {},
   "source": [
    "DIgSILENT stands for \"__DI__gital __SI__mu__L__ation of __E__lectrical __N__e__T__works\", a software and consulting company providing engineering services in the field of electrical power systems for transmission, distribution, generation and industrial plants. PowerFactory is one of their software product which has ability to analyze transmission, distribution, and industrial electrical power systems. The main objective of this tool is to help planning and operation optimisation. In this exercise we are working with Medium Voltage distribution system structure  to implement configuration checking, planning, and optimising.\n",
    "\n",
    "PowerFactory have API that can have interface with python script by using “powerfactory” module. This solution enables a Python script to have access to a comprehensive range of data available in PowerFactory, including all objects, attributes, commands, and functions. To gain access to the PowerFactory environment the command GetApplication() must be added."
   ]
  },
  {
   "cell_type": "markdown",
   "metadata": {},
   "source": [
    "## Required Libraries and Setup"
   ]
  },
  {
   "cell_type": "code",
   "execution_count": null,
   "metadata": {
    "collapsed": true
   },
   "outputs": [],
   "source": [
    "import sys\n",
    "sys.path.append('C:/Program Files/DIgSILENT/PowerFactory 15.2/Python/3.4')"
   ]
  },
  {
   "cell_type": "code",
   "execution_count": null,
   "metadata": {
    "collapsed": false
   },
   "outputs": [],
   "source": [
    "import numpy as np\n",
    "import powerfactory as pf\n",
    "import pandas as pd\n",
    "import datetime as dt\n",
    "import os\n",
    "import PythonMagick\n",
    "from IPython.display import Image\n",
    "import time\n",
    "from collections import OrderedDict\n",
    "from operator import itemgetter\n",
    "app = pf.GetApplication()\n",
    "app.ActivateProject('LabPowerFactory')"
   ]
  },
  {
   "cell_type": "markdown",
   "metadata": {},
   "source": [
    "## Exercise 2 --> Very little Documentation Dani"
   ]
  },
  {
   "cell_type": "markdown",
   "metadata": {},
   "source": [
    "## Necessary Classes"
   ]
  },
  {
   "cell_type": "code",
   "execution_count": null,
   "metadata": {
    "collapsed": false
   },
   "outputs": [],
   "source": [
    "# Load flow calculation class\n",
    "load_flow_class = app.GetFromStudyCase('ComLdf')\n",
    "# Time_object\n",
    "study_time = app.GetFromStudyCase('SetTime')"
   ]
  },
  {
   "cell_type": "markdown",
   "metadata": {},
   "source": [
    "## Get Objects"
   ]
  },
  {
   "cell_type": "code",
   "execution_count": null,
   "metadata": {
    "collapsed": true
   },
   "outputs": [],
   "source": [
    "subs=app.GetCalcRelevantObjects('*.ElmTrfstat')\n",
    "lines=app.GetCalcRelevantObjects('*.ElmLne')\n",
    "feeders=app.GetCalcRelevantObjects('*.ElmFeeder')"
   ]
  },
  {
   "cell_type": "markdown",
   "metadata": {},
   "source": [
    "## Example\n",
    "This is the code which should be executed after each time we change the configuration"
   ]
  },
  {
   "cell_type": "code",
   "execution_count": null,
   "metadata": {
    "collapsed": false
   },
   "outputs": [],
   "source": [
    "\n",
    "load_flow_class.Execute()"
   ]
  },
  {
   "cell_type": "markdown",
   "metadata": {},
   "source": [
    "## Exercise 3 --> Documentation Dani"
   ]
  },
  {
   "cell_type": "markdown",
   "metadata": {},
   "source": [
    "Radial network structure have characteristic of no closed loop and unique path among any pair nodes. To do radiallity visual checking, we build incidence matrix to evaluate visually whether the network is radially operated or not."
   ]
  },
  {
   "cell_type": "markdown",
   "metadata": {},
   "source": [
    "### Example Code\n",
    "\n",
    "Since there is no duplicates in the result set, we conclude that this network is radial. "
   ]
  },
  {
   "cell_type": "code",
   "execution_count": null,
   "metadata": {
    "collapsed": false,
    "scrolled": true
   },
   "outputs": [],
   "source": [
    "app.GetFromStudyCase('ComLdf').Execute()\n",
    "layers = {}\n",
    "net_layout = sorted(set([sub.GetAttribute('e:pBusbar').GetAttribute('e:ciDistRoot') for sub in subs]))\n",
    "for l in net_layout:\n",
    "    print(l)\n",
    "    layers[l] = []\n",
    "    for s in subs: \n",
    "        if s.GetAttribute('e:pBusbar').GetAttribute('e:ciDistRoot') == l:\n",
    "            layers[l].append(s.loc_name)\n",
    "layers\n",
    "\n"
   ]
  },
  {
   "cell_type": "code",
   "execution_count": null,
   "metadata": {
    "collapsed": false
   },
   "outputs": [],
   "source": [
    "print(subs[2].loc_name)\n",
    "\n",
    "subs[2].GetAttribute('e:pBusbar').GetAttribute('e:ciDistRoot')\n",
    "for sub in subs:\n",
    "    print(sub)"
   ]
  },
  {
   "cell_type": "markdown",
   "metadata": {},
   "source": [
    "## Build Incidence Matrix\n",
    "Here we are building the instance matrix manually.\n",
    "\n",
    "The convention from the supplied example image is used:\n",
    " - Branch number is the number of the corresponding node, which has the incoming connection. For example, 1 -> 2 means, 1 connects to 2, so the branch number is 2.\n",
    " \n",
    "Size of the matrix is 1 + 5 + 17 = 23. \n",
    " - 1 stands for the root 63 kV station\n",
    " - 5 for 20 kV substations\n",
    " - 17 for the trafo substations.\n",
    "\n",
    "Here, we are configuring matrix as follows, first column is for the root node, next 5 columns are for the 20 kV substations and last 17 columns are for trafo substations.  \n",
    "So when we are refering the first trafo substation, corresponding index is calculated as follows:\n",
    "\n",
    "1(root) + 5(20 kV stations) + 1(index we want) - 1(indexing starts from 0)\n",
    "\n",
    "\n",
    "#### Indexes for the Trafo substations\n",
    "We need this correction, since ids of substations have gaps, so they are aligned for more compact incidence matrix.\n",
    "\n",
    "Trafo Substation(1) -> 1\n",
    "\n",
    "Trafo Substation(2) -> 2\n",
    "\n",
    "Trafo Substation(3) -> 3\n",
    "\n",
    "Trafo Substation(4) -> 4\n",
    "\n",
    "Trafo Substation(7) -> 5\n",
    "\n",
    "Trafo Substation(9) -> 6\n",
    "\n",
    "Trafo Substation(11)-> 7\n",
    "\n",
    "Trafo Substation(14)-> 8\n",
    "\n",
    "Trafo Substation(16)-> 9\n",
    "\n",
    "Trafo Substation(18)-> 10\n",
    "\n",
    "Trafo Substation(21)-> 11\n",
    "\n",
    "Trafo Substation(23)-> 12\n",
    "\n",
    "Trafo Substation(25)-> 13\n",
    "\n",
    "Trafo Substation(26)-> 14\n",
    "\n",
    "Trafo Substation(27)-> 15\n",
    "\n",
    "Trafo Substation(28)-> 16\n",
    "\n",
    "Trafo Substation(29)-> 17\n"
   ]
  },
  {
   "cell_type": "code",
   "execution_count": null,
   "metadata": {
    "collapsed": false
   },
   "outputs": [],
   "source": [
    "\n",
    "incidence_mat = np.identity(1 + 5 + 17) * -1\n",
    "\n",
    "# 20 kV substations \n",
    "incidence_mat[1 + 1 - 1,1 - 1] = 1 #1st 20 kV substation, gets the electricity from root\n",
    "incidence_mat[1 + 2 - 1,1 - 1] = 1 #2nd 20 kV substation, gets the electricity from root\n",
    "incidence_mat[1 + 3 - 1,1 - 1] = 1 #3rd 20 kV substation, gets the electricity from root\n",
    "incidence_mat[1 + 4 - 1,1 - 1] = 1 #4th 20 kV substation, gets the electricity from root\n",
    "incidence_mat[1 + 5 - 1,1 - 1] = 1 #5th 20 kV substation, gets the electricity from root\n",
    "\n",
    "\n",
    "# Trafo substations\n",
    "incidence_mat[1 + 5 + 1 - 1,1 + 2 - 1] = 1 #first trafo substation, gets the electricity from 2nd 20 kV subst.\n",
    "incidence_mat[1 + 5 + 2 - 1,1 + 5 + 4 - 1] = 1 # trafo 4 -> trafo 2\n",
    "incidence_mat[1 + 5 + 3 - 1,1 + 5 + 17 - 1] = 1 # trafo 29(index 17) -> trafo 3\n",
    "incidence_mat[1 + 5 + 4 - 1,1 + 1 - 1] = 1 # 20 kV(1) -> trafo 4\n",
    "incidence_mat[1 + 5 + 5 - 1,1 + 5 + 6 - 1] = 1 # trafo 9(index 6) -> trafo 7(index 5)\n",
    "incidence_mat[1 + 5 + 6 - 1,1 + 4 - 1] = 1 # 20 kV(4) -> trafo 9(index 6)\n",
    "incidence_mat[1 + 5 + 7 - 1,1 + 5 + 16 - 1] = 1 # trafo 28(index 16) -> trafo 11(index 7)\n",
    "incidence_mat[1 + 5 + 8 - 1,1 + 5 + 7 - 1] = 1 # trafo 11(index 7) -> trafo 14(index 8)\n",
    "incidence_mat[1 + 5 + 9 - 1,1 + 3 - 1] = 1 # 20 kV(3) -> trafo 16(index 9)\n",
    "incidence_mat[1 + 5 + 10 - 1,1 + 5 + 5 - 1] = 1 # trafo 7(index 5) -> trafo 18(index 10)\n",
    "incidence_mat[1 + 5 + 11 - 1,1 + 5 + 1 - 1] = 1 # trafo 1(index 1) -> trafo 21(index 11)\n",
    "incidence_mat[1 + 5 + 12 - 1,1 + 5 + 4 - 1] = 1 # trafo 4(index 4) -> trafo 23(index 12)\n",
    "incidence_mat[1 + 5 + 13 - 1,1 + 5 + 2 - 1] = 1 # trafo 2(index 2) -> trafo 25(index 13)\n",
    "incidence_mat[1 + 5 + 14 - 1,1 + 5 + 5 - 1] = 1 # trafo 7(index 5) -> trafo 26(index 14)\n",
    "incidence_mat[1 + 5 + 15 - 1,1 + 5 + 17 - 1] = 1 # trafo 29(index 17) -> trafo 27(index 15)\n",
    "incidence_mat[1 + 5 + 16 - 1,1 + 5 - 1] = 1 # 20 kV(5) -> trafo 28(index 16)\n",
    "incidence_mat[1 + 5 + 17 - 1,1 + 3 - 1] = 1 # 20 kV(3) -> trafo 29(index 17)\n",
    "\n",
    "np.set_printoptions(threshold=np.nan)\n",
    "print(incidence_mat)\n",
    "np.set_printoptions(threshold=5)"
   ]
  },
  {
   "cell_type": "markdown",
   "metadata": {},
   "source": [
    "We can understand whether this network is radial or not by checking the rows of this matrix. If there are 2 or more 1 s in a row, it means that there are 2 source nodes for the corresponding node. From this, we conclude that there are multiple paths to the same node, so the radiality is violated. Also if there is a closed loop, there has to be a 2 source nodes for a node. Only one exception to this is i.e 1(root)->2->3->1 , root node has an incoming node. In our case, this is impossible. So, whenever there is a closed loop in the network, there are at least 2 incoming nodes for one node.\n",
    "\n",
    "As an algorithm, we may find the row sums and if the sum is larger than 0(1 for source node, -1 for destination node) then there are 2 incoming nodes for that node. So the maximum value for the row sums should be 0.\n",
    "\n",
    "However, to understand the if the the problem with radiality or a closed loop, one has to investigate further, since this algorithm only checks if it is radial or not, does not give a clue about closed loops."
   ]
  },
  {
   "cell_type": "code",
   "execution_count": null,
   "metadata": {
    "collapsed": false
   },
   "outputs": [],
   "source": [
    "is_radial =  incidence_mat.sum(1).max() == 0.0\n",
    "print(is_radial)"
   ]
  },
  {
   "cell_type": "code",
   "execution_count": null,
   "metadata": {
    "collapsed": false
   },
   "outputs": [],
   "source": [
    "print(feeders)\n",
    "feeders[0].ciRadial\n"
   ]
  },
  {
   "cell_type": "markdown",
   "metadata": {},
   "source": [
    "## Exercise 4 --> Documentation Sasha"
   ]
  },
  {
   "cell_type": "markdown",
   "metadata": {},
   "source": [
    "## Useful Functions Provided"
   ]
  },
  {
   "cell_type": "markdown",
   "metadata": {},
   "source": [
    "## Radiality Check"
   ]
  },
  {
   "cell_type": "code",
   "execution_count": null,
   "metadata": {
    "collapsed": true
   },
   "outputs": [],
   "source": [
    "def radiality_check(feeders):\n",
    "  radiality_is_met = True\n",
    "  for feeder in feeders:\n",
    "      is_radial = feeder.ciRadial\n",
    "      if is_radial == 0:\n",
    "          return (False, 'Grid is meshed')\n",
    "  return(True, None)"
   ]
  },
  {
   "cell_type": "code",
   "execution_count": null,
   "metadata": {
    "collapsed": false
   },
   "outputs": [],
   "source": [
    "## just to check if the normal \n",
    "radiality_check(feeders)[0]   "
   ]
  },
  {
   "cell_type": "markdown",
   "metadata": {},
   "source": [
    "## Feeded Check"
   ]
  },
  {
   "cell_type": "code",
   "execution_count": null,
   "metadata": {
    "collapsed": true
   },
   "outputs": [],
   "source": [
    "def feeded_check(subs): \n",
    "  all_are_fed = True\n",
    "  for sub in subs:\n",
    "      bus_bar = sub.GetAttribute('e:pBusbar')\n",
    "      is_energized = bus_bar.IsEnergized()\n",
    "      if is_energized == 0:\n",
    "          return (False, sub.loc_name +' Is not energized')\n",
    "  return(True, None)"
   ]
  },
  {
   "cell_type": "code",
   "execution_count": null,
   "metadata": {
    "collapsed": false
   },
   "outputs": [],
   "source": [
    "feeded_check(subs)[0]"
   ]
  },
  {
   "cell_type": "markdown",
   "metadata": {},
   "source": [
    "## Calculate Losses"
   ]
  },
  {
   "cell_type": "code",
   "execution_count": null,
   "metadata": {
    "collapsed": true
   },
   "outputs": [],
   "source": [
    "    def total_losses(lines):   \n",
    "        losses = 0\n",
    "        for line in lines:\n",
    "            losses += line.GetAttribute('c:Losses')\n",
    "        return(losses)"
   ]
  },
  {
   "cell_type": "code",
   "execution_count": null,
   "metadata": {
    "collapsed": true
   },
   "outputs": [],
   "source": []
  },
  {
   "cell_type": "markdown",
   "metadata": {},
   "source": [
    "## Graphic Save\n",
    "\n",
    "This saves a graphic of grid and geolocation visualization. The name is given as input(figname) and the resulting images are under graphics/Exercise/RES"
   ]
  },
  {
   "cell_type": "code",
   "execution_count": null,
   "metadata": {
    "collapsed": true
   },
   "outputs": [],
   "source": [
    "project_folder_in_PF = app.GetProjectFolder('netmod')\n",
    "graphic_board_folder = project_folder_in_PF.GetContents()[0].GetContents()\n",
    "\n",
    "\n",
    "grid = [i for i in graphic_board_folder if 'Grid' in i.loc_name][0]\n",
    "geo = [i for i in graphic_board_folder if 'Geographical' in i.loc_name][0]\n",
    "\n",
    "\n",
    "def get_graphic(figname, boards=[grid,geo]):\n",
    "\n",
    "    def project_new_folder(graph_path, grid_name,date_and_time,figname):\n",
    "        new_path = graph_path+'/ '+grid_name\n",
    "        if not os.path.exists(new_path):\n",
    "            os.makedirs(new_path)\n",
    "        graphic_object = app.GetFromStudyCase('SetDesktop')\n",
    "        filename = os.path.join(new_path, date_and_time)\n",
    "        res = graphic_object.WriteWMF(filename)\n",
    "        img = PythonMagick.Image()\n",
    "        img.density(\"125\")\n",
    "        img.read(filename + \".wmf\")\n",
    "        img.write(os.path.join(new_path, figname + \"-\"+ date_and_time + \".png\")) # or .jpg\n",
    "\n",
    "    #graph_path = r'C:\\Users\\.........'\n",
    "    graph_path = r'graphics/Exercise/RES'\n",
    "    project_name = app.GetActiveProject().loc_name\n",
    "    new_path = graph_path +'/ '+ project_name\n",
    "    if not os.path.exists(new_path):\n",
    "        os.makedirs(new_path)\n",
    "\n",
    "    for key in boards:\n",
    "        key.Show()\n",
    "        this_graphic = key.loc_name\n",
    "        graph_name = key.loc_name\n",
    "        sim_dt_time = time.strftime('%Y-%m-%d %H:%M:%S', time.localtime(time.time()))\n",
    "        usable_time = sim_dt_time.replace(':', '.')\n",
    "        project_new_folder(new_path, graph_name , usable_time, figname)"
   ]
  },
  {
   "cell_type": "markdown",
   "metadata": {},
   "source": [
    "### Switch On and Off the Lines\n",
    "\n",
    "One should give all the lines and the lines to switch off as input, namely \"lines\" and \"scene\" respectively."
   ]
  },
  {
   "cell_type": "code",
   "execution_count": null,
   "metadata": {
    "collapsed": true
   },
   "outputs": [],
   "source": [
    "def set_scene(lines, scene):\n",
    "    for line in lines:\n",
    "        if  not line.loc_name in scene:\n",
    "            line.SwitchOn()\n",
    "        else:\n",
    "            line.SwitchOff()"
   ]
  },
  {
   "cell_type": "markdown",
   "metadata": {},
   "source": [
    "## Try different scenarios"
   ]
  },
  {
   "cell_type": "code",
   "execution_count": null,
   "metadata": {
    "collapsed": true
   },
   "outputs": [],
   "source": [
    "\"\"\"\n",
    "Debug = True prints radiality check and wheth\n",
    "\"\"\"\n",
    "def try_scenarios(lines, scenarios, debug = False):\n",
    "\n",
    "    loss_dict = OrderedDict() #result_table\n",
    "\n",
    "    #print(feeded_check(subs))\n",
    "    for sce_key, value in scenarios.items():\n",
    "        \n",
    "        set_scene(lines,scenarios[sce_key]) # The scene is set\n",
    "        \n",
    "        app.GetFromStudyCase('ComLdf').Execute()\n",
    "        subs=app.GetCalcRelevantObjects('*.ElmTrfstat')\n",
    "        lines=app.GetCalcRelevantObjects('*.ElmLne')\n",
    "        feeders=app.GetCalcRelevantObjects('*.ElmFeeder')\n",
    "        loss_dict[sce_key] = total_losses(lines)\n",
    "\n",
    "        if debug == True:\n",
    "            print(sce_key +':')\n",
    "            print(\"radial \" + str(radiality_check(feeders)))\n",
    "            print(\"all feeded \" + str(feeded_check(subs)) + \"\\n\")\n",
    "        \n",
    "    loss_sorted = OrderedDict(sorted(loss_dict.items(), key = itemgetter(1), reverse = False))\n",
    "    return loss_sorted\n",
    "        #get_graphic(\"best_conf\") activate this line if the configuration is the best configuration.\n",
    "        # the line above is for the exercise 4.3, extracts and saves grid and geographical images of the configuration."
   ]
  },
  {
   "cell_type": "markdown",
   "metadata": {},
   "source": [
    "## Define Scenarios"
   ]
  },
  {
   "cell_type": "code",
   "execution_count": null,
   "metadata": {
    "collapsed": false
   },
   "outputs": [],
   "source": [
    "#Define scenarios for exercise 4\n",
    "scenarios_ex4 = OrderedDict()\n",
    "scenarios_ex4['firstScenario']  = ['R(1)', 'R(2)', 'R(3)', 'Line(9)', 'R(5)', 'R(6)', 'R(7)','R(8)']\n",
    "scenarios_ex4['secondScenario'] = ['R(1)', 'R(2)', 'R(3)', 'R(4)', 'R(5)', 'R(6)', 'R(7)','R(8)']\n",
    "scenarios_ex4['thirdScenario']  = ['R(1)', 'R(2)', 'R(3)', 'R(4)', 'Line(20)', 'R(6)', 'R(7)','R(8)']\n",
    "scenarios_ex4['fourthScenario'] = ['R(1)', 'Line(15)', 'R(3)', 'R(4)', 'R(5)', 'R(6)', 'R(7)','R(8)']\n",
    "scenarios_ex4['fifthScenario']  = ['R(1)', 'Line(15)', 'Line(35)', 'R(4)', 'R(5)', 'R(6)', 'R(7)','R(8)']"
   ]
  },
  {
   "cell_type": "markdown",
   "metadata": {},
   "source": [
    "### Apply Scenarios to the grid"
   ]
  },
  {
   "cell_type": "code",
   "execution_count": null,
   "metadata": {
    "collapsed": true
   },
   "outputs": [],
   "source": [
    "exercise4_results = try_scenarios(lines, scenarios_ex4)"
   ]
  },
  {
   "cell_type": "markdown",
   "metadata": {},
   "source": [
    "### Export Graphics"
   ]
  },
  {
   "cell_type": "code",
   "execution_count": null,
   "metadata": {
    "collapsed": false
   },
   "outputs": [],
   "source": [
    "best_scenario = list(exercise4_results.items())[0]\n",
    "\n",
    "set_scene(lines,scenarios_ex4[best_scenario[0]])\n",
    "\n",
    "get_graphic(\"exercise4_best_configuration\")"
   ]
  },
  {
   "cell_type": "markdown",
   "metadata": {},
   "source": [
    "## Exercise 5 --> Documentation Ozgur"
   ]
  },
  {
   "cell_type": "markdown",
   "metadata": {},
   "source": [
    "Explain what are you doing--> Ozgur"
   ]
  },
  {
   "cell_type": "code",
   "execution_count": null,
   "metadata": {
    "collapsed": false
   },
   "outputs": [],
   "source": [
    "for temp_time in range(1,25):\n",
    "    app.GetFromStudyCase('SetTime').SetTime(temp_time)\n",
    "    exercise5_results = try_scenarios(lines, scenarios_ex4)\n",
    "    \n",
    "    best_scenario = list(exercise5_results.items())[0]\n",
    "    set_scene(lines,scenarios_ex4[best_scenario[0]])\n",
    "    get_graphic(\"exercise5_best_configuration_time_\"+str(temp_time))"
   ]
  },
  {
   "cell_type": "markdown",
   "metadata": {},
   "source": [
    "## Exercise 6"
   ]
  },
  {
   "cell_type": "markdown",
   "metadata": {},
   "source": [
    "## Scenarios for exercise 6 (Line 4 is off by default) --> documentation Dani"
   ]
  },
  {
   "cell_type": "code",
   "execution_count": null,
   "metadata": {
    "collapsed": false
   },
   "outputs": [],
   "source": [
    "\"\"\" Define scenarios for exercise 6:\n",
    "    - Line(4) connects  20 kV Substation 4 with trafoSubstations 9 and 17. \n",
    "      Hence we need to find a way around, e.g., by not disabling R8.\n",
    "    - We took configurations from exercise 4 as a basis\n",
    "\"\"\"\n",
    "scenarios_ex6 = OrderedDict()\n",
    "scenarios_ex6['firstScenario']  = ['R(1)', 'R(2)', 'R(3)', 'Line(9)', 'R(5)', 'R(6)', 'R(7)', 'Line(4)']\n",
    "scenarios_ex6['secondScenario'] = ['R(1)', 'R(2)', 'R(3)', 'R(4)', 'R(5)', 'R(6)', 'R(7)', 'Line(4)']\n",
    "scenarios_ex6['thirdScenario']  = ['R(1)', 'R(2)', 'R(3)', 'R(4)', 'R(5)', 'R(6)', 'Line(18)', 'Line(4)']\n",
    "scenarios_ex6['fourthScenario'] = ['R(1)', 'Line(15)', 'R(3)', 'R(4)', 'R(5)', 'R(6)', 'R(7)', 'Line(4)']\n",
    "scenarios_ex6['fifthScenario']  = ['R(1)', 'Line(15)', 'Line(35)', 'R(4)', 'R(5)', 'R(6)', 'R(7)', 'Line(4)']\n",
    "\n",
    "#apply them to the grid\n",
    "try_scenarios(lines, scenarios_ex6, debug = True)"
   ]
  },
  {
   "cell_type": "code",
   "execution_count": null,
   "metadata": {
    "collapsed": true
   },
   "outputs": [],
   "source": [
    "\n"
   ]
  }
 ],
 "metadata": {
  "kernelspec": {
   "display_name": "Python 3",
   "language": "python",
   "name": "python3"
  },
  "language_info": {
   "codemirror_mode": {
    "name": "ipython",
    "version": 3
   },
   "file_extension": ".py",
   "mimetype": "text/x-python",
   "name": "python",
   "nbconvert_exporter": "python",
   "pygments_lexer": "ipython3",
   "version": "3.4.5"
  }
 },
 "nbformat": 4,
 "nbformat_minor": 2
}
