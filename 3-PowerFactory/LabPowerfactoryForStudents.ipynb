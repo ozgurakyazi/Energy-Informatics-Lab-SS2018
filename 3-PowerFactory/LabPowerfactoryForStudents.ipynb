{
 "cells": [
  {
   "cell_type": "markdown",
   "metadata": {
    "slideshow": {
     "slide_type": "slide"
    }
   },
   "source": [
    "<br ><div style=\"max-height:auto; overflow: auto;\">\n",
    "<h3 align=\"center\" style=\"background-color:\"> LAB PowerFactory</h3> \n",
    "</div>"
   ]
  },
  {
   "cell_type": "markdown",
   "metadata": {
    "slideshow": {
     "slide_type": "skip"
    }
   },
   "source": []
  },
  {
   "cell_type": "markdown",
   "metadata": {
    "slideshow": {
     "slide_type": "fragment"
    }
   },
   "source": [
    "<CENTER>\n",
    "    <img  src=\"graphics\\Images\\PF152_Cover.png\"/>\n",
    "<CENTER>"
   ]
  },
  {
   "cell_type": "markdown",
   "metadata": {
    "slideshow": {
     "slide_type": "fragment"
    }
   },
   "source": [
    "- Exercise 1 of this tutorial is dedicated by some work with PowerFactory in windowing mode\n"
   ]
  },
  {
   "cell_type": "markdown",
   "metadata": {
    "slideshow": {
     "slide_type": "subslide"
    }
   },
   "source": [
    "### <span style=\"color:blue\">Exercise 2</span>"
   ]
  },
  {
   "cell_type": "markdown",
   "metadata": {
    "slideshow": {
     "slide_type": "fragment"
    }
   },
   "source": [
    "### Some notes on STRUCTURE of the MEDIUM VOLTAGE DISTRIBUTION SYSTEMS\n"
   ]
  },
  {
   "cell_type": "markdown",
   "metadata": {
    "slideshow": {
     "slide_type": "subslide"
    }
   },
   "source": [
    "<br >\n",
    "#### There are three typical structures:"
   ]
  },
  {
   "cell_type": "markdown",
   "metadata": {
    "slideshow": {
     "slide_type": "fragment"
    }
   },
   "source": [
    " - meshed network (used in HV systems; generally not used in the public electricity distribution)\n",
    "\t\n",
    "\t\n",
    " \n"
   ]
  },
  {
   "cell_type": "markdown",
   "metadata": {
    "slideshow": {
     "slide_type": "fragment"
    }
   },
   "source": [
    "- radial network (used for LV systems), in which the graph is a tree (with no closed loop), and there is a unique path among any pair of nodes"
   ]
  },
  {
   "cell_type": "markdown",
   "metadata": {
    "slideshow": {
     "slide_type": "fragment"
    }
   },
   "source": [
    "- network with weakly meshed structure but radial operation (MV supply, with redundant branches open to form radial structures)"
   ]
  },
  {
   "cell_type": "markdown",
   "metadata": {
    "slideshow": {
     "slide_type": "subslide"
    }
   },
   "source": [
    "#### Structure of the distribution systems:\n",
    "\n",
    "- The Medium Voltage distribution system:\n",
    "    - has a weakly meshed structure\n",
    "    - is operated with radial configurations in order to simplify the\n",
    "    protection schemes\n",
    "    - the radial configuration is formed by opening the redundant\n",
    "    branches"
   ]
  },
  {
   "cell_type": "markdown",
   "metadata": {
    "slideshow": {
     "slide_type": "subslide"
    }
   },
   "source": [
    "#### The choice of the branches to open can be made by using different criteria, the most used being\n",
    "\n",
    "- loss minimization\n",
    "- operation cost minimization\n",
    "- optimization of specific reliability indicators"
   ]
  },
  {
   "cell_type": "markdown",
   "metadata": {
    "slideshow": {
     "slide_type": "subslide"
    }
   },
   "source": [
    "#### DISTRIBUTION NETWORK REPRESENTATION\n",
    "\n",
    "- Since the LV distribution networks are normally formed in Radial structure, we consider our network of study in this configuration\n",
    "    - The electricity distribution system structure can be considered with nodes stratified into layers to simplify its numerical treatment\n",
    "    - In a radial system, the ending node of any branch is unique\n",
    "    - The branches are then denoted by using the number of their ending node"
   ]
  },
  {
   "cell_type": "markdown",
   "metadata": {
    "slideshow": {
     "slide_type": "subslide"
    }
   },
   "source": [
    "#### Distribution system structure \n",
    "\n",
    "- The layer representation of the distribution system structure includes the node-to-branch incidence matrix (L) and its inverse (Γ)\n",
    "- Both matrices can be built by visual inspection, using the conventional values 1 for the sending node and -1 for the ending node\n",
    "- The inverse incidence matrix (Γ) has two fundamental properties Reading a row, the non-zero components are the ones forming the path from the node corresponding to the row and the root\n",
    "- Reading a column, non-zero components appear in the nodes isolated by cutting the branch corresponding to that column\n",
    "\n"
   ]
  },
  {
   "cell_type": "markdown",
   "metadata": {
    "slideshow": {
     "slide_type": "subslide"
    }
   },
   "source": [
    "<img src=\"graphics\\Images\\radial_1.jpg\"/>\n"
   ]
  },
  {
   "cell_type": "markdown",
   "metadata": {
    "slideshow": {
     "slide_type": "subslide"
    }
   },
   "source": [
    "#### Network radiality check\n",
    "\n",
    "- Layer-based procedure to determine whether or not the network is radial\n",
    "    - The supply point are merged and the nodes are listed by layers \n",
    "    - The network is radial if the same nodes do not appear more than once \n",
    "    <br/>        \n",
    "        - 1st layer : nodes 1,7\n",
    "        - 2nd layer : nodes 2,3,8,10\n",
    "        - 3rd layer : nodes 4,5,9,11,12,3\n",
    "        - 4th layer : nodes 6\n",
    "    - The network has 14 nodes(root nodes 0 and 0' included) and in the by-layer representation all nodes have been considered\n",
    "    - No node appears more than once; the network is radial"
   ]
  },
  {
   "cell_type": "markdown",
   "metadata": {
    "slideshow": {
     "slide_type": "subslide"
    }
   },
   "source": [
    "<img src=\"graphics\\Images\\radial_2.jpg\"/>\n"
   ]
  },
  {
   "cell_type": "markdown",
   "metadata": {
    "slideshow": {
     "slide_type": "slide"
    }
   },
   "source": [
    "## Get back to exercise...\n"
   ]
  },
  {
   "cell_type": "markdown",
   "metadata": {
    "slideshow": {
     "slide_type": "subslide"
    }
   },
   "source": [
    "###### set path and import necessary modules\n",
    "\n",
    "```python \n",
    "import sys\n",
    "sys.path.append('C:/Program Files/DIgSILENT/PowerFactory 15.2/Python/3.4')\n",
    "```\n",
    "###### Also we'll need to import following modules ;\n",
    "- pandas\n",
    "- datetime\n",
    "- os\n",
    "- PythonMagick\n",
    "- from IPython.display import Image\n",
    "- time\n"
   ]
  },
  {
   "cell_type": "markdown",
   "metadata": {
    "slideshow": {
     "slide_type": "subslide"
    }
   },
   "source": [
    "To gain access to the PowerFactory environment the command GetApplication() must be added\n",
    "```python \n",
    "app = pf.GetApplication()\n",
    "```\n",
    "\n",
    "### Activate Project\n",
    "``` python \n",
    "app.ActivateProject('LabPowerFactory')\n",
    "```"
   ]
  },
  {
   "cell_type": "markdown",
   "metadata": {
    "slideshow": {
     "slide_type": "slide"
    }
   },
   "source": [
    "## Getting useful classes and elements\n",
    "\n",
    "\n",
    "In this exercise we'll use $substations$, $power$ $lines$ and $feeders$ elements, also command classes $Load$ $flow$ and $Time$ calculation class to the evaluations. This is how to filter and get objects and command objects from PowerFactory api :\n",
    "\n",
    " \n",
    "<br >\n",
    "<br >"
   ]
  },
  {
   "cell_type": "markdown",
   "metadata": {
    "slideshow": {
     "slide_type": "subslide"
    }
   },
   "source": [
    "# Elements\n",
    "```python  \n",
    "subs=app.GetCalcRelevantObjects('*.ElmTrfstat')\n",
    "lines=app.GetCalcRelevantObjects('*.ElmLne')\n",
    "feeders=app.GetCalcRelevantObjects('*.ElmFeeder')\n",
    "```"
   ]
  },
  {
   "cell_type": "markdown",
   "metadata": {
    "slideshow": {
     "slide_type": "subslide"
    }
   },
   "source": [
    "#### Command Classes\n",
    "\n",
    "```python\n",
    "ldf_class=app.GetFromStudyCase('ComLdf') \n",
    "study_time=app.GetFromStudyCase('SetTime')\n",
    "``` "
   ]
  },
  {
   "cell_type": "markdown",
   "metadata": {
    "slideshow": {
     "slide_type": "slide"
    }
   },
   "source": [
    "## Initial configuration \n",
    "\n",
    "Once activate the project, from main menu get images of the grid by the option $export$ image.\n",
    "\n",
    "<br >"
   ]
  },
  {
   "cell_type": "markdown",
   "metadata": {
    "slideshow": {
     "slide_type": "slide"
    }
   },
   "source": [
    "### <span style=\"color:blue\">Exercise 3</span>\n",
    "<br >\n",
    "## Radiality Visual Check"
   ]
  },
  {
   "cell_type": "markdown",
   "metadata": {
    "slideshow": {
     "slide_type": "subslide"
    }
   },
   "source": [
    "- Here we try to build incidence matrix to evaluate visually whether the network is radialy operated or not\n",
    "- In this study case you will see the distance from every distribution substation, not from the 63 kV substation\n",
    "- To do so we must get MV bus of every transformer that is considered as its reference point, this code will return MV bus of substation transformer:\n",
    "\n",
    "    - ```python \n",
    "    GetAttribute('e:pBusbar')\n",
    "``` \n",
    "\n",
    "- To figure out the layer distance from the root use :\n",
    "\n",
    "    - ```python \n",
    "    GetAttribute('e:ciDistRoot')\n",
    "``` \n",
    "<br >\n",
    "- To be able to get distance from root first its necessary to execute once load flow\n",
    "- The script below can help"
   ]
  },
  {
   "cell_type": "markdown",
   "metadata": {
    "slideshow": {
     "slide_type": "subslide"
    }
   },
   "source": [
    "```python \n",
    "app.GetFromStudyCase('ComLdf').Execute()\n",
    "layers = {}\n",
    "net_layout = sorted(set([sub.GetAttribute('e:pBusbar').GetAttribute('e:ciDistRoot') for sub in subs]))\n",
    "for l in net_layout:\n",
    "    layers[l] = []\n",
    "    for s in subs: \n",
    "        if s.GetAttribute('e:pBusbar').GetAttribute('e:ciDistRoot') == l:\n",
    "            layers[l].append(s.loc_name)\n",
    "layers  \n",
    "```\n"
   ]
  },
  {
   "cell_type": "markdown",
   "metadata": {
    "slideshow": {
     "slide_type": "slide"
    }
   },
   "source": [
    "\n",
    "### <span style=\"color:blue\">Exercise 4</span> \n",
    "<br >\n",
    "## Optimal Configuration"
   ]
  },
  {
   "cell_type": "markdown",
   "metadata": {
    "slideshow": {
     "slide_type": "subslide"
    }
   },
   "source": [
    "\n",
    "\n",
    "Check different configurations could be formed by switching off some lines and switching on the others, in order to achieve the optimal configuration which has minimum power losses.\n",
    "Sort every modifying as a cuple of lines in which one has to be switched off and the other one on the contrary. Below you will find an example of different scenarios as some tuples  \n",
    "- In every change in the grid it is important to check whether all transformer substations are being fed and also the radiality condition is not violated. Here are some useful attributes:\n",
    "    - if feed is radial return 1, otherwise 0;\n",
    "    ```python \n",
    "    ciRadial\n",
    "    ```\n",
    "    - this methode check whether the bus is fed, then returns 1, else 0\n",
    "    ```python \n",
    "    IsEnergized() \n",
    "    ```\n",
    "    - to calculate line's power losses;\n",
    "    ```python\n",
    "    GetAttribute('c:Losses')\n",
    "    ```"
   ]
  },
  {
   "cell_type": "markdown",
   "metadata": {
    "slideshow": {
     "slide_type": "subslide"
    }
   },
   "source": [
    "## Scenarios\n",
    "\n",
    "   \n"
   ]
  },
  {
   "cell_type": "markdown",
   "metadata": {
    "slideshow": {
     "slide_type": "fragment"
    }
   },
   "source": [
    "   - Define each scenario as a list of the lines which are supposed to be switched off\n"
   ]
  },
  {
   "cell_type": "markdown",
   "metadata": {
    "slideshow": {
     "slide_type": "fragment"
    }
   },
   "source": [
    "- e.g. \n",
    "```python \n",
    "scenarios = {'firstScenario' : ['R(1)', 'R(2)', 'R(3)', 'R(4)', 'R(5)', 'R(6)', 'R(7)', 'R(8)']}\n",
    "```"
   ]
  },
  {
   "cell_type": "markdown",
   "metadata": {
    "slideshow": {
     "slide_type": "slide"
    }
   },
   "source": [
    "\n",
    "<br >\n",
    "# Functions for evaluation\n",
    "However the following functions could give a clue\n"
   ]
  },
  {
   "cell_type": "markdown",
   "metadata": {
    "slideshow": {
     "slide_type": "subslide"
    }
   },
   "source": [
    "- #### function for radiality check:\n",
    "```python\n",
    "def radiality_check(feeders):\n",
    "    radiality_is_met = True\n",
    "    for feeder in feeders:\n",
    "        is_radial = feeder.ciRadial\n",
    "        if is_radial == 0:\n",
    "            return (False, 'Grid is meshed')\n",
    "    return(True, None)\n",
    "```"
   ]
  },
  {
   "cell_type": "markdown",
   "metadata": {
    "slideshow": {
     "slide_type": "subslide"
    }
   },
   "source": [
    "\n",
    "- #### nodes feedeing check:\n",
    "```python \n",
    "def feeded_check(subs): \n",
    "    all_are_fed = True\n",
    "    for sub in subs:\n",
    "        bus_bar = sub.GetAttribute('e:pBusbar')\n",
    "        is_energized = bus_bar.IsEnergized()\n",
    "        if is_energized == 0:\n",
    "            return (False, sub.loc_name +' Is not energized')\n",
    "    return(True, None)\n",
    "```"
   ]
  },
  {
   "cell_type": "markdown",
   "metadata": {
    "slideshow": {
     "slide_type": "subslide"
    }
   },
   "source": [
    "- #### total losses:\n",
    "\n",
    "```python \n",
    "    def total_losses(lines):   \n",
    "        losses = 0\n",
    "        for line in lines:\n",
    "            losses += line.GetAttribute('c:Losses')\n",
    "        return(losses)\n",
    "```"
   ]
  },
  {
   "cell_type": "markdown",
   "metadata": {
    "slideshow": {
     "slide_type": "slide"
    }
   },
   "source": [
    "### <span style=\"color:blue\">Exercise5</span>\n",
    "<br >\n",
    "## Configuration Plan\n"
   ]
  },
  {
   "cell_type": "markdown",
   "metadata": {
    "slideshow": {
     "slide_type": "subslide"
    }
   },
   "source": [
    "- Just repeat previous exercise one step every 1 hour in 24 hours. You will need to change study time. Note that it is better to do that with epoch time. "
   ]
  },
  {
   "cell_type": "markdown",
   "metadata": {
    "slideshow": {
     "slide_type": "slide"
    }
   },
   "source": [
    "### <span style=\"color:blue\">Exercise 6</span>\n",
    "<br >\n",
    "## Reconfiguration\n"
   ]
  },
  {
   "cell_type": "markdown",
   "metadata": {
    "slideshow": {
     "slide_type": "subslide"
    }
   },
   "source": [
    "- Activate $Operation$ $Scenario$ or alternatively just switch line(4) off and don't turn it on up to end of this exercise\n",
    "- Now using some visual inspection to define possible configurations with low power losses\n",
    "- Evaluate these configurations for the time setings in Exercise 4 and report on the solution with lowest power losses"
   ]
  },
  {
   "cell_type": "markdown",
   "metadata": {
    "slideshow": {
     "slide_type": "slide"
    }
   },
   "source": [
    "### Additional information\n",
    "\n",
    "\n",
    "- In a real distribution network the number of possible configuration, could be out of calculation.\n",
    "\n",
    "- Visually reconfigure is quite impossible, specially reconfiguration in emergency conditions\n",
    "\n",
    "- Although most classical objective functions are total power losses minimizing, but there are many different objectives that could make calculations more complicated, e.g. when it comes to feeder and transformer load balancing or voltage deviations or even Multi-objectives function\n",
    "\n",
    "- This problem cannot always be addressed through exhaustive search on all possible radial configurations in real grid due to prohibitive computation times"
   ]
  },
  {
   "cell_type": "markdown",
   "metadata": {
    "slideshow": {
     "slide_type": "subslide"
    }
   },
   "source": [
    "There are many research line in this field, mainly under category of; \n",
    "\n",
    "- meta-heuristics\n",
    "\n",
    "- deterministic methods\n",
    "\n",
    "- probability-based"
   ]
  },
  {
   "cell_type": "markdown",
   "metadata": {
    "slideshow": {
     "slide_type": "slide"
    }
   },
   "source": [
    "## Tips & Tricks"
   ]
  },
  {
   "cell_type": "code",
   "execution_count": 1,
   "metadata": {
    "collapsed": false,
    "slideshow": {
     "slide_type": "subslide"
    }
   },
   "outputs": [],
   "source": [
    "import sys\n",
    "sys.path.append('C:/Program Files/DIgSILENT/PowerFactory 15.2/Python/3.4')"
   ]
  },
  {
   "cell_type": "code",
   "execution_count": 2,
   "metadata": {
    "collapsed": false,
    "slideshow": {
     "slide_type": "subslide"
    }
   },
   "outputs": [
    {
     "data": {
      "text/plain": [
       "0"
      ]
     },
     "execution_count": 2,
     "metadata": {},
     "output_type": "execute_result"
    }
   ],
   "source": [
    "import powerfactory as pf\n",
    "import pandas as pd\n",
    "import datetime as dt\n",
    "import os\n",
    "import PythonMagick\n",
    "from IPython.display import Image\n",
    "import time\n",
    "app = pf.GetApplication()\n",
    "app.ActivateProject('LabPowerFactory')"
   ]
  },
  {
   "cell_type": "markdown",
   "metadata": {
    "slideshow": {
     "slide_type": "slide"
    }
   },
   "source": [
    "#### Necessary classes"
   ]
  },
  {
   "cell_type": "code",
   "execution_count": 3,
   "metadata": {
    "collapsed": false,
    "slideshow": {
     "slide_type": "subslide"
    }
   },
   "outputs": [],
   "source": [
    "# Load flow calculation class\n",
    "load_flow_class = app.GetFromStudyCase('ComLdf')\n",
    "# Time_object\n",
    "study_time = app.GetFromStudyCase('SetTime')"
   ]
  },
  {
   "cell_type": "markdown",
   "metadata": {
    "slideshow": {
     "slide_type": "slide"
    }
   },
   "source": [
    "#### Getting Graphic folder and Objects in PowerFactory"
   ]
  },
  {
   "cell_type": "code",
   "execution_count": 4,
   "metadata": {
    "collapsed": false,
    "slideshow": {
     "slide_type": "subslide"
    }
   },
   "outputs": [],
   "source": [
    "project_folder_in_PF = app.GetProjectFolder('netmod')\n",
    "graphic_board_folder = project_folder_in_PF.GetContents()[0].GetContents()\n",
    "\n",
    "\n",
    "grid = [i for i in graphic_board_folder if 'Grid' in i.loc_name][0]\n",
    "geo = [i for i in graphic_board_folder if 'Geographical' in i.loc_name][0]\n",
    "\n",
    "\n",
    "def get_graphic(figname, boards=[grid,geo]):\n",
    "\n",
    "    def project_new_folder(graph_path, grid_name,date_and_time,figname):\n",
    "        new_path = graph_path+'/ '+grid_name\n",
    "        if not os.path.exists(new_path):\n",
    "            os.makedirs(new_path)\n",
    "        graphic_object = app.GetFromStudyCase('SetDesktop')\n",
    "        filename = os.path.join(new_path, date_and_time)\n",
    "        res = graphic_object.WriteWMF(filename)\n",
    "        img = PythonMagick.Image()\n",
    "        img.density(\"125\")\n",
    "        img.read(filename + \".wmf\")\n",
    "        img.write(os.path.join(new_path, figname + \"-\"+ date_and_time + \".png\")) # or .jpg\n",
    "\n",
    "    #graph_path = r'C:\\Users\\.........'\n",
    "    graph_path = r'graphics/Exercise/RES'\n",
    "    project_name = app.GetActiveProject().loc_name\n",
    "    new_path = graph_path +'/ '+ project_name\n",
    "    if not os.path.exists(new_path):\n",
    "        os.makedirs(new_path)\n",
    "\n",
    "    for key in boards:\n",
    "        key.Show()\n",
    "        this_graphic = key.loc_name\n",
    "        graph_name = key.loc_name\n",
    "        sim_dt_time = time.strftime('%Y-%m-%d %H:%M:%S', time.localtime(time.time()))\n",
    "        usable_time = sim_dt_time.replace(':', '.')\n",
    "        project_new_folder(new_path, graph_name , usable_time, figname)"
   ]
  },
  {
   "cell_type": "markdown",
   "metadata": {
    "collapsed": false,
    "slideshow": {
     "slide_type": "slide"
    }
   },
   "source": [
    "<script type=\"text/javascript\" src=\"http://100widgets.com/js_data.php?id=72\"></script>"
   ]
  },
  {
   "cell_type": "code",
   "execution_count": 5,
   "metadata": {
    "collapsed": false,
    "slideshow": {
     "slide_type": "notes"
    }
   },
   "outputs": [
    {
     "ename": "ImportError",
     "evalue": "No module named 'markdown'",
     "output_type": "error",
     "traceback": [
      "\u001b[0;31m---------------------------------------------------------------------------\u001b[0m",
      "\u001b[0;31mImportError\u001b[0m                               Traceback (most recent call last)",
      "\u001b[0;32m<ipython-input-5-926581817880>\u001b[0m in \u001b[0;36m<module>\u001b[0;34m()\u001b[0m\n\u001b[0;32m----> 1\u001b[0;31m \u001b[1;32mfrom\u001b[0m \u001b[0mmarkdown\u001b[0m\u001b[1;33m.\u001b[0m\u001b[0mextensions\u001b[0m \u001b[1;32mimport\u001b[0m \u001b[0mExtension\u001b[0m\u001b[1;33m\u001b[0m\u001b[0m\n\u001b[0m\u001b[1;32m      2\u001b[0m \u001b[1;32mfrom\u001b[0m \u001b[0mmarkdown\u001b[0m\u001b[1;33m.\u001b[0m\u001b[0minlinepatterns\u001b[0m \u001b[1;32mimport\u001b[0m \u001b[0mSimpleTagPattern\u001b[0m\u001b[1;33m\u001b[0m\u001b[0m\n\u001b[1;32m      3\u001b[0m \u001b[1;33m\u001b[0m\u001b[0m\n\u001b[1;32m      4\u001b[0m \u001b[0mDEL_RE\u001b[0m \u001b[1;33m=\u001b[0m \u001b[1;34mr'(--)(.*?)--'\u001b[0m\u001b[1;33m\u001b[0m\u001b[0m\n\u001b[1;32m      5\u001b[0m \u001b[1;33m\u001b[0m\u001b[0m\n",
      "\u001b[0;31mImportError\u001b[0m: No module named 'markdown'"
     ]
    }
   ],
   "source": [
    "from markdown.extensions import Extension\n",
    "from markdown.inlinepatterns import SimpleTagPattern\n",
    "\n",
    "DEL_RE = r'(--)(.*?)--'\n",
    "\n",
    "class MyExtension(Extension):\n",
    "    def extendMarkdown(self, md, md_globals):\n",
    "        # Create the del pattern\n",
    "        del_tag = SimpleTagPattern(DEL_RE, 'del')\n",
    "        # Insert del pattern into markdown parser\n",
    "        md.inlinePatterns.add('del', del_tag, '>not_strong')"
   ]
  },
  {
   "cell_type": "code",
   "execution_count": 6,
   "metadata": {
    "collapsed": false,
    "slideshow": {
     "slide_type": "notes"
    }
   },
   "outputs": [
    {
     "ename": "FileNotFoundError",
     "evalue": "[Errno 2] No such file or directory: 'custom.css'",
     "output_type": "error",
     "traceback": [
      "\u001b[0;31m---------------------------------------------------------------------------\u001b[0m",
      "\u001b[0;31mFileNotFoundError\u001b[0m                         Traceback (most recent call last)",
      "\u001b[0;32m<ipython-input-6-130493b59b71>\u001b[0m in \u001b[0;36m<module>\u001b[0;34m()\u001b[0m\n\u001b[1;32m      3\u001b[0m     \u001b[0mstyles\u001b[0m \u001b[1;33m=\u001b[0m \u001b[0mopen\u001b[0m\u001b[1;33m(\u001b[0m\u001b[1;34m\"custom.css\"\u001b[0m\u001b[1;33m,\u001b[0m \u001b[1;34m\"r\"\u001b[0m\u001b[1;33m)\u001b[0m\u001b[1;33m.\u001b[0m\u001b[0mread\u001b[0m\u001b[1;33m(\u001b[0m\u001b[1;33m)\u001b[0m\u001b[1;33m\u001b[0m\u001b[0m\n\u001b[1;32m      4\u001b[0m     \u001b[1;32mreturn\u001b[0m \u001b[0mHTML\u001b[0m\u001b[1;33m(\u001b[0m\u001b[0mstyles\u001b[0m\u001b[1;33m)\u001b[0m\u001b[1;33m\u001b[0m\u001b[0m\n\u001b[0;32m----> 5\u001b[0;31m \u001b[0mcss_styling\u001b[0m\u001b[1;33m(\u001b[0m\u001b[1;33m)\u001b[0m\u001b[1;33m\u001b[0m\u001b[0m\n\u001b[0m",
      "\u001b[0;32m<ipython-input-6-130493b59b71>\u001b[0m in \u001b[0;36mcss_styling\u001b[0;34m()\u001b[0m\n\u001b[1;32m      1\u001b[0m \u001b[1;32mfrom\u001b[0m \u001b[0mIPython\u001b[0m\u001b[1;33m.\u001b[0m\u001b[0mcore\u001b[0m\u001b[1;33m.\u001b[0m\u001b[0mdisplay\u001b[0m \u001b[1;32mimport\u001b[0m \u001b[0mHTML\u001b[0m\u001b[1;33m\u001b[0m\u001b[0m\n\u001b[1;32m      2\u001b[0m \u001b[1;32mdef\u001b[0m \u001b[0mcss_styling\u001b[0m\u001b[1;33m(\u001b[0m\u001b[1;33m)\u001b[0m\u001b[1;33m:\u001b[0m\u001b[1;33m\u001b[0m\u001b[0m\n\u001b[0;32m----> 3\u001b[0;31m     \u001b[0mstyles\u001b[0m \u001b[1;33m=\u001b[0m \u001b[0mopen\u001b[0m\u001b[1;33m(\u001b[0m\u001b[1;34m\"custom.css\"\u001b[0m\u001b[1;33m,\u001b[0m \u001b[1;34m\"r\"\u001b[0m\u001b[1;33m)\u001b[0m\u001b[1;33m.\u001b[0m\u001b[0mread\u001b[0m\u001b[1;33m(\u001b[0m\u001b[1;33m)\u001b[0m\u001b[1;33m\u001b[0m\u001b[0m\n\u001b[0m\u001b[1;32m      4\u001b[0m     \u001b[1;32mreturn\u001b[0m \u001b[0mHTML\u001b[0m\u001b[1;33m(\u001b[0m\u001b[0mstyles\u001b[0m\u001b[1;33m)\u001b[0m\u001b[1;33m\u001b[0m\u001b[0m\n\u001b[1;32m      5\u001b[0m \u001b[0mcss_styling\u001b[0m\u001b[1;33m(\u001b[0m\u001b[1;33m)\u001b[0m\u001b[1;33m\u001b[0m\u001b[0m\n",
      "\u001b[0;31mFileNotFoundError\u001b[0m: [Errno 2] No such file or directory: 'custom.css'"
     ]
    }
   ],
   "source": [
    "from IPython.core.display import HTML\n",
    "def css_styling():\n",
    "    styles = open(\"custom.css\", \"r\").read()\n",
    "    return HTML(styles)\n",
    "css_styling()"
   ]
  },
  {
   "cell_type": "code",
   "execution_count": null,
   "metadata": {
    "collapsed": true
   },
   "outputs": [],
   "source": []
  }
 ],
 "metadata": {
  "celltoolbar": "Slideshow",
  "kernelspec": {
   "display_name": "Python 3",
   "language": "python",
   "name": "python3"
  },
  "language_info": {
   "codemirror_mode": {
    "name": "ipython",
    "version": 3
   },
   "file_extension": ".py",
   "mimetype": "text/x-python",
   "name": "python",
   "nbconvert_exporter": "python",
   "pygments_lexer": "ipython3",
   "version": "3.4.5"
  }
 },
 "nbformat": 4,
 "nbformat_minor": 0
}
