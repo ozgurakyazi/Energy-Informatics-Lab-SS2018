{
 "cells": [
  {
   "cell_type": "markdown",
   "metadata": {},
   "source": [
    "# Group E: Assignment 3 Report"
   ]
  },
  {
   "cell_type": "markdown",
   "metadata": {},
   "source": [
    "## Software Overview"
   ]
  },
  {
   "cell_type": "markdown",
   "metadata": {},
   "source": [
    "DIgSILENT stands for \"__DI__gital __SI__mu__L__ation of __E__lectrical __N__e__T__works\", a software and consulting company providing engineering services in the field of electrical power systems for transmission, distribution, generation and industrial plants. PowerFactory is one of their software product which has ability to analyze transmission, distribution, and industrial electrical power systems. The main objective of this tool is to help planning and operation optimisation. In this exercise we are working with Medium Voltage distribution system structure  to implement configuration checking, planning, and optimising.\n",
    "\n",
    "PowerFactory have API that can have interface with python script by using “powerfactory” module. This solution enables a Python script to have access to a comprehensive range of data available in PowerFactory, including all objects, attributes, commands, and functions. To gain access to the PowerFactory environment the command GetApplication() must be added."
   ]
  },
  {
   "cell_type": "markdown",
   "metadata": {
    "collapsed": true
   },
   "source": [
    "## Requirement and Setup"
   ]
  },
  {
   "cell_type": "markdown",
   "metadata": {
    "collapsed": true
   },
   "source": [
    "In this assignment we need ImageMagick, free software to create, edit, and compose bitmap images. This feature used to create grid and geolocation visualization.\n",
    "\n",
    "From PowerFactory objects required are:\n",
    "1. Load flow calculation settings stored in Class _ComLDf_.\n",
    "2. Study cases have a study time which defines the point in time the user wishes to analyse.\n",
    "3. Object line element (_ElmLne_), transformer substation (_ElmTrfstat_), and feeder (_ElmFeeder_). A feeder is defined at a line or transformer end, and then the feeder definition algorithm searches the\n",
    "system from the definition point to determine the extent of the feeder.\n",
    "\n",
    "From Python we need several libraries:\n",
    "1. pandas, a data structures and data analysis tools\n",
    "2. datetime and time, classes to manipulate date and time\n",
    "3. os, miscellaneous operating system interface\n",
    "4. PythonMagick, Python script binding to ImageMagick\n",
    "5. Image from IPython.display, to display image in IPython Notebook"
   ]
  },
  {
   "cell_type": "markdown",
   "metadata": {},
   "source": [
    "## Radiality Visual Check"
   ]
  },
  {
   "cell_type": "markdown",
   "metadata": {},
   "source": [
    "Radial network structure have characteristic of no closed loop and unique path among any pair nodes. To do radiality visual checking, we build incidence matrix to evaluate visually whether the network is radially operated or not."
   ]
  },
  {
   "cell_type": "markdown",
   "metadata": {},
   "source": [
    "<img src=\"files/graphics/example.bmp\" align=\"left\"alt=\"Example geographical diagram\" title=\"Example geographical diagram\" />"
   ]
  },
  {
   "cell_type": "markdown",
   "metadata": {},
   "source": [
    "From the supplied example configuration, we are building the instance matrix manually. Branch number is the number of the corresponding node, which has the incoming connection. For example, 1 -> 2 means, 1 connects to 2, so the branch number is 2. Size of the matrix is 1 + 5 + 17 = 23, 1 stands for the root 63 kV station, 5 for 20 kV substations, 17 for the trafo substations. \n",
    "\n",
    "Here, we are configuring matrix as follows: \n",
    "1. First column is for the root node.\n",
    "2. Next 5 columns are for the 20 kV substations.\n",
    "3. Last 17 columns are for trafo substations.\n",
    "\n",
    "Example: when we are refering the first trafo substation, corresponding index is calculated as follows:\n",
    "1(root) + 5(20 kV stations) + 1(index we want) - 1(indexing starts from 0)"
   ]
  },
  {
   "cell_type": "markdown",
   "metadata": {},
   "source": [
    "We can understand whether this network is radial or not by checking the rows of this matrix. If there are 2 or more 1s in a row, it means that there are 2 source nodes for the corresponding node. From this, we conclude that there are multiple paths to the same node, so the radiality is violated. Also if there is a closed loop, there has to be a 2 source nodes for a node. Only one exception to this is i.e 1(root)->2->3->1 , root node has an incoming node. In our case, this is impossible. So, whenever there is a closed loop in the network, there are at least 2 incoming nodes for one node.\n",
    "\n",
    "As an algorithm, we may find the row sums and if the sum is larger than 0 (1 for source node, -1 for destination node) then there are 2 incoming nodes for that node. So the maximum value for the row sums should be 0.\n",
    "\n",
    "However, to understand the if the the problem with radiality or a closed loop, one has to investigate further, since this algorithm only checks if it is radial or not, does not give a clue about closed loops."
   ]
  },
  {
   "cell_type": "code",
   "execution_count": null,
   "metadata": {
    "collapsed": true
   },
   "outputs": [],
   "source": []
  }
 ],
 "metadata": {
  "kernelspec": {
   "display_name": "Python 3",
   "language": "python",
   "name": "python3"
  },
  "language_info": {
   "codemirror_mode": {
    "name": "ipython",
    "version": 3
   },
   "file_extension": ".py",
   "mimetype": "text/x-python",
   "name": "python",
   "nbconvert_exporter": "python",
   "pygments_lexer": "ipython3",
   "version": "3.4.5"
  }
 },
 "nbformat": 4,
 "nbformat_minor": 2
}
