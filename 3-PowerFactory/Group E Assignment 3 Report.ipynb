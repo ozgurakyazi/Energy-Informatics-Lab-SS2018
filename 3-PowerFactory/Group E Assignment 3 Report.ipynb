{
 "cells": [
  {
   "cell_type": "markdown",
   "metadata": {},
   "source": [
    "# Group E: Assignment 3 Report"
   ]
  },
  {
   "cell_type": "markdown",
   "metadata": {},
   "source": [
    "## Software Overview"
   ]
  },
  {
   "cell_type": "markdown",
   "metadata": {},
   "source": [
    "DIgSILENT stands for \"__DI__gital __SI__mu__L__ation of __E__lectrical __N__e__T__works\", a software and consulting company providing engineering services in the field of electrical power systems for transmission, distribution, generation and industrial plants. PowerFactory is one of their software product which has ability to analyze transmission, distribution, and industrial electrical power systems. The main objective of this tool is to help planning and operation optimisation. In this exercise we are working with Medium Voltage distribution system structure  to implement configuration checking, planning, and optimising.\n",
    "\n",
    "PowerFactory have API that can have interface with python script by using “powerfactory” module. This solution enables a Python script to have access to a comprehensive range of data available in PowerFactory, including all objects, attributes, commands, and functions. To gain access to the PowerFactory environment the command GetApplication() must be added."
   ]
  },
  {
   "cell_type": "markdown",
   "metadata": {
    "collapsed": true
   },
   "source": [
    "## Requirement and Setup"
   ]
  },
  {
   "cell_type": "markdown",
   "metadata": {
    "collapsed": true
   },
   "source": [
    "Pythonmagick is Python script binding to ImageMagick, free software to create, edit, and compose bitmap images. This feature used to create grid and geolocation visualization.\n",
    "\n",
    "From PowerFactory objects required are:\n",
    "1. Load flow calculation settings stored in Class _ComLDf_.\n",
    "2. Study cases have a study time which defines the point in time the user wishes to analyse.\n",
    "3. Object line element (_ElmLne_), transformer substation (_ElmTrfstat_), and feeder (_ElmFeeder_). A feeder is defined at a line or transformer end, and then the feeder definition algorithm searches the\n",
    "system from the definition point to determine the extent of the feeder."
   ]
  },
  {
   "cell_type": "markdown",
   "metadata": {},
   "source": [
    "## Radiality Visual Check"
   ]
  },
  {
   "cell_type": "code",
   "execution_count": null,
   "metadata": {
    "collapsed": true
   },
   "outputs": [],
   "source": []
  }
 ],
 "metadata": {
  "kernelspec": {
   "display_name": "Python 3",
   "language": "python",
   "name": "python3"
  },
  "language_info": {
   "codemirror_mode": {
    "name": "ipython",
    "version": 3
   },
   "file_extension": ".py",
   "mimetype": "text/x-python",
   "name": "python",
   "nbconvert_exporter": "python",
   "pygments_lexer": "ipython3",
   "version": "3.4.5"
  }
 },
 "nbformat": 4,
 "nbformat_minor": 2
}
