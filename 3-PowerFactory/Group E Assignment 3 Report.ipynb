{
 "cells": [
  {
   "cell_type": "markdown",
   "metadata": {},
   "source": [
    "# Group E: Assignment 3 Report"
   ]
  },
  {
   "cell_type": "markdown",
   "metadata": {},
   "source": [
    "## Software Overview"
   ]
  },
  {
   "cell_type": "markdown",
   "metadata": {},
   "source": [
    "DIgSILENT stands for \"__DI__gital __SI__mu__L__ation of __E__lectrical __N__e__T__works\", a software and consulting company providing engineering services in the field of electrical power systems for transmission, distribution, generation and industrial plants. PowerFactory is one of their software product which has ability to analyze transmission, distribution, and industrial electrical power systems. The main objective of this tool is to help planning and operation optimisation. In this exercise we are working with Medium Voltage distribution system structure. The objective is to implement configuration checking, planning, and optimising."
   ]
  },
  {
   "cell_type": "code",
   "execution_count": null,
   "metadata": {
    "collapsed": true
   },
   "outputs": [],
   "source": []
  },
  {
   "cell_type": "code",
   "execution_count": null,
   "metadata": {
    "collapsed": true
   },
   "outputs": [],
   "source": []
  }
 ],
 "metadata": {
  "kernelspec": {
   "display_name": "Python 3",
   "language": "python",
   "name": "python3"
  },
  "language_info": {
   "codemirror_mode": {
    "name": "ipython",
    "version": 3
   },
   "file_extension": ".py",
   "mimetype": "text/x-python",
   "name": "python",
   "nbconvert_exporter": "python",
   "pygments_lexer": "ipython3",
   "version": "3.4.5"
  }
 },
 "nbformat": 4,
 "nbformat_minor": 2
}
