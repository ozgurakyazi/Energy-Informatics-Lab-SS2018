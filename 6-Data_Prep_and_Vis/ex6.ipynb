{
 "cells": [
  {
   "cell_type": "markdown",
   "metadata": {},
   "source": [
    "# Practical Exercise: Data Preparation and Visualisation"
   ]
  },
  {
   "cell_type": "markdown",
   "metadata": {},
   "source": [
    "## Exercise I. Data Loading and Preparation"
   ]
  },
  {
   "cell_type": "code",
   "execution_count": 1,
   "metadata": {},
   "outputs": [],
   "source": [
    "import pandas as pd\n",
    "import numpy as np\n",
    "import h5py\n",
    "import os, glob\n",
    "import re\n",
    "from datetime import datetime, date, time\n",
    "from six import iteritems\n",
    "%load_ext autoreload\n",
    "%autoreload 2"
   ]
  },
  {
   "cell_type": "markdown",
   "metadata": {},
   "source": [
    "###  1. Data Reading and Exploration"
   ]
  },
  {
   "cell_type": "markdown",
   "metadata": {},
   "source": [
    "### Initialize Class and Read files\n",
    "In blond.py file, you can find the Blond class which handles data input, output and calibration. When the Blond class is initiated, it tries to acquire the data, whose interval is specified as an input. \n",
    "\n",
    "**Note that:** \n",
    "* Your data should be under **./data/** folder. For example **./data/clear** and **./data/medal-2**. \n",
    "\n",
    "* It only reads h5py file names and extracts the structure of the data, i.e. number of medals and signal names under each device, which is not actually reading the data. \n",
    "\n",
    "* From this point on, using this Blond object one can not read any other time which is not in the interval of the data itself. For example, your latest clear hdf5 file is 02:15:20, when you ask for clear data between 02:20:25-02:20:30 you wont get any data. But you are still able to get data for 02:18:10-02:20:20, since clear data contains 5 minutes of data in a file."
   ]
  },
  {
   "cell_type": "code",
   "execution_count": 2,
   "metadata": {
    "scrolled": true
   },
   "outputs": [],
   "source": [
    "from blond import Blond,get_time_diff\n",
    "blond = Blond(date(2016,10,5))\n"
   ]
  },
  {
   "cell_type": "markdown",
   "metadata": {},
   "source": [
    "Checking the retrieved files"
   ]
  },
  {
   "cell_type": "code",
   "execution_count": 4,
   "metadata": {},
   "outputs": [
    {
     "data": {
      "text/plain": [
       "{'clear': ['clear-2016-10-05T00-01-50.891503T+0200-0001306.hdf5',\n",
       "  'clear-2016-10-05T00-06-51.177842T+0200-0001307.hdf5',\n",
       "  'clear-2016-10-05T00-11-51.464126T+0200-0001308.hdf5',\n",
       "  'clear-2016-10-05T00-16-51.750433T+0200-0001309.hdf5',\n",
       "  'clear-2016-10-05T00-21-52.035992T+0200-0001310.hdf5',\n",
       "  'clear-2016-10-05T00-26-52.322393T+0200-0001311.hdf5',\n",
       "  'clear-2016-10-05T00-31-52.608751T+0200-0001312.hdf5',\n",
       "  'clear-2016-10-05T00-36-52.894519T+0200-0001313.hdf5',\n",
       "  'clear-2016-10-05T00-41-53.180820T+0200-0001314.hdf5',\n",
       "  'clear-2016-10-05T00-46-53.467073T+0200-0001315.hdf5',\n",
       "  'clear-2016-10-05T00-51-53.752681T+0200-0001316.hdf5',\n",
       "  'clear-2016-10-05T00-56-54.039123T+0200-0001317.hdf5',\n",
       "  'clear-2016-10-05T01-01-54.325533T+0200-0001318.hdf5',\n",
       "  'clear-2016-10-05T01-06-54.611818T+0200-0001319.hdf5',\n",
       "  'clear-2016-10-05T01-11-54.897536T+0200-0001320.hdf5',\n",
       "  'clear-2016-10-05T01-16-55.183843T+0200-0001321.hdf5',\n",
       "  'clear-2016-10-05T01-21-55.470225T+0200-0001322.hdf5',\n",
       "  'clear-2016-10-05T01-26-55.755842T+0200-0001323.hdf5',\n",
       "  'clear-2016-10-05T01-31-56.042227T+0200-0001324.hdf5',\n",
       "  'clear-2016-10-05T01-36-56.328649T+0200-0001325.hdf5',\n",
       "  'clear-2016-10-05T01-41-56.615220T+0200-0001326.hdf5'],\n",
       " 'medal-1': ['medal-1-2016-10-05T00-02-13.835059T+0200-0000436.hdf5',\n",
       "  'medal-1-2016-10-05T00-17-13.845111T+0200-0000437.hdf5',\n",
       "  'medal-1-2016-10-05T00-32-13.861557T+0200-0000438.hdf5',\n",
       "  'medal-1-2016-10-05T00-47-13.877516T+0200-0000439.hdf5',\n",
       "  'medal-1-2016-10-05T01-02-13.887807T+0200-0000440.hdf5',\n",
       "  'medal-1-2016-10-05T01-17-13.903732T+0200-0000441.hdf5',\n",
       "  'medal-1-2016-10-05T01-32-13.919486T+0200-0000442.hdf5',\n",
       "  'medal-1-2016-10-05T01-47-13.930055T+0200-0000443.hdf5',\n",
       "  'medal-1-2016-10-05T02-02-13.946221T+0200-0000444.hdf5'],\n",
       " 'medal-2': ['medal-2-2016-10-05T00-32-17.549484T+0200-0000438.hdf5',\n",
       "  'medal-2-2016-10-05T00-47-17.565178T+0200-0000439.hdf5',\n",
       "  'medal-2-2016-10-05T01-02-17.575063T+0200-0000440.hdf5',\n",
       "  'medal-2-2016-10-05T01-17-17.590817T+0200-0000441.hdf5',\n",
       "  'medal-2-2016-10-05T01-32-17.606600T+0200-0000442.hdf5',\n",
       "  'medal-2-2016-10-05T01-47-17.616674T+0200-0000443.hdf5',\n",
       "  'medal-2-2016-10-05T02-02-17.632493T+0200-0000444.hdf5'],\n",
       " 'medal-3': ['medal-3-2016-10-05T00-00-09.333792T+0200-0000436.hdf5',\n",
       "  'medal-3-2016-10-05T00-15-09.339216T+0200-0000437.hdf5',\n",
       "  'medal-3-2016-10-05T00-30-09.357019T+0200-0000438.hdf5',\n",
       "  'medal-3-2016-10-05T00-45-09.374766T+0200-0000439.hdf5',\n",
       "  'medal-3-2016-10-05T01-00-09.386977T+0200-0000440.hdf5',\n",
       "  'medal-3-2016-10-05T01-15-09.404508T+0200-0000441.hdf5',\n",
       "  'medal-3-2016-10-05T01-30-09.422178T+0200-0000442.hdf5',\n",
       "  'medal-3-2016-10-05T01-45-09.434168T+0200-0000443.hdf5',\n",
       "  'medal-3-2016-10-05T02-00-09.452005T+0200-0000444.hdf5']}"
      ]
     },
     "execution_count": 4,
     "metadata": {},
     "output_type": "execute_result"
    }
   ],
   "source": [
    "blond.list_files()"
   ]
  },
  {
   "cell_type": "markdown",
   "metadata": {},
   "source": [
    "Checking the data structure"
   ]
  },
  {
   "cell_type": "markdown",
   "metadata": {},
   "source": [
    "See the possible time ranges for each device. Note that, all the times are inclusive. If you see a time of *medal-1* for *latest* *2:17:12* , you will get the data until the end of 12.th second."
   ]
  },
  {
   "cell_type": "code",
   "execution_count": 3,
   "metadata": {},
   "outputs": [
    {
     "data": {
      "text/plain": [
       "{'clear': {'earliest': datetime.time(0, 1, 50),\n",
       "  'latest': datetime.time(1, 46, 55)},\n",
       " 'medal-1': {'earliest': datetime.time(0, 2, 13),\n",
       "  'latest': datetime.time(2, 17, 12)},\n",
       " 'medal-2': {'earliest': datetime.time(0, 32, 17),\n",
       "  'latest': datetime.time(2, 17, 16)},\n",
       " 'medal-3': {'earliest': datetime.time(0, 0, 9),\n",
       "  'latest': datetime.time(2, 15, 8)}}"
      ]
     },
     "execution_count": 3,
     "metadata": {},
     "output_type": "execute_result"
    }
   ],
   "source": [
    "blond.time_limits"
   ]
  },
  {
   "cell_type": "markdown",
   "metadata": {},
   "source": [
    "### Example Data Read\n",
    "\n",
    "In order to read a data interval, one needs to specify **device**(\"clear\", \"medal-1\"...), **signal**(\"current1\", \"current2\"...), start and end times. The time parameters here should be present in the specified device data. You can read either with or without calibration(actually \"calibration and centering\" is one parameter, so if you calibrate it is also centered). \n",
    "\n",
    "**Note:** While start time(start_ts) is inclusive, end time(end_ts) is exclusive. So for the example below, you will get the data of whole 0:50:0, so 0:50:1 is not included."
   ]
  },
  {
   "cell_type": "code",
   "execution_count": 5,
   "metadata": {},
   "outputs": [
    {
     "data": {
      "text/plain": [
       "(6400,)"
      ]
     },
     "execution_count": 5,
     "metadata": {},
     "output_type": "execute_result"
    }
   ],
   "source": [
    "the_data = blond.read_data(\n",
    "    device=\"medal-1\",\n",
    "    signal=\"current1\",\n",
    "    start_ts=time(0,50,0), \n",
    "    end_ts=time(0,50,1),\n",
    "    calibrate=False\n",
    ")\n",
    "the_data.shape"
   ]
  },
  {
   "cell_type": "markdown",
   "metadata": {},
   "source": [
    "### Exploration\n"
   ]
  },
  {
   "cell_type": "markdown",
   "metadata": {},
   "source": [
    "Signals acquisited by MEDAL"
   ]
  },
  {
   "cell_type": "code",
   "execution_count": 11,
   "metadata": {},
   "outputs": [
    {
     "data": {
      "text/plain": [
       "['current1',\n",
       " 'current2',\n",
       " 'current3',\n",
       " 'current4',\n",
       " 'current5',\n",
       " 'current6',\n",
       " 'voltage']"
      ]
     },
     "execution_count": 11,
     "metadata": {},
     "output_type": "execute_result"
    }
   ],
   "source": [
    "blond.get_data_structure()[\"medal-1\"]"
   ]
  },
  {
   "cell_type": "markdown",
   "metadata": {},
   "source": [
    "Signals acquisited by CLEAR"
   ]
  },
  {
   "cell_type": "code",
   "execution_count": 12,
   "metadata": {},
   "outputs": [
    {
     "data": {
      "text/plain": [
       "['current1', 'current2', 'current3', 'voltage1', 'voltage2', 'voltage3']"
      ]
     },
     "execution_count": 12,
     "metadata": {},
     "output_type": "execute_result"
    }
   ],
   "source": [
    "blond.get_data_structure()[\"clear\"]"
   ]
  },
  {
   "cell_type": "markdown",
   "metadata": {},
   "source": [
    "### Centering and calibrating\n",
    "\n",
    "When *read_data* function of the Blond class is called, the data is calibrated automatically. So we do not need an extra function call here.\n",
    "\n",
    "**Note:** If you do not want the data centered and calibrated, you can call *read_data* with the **calibrate** = *False* parameter. Otherwise it will be always calibrated and centered."
   ]
  },
  {
   "cell_type": "markdown",
   "metadata": {},
   "source": [
    "## Exercise III. Feature Extraction\n",
    "\n",
    "In order to run the Dash-Plotly application, you need to run **python app.py**. After the server runs, you can connect to the server and use the application."
   ]
  },
  {
   "cell_type": "markdown",
   "metadata": {},
   "source": [
    "## Exercise IV. Visualization"
   ]
  },
  {
   "cell_type": "code",
   "execution_count": null,
   "metadata": {},
   "outputs": [],
   "source": [
    "import matplotlib.pyplot as plt\n",
    "\n",
    "sps = 6400\n",
    "phase = 1\n",
    "requested_time = time(1,10,10)\n",
    "file_index = blond.find_corresponding_file(requested_time, blond.time_stamps['clear'])\n",
    "time_diff = get_time_diff(requested_time , blond.time_stamps['clear'][file_index])\n",
    "data_index_shift = time_diff * sps\n",
    "temp_data = blond.list_files()['clear'][file_index][\"current\"+str(phase)][data_index_shift:data_index_shift + int(sps*0.1)]\n",
    "\n",
    "curr_rms = []\n",
    "for curr in temp_data:\n",
    "    curr_rms.append(np.sqrt(np.mean(curr**2)))\n",
    "    \n",
    "fig, ax = plt.subplots(nrows=1, ncols=3, figsize=(18, 5))\n",
    "\n",
    "plot1 = ax[0]\n",
    "plot1.plot(temp_data, color='b', label='Current')\n",
    "plot1.plot(curr_rms, color='r', label='Period RMS of Current')\n",
    "plot1.set_title('Current of AC Electrolux')\n",
    "plot1.set_xlabel('Time [s]')\n",
    "plot1.set_ylabel('Current [A]')\n",
    "plot1.legend()\n",
    "\n",
    "plot2 = ax[1]\n",
    "plot2.plot(temp_data, color='b', label='Current')\n",
    "plot2.plot(curr_rms, color='r', label='Period RMS of Current')\n",
    "plot2.set_title('Waveform Comparison of AC Electrolux')\n",
    "plot2.set_xlabel('Time [ms]')\n",
    "plot2.legend()\n",
    "\n",
    "plot3 = ax[2]\n",
    "plot3.plot(temp_data, color='b', label='Current')\n",
    "plot3.plot(curr_rms, color='r', label='Period RMS of Current')\n",
    "plot3.set_title('Power over Time of AC Electrolux')\n",
    "plot3.set_xlabel('Time [s]')\n",
    "plot3.set_ylabel('Power [W]')\n",
    "plot3.legend()\n",
    "\n",
    "plt.show()"
   ]
  },
  {
   "cell_type": "code",
   "execution_count": null,
   "metadata": {},
   "outputs": [],
   "source": []
  }
 ],
 "metadata": {
  "kernelspec": {
   "display_name": "Python 3",
   "language": "python",
   "name": "python3"
  },
  "language_info": {
   "codemirror_mode": {
    "name": "ipython",
    "version": 3
   },
   "file_extension": ".py",
   "mimetype": "text/x-python",
   "name": "python",
   "nbconvert_exporter": "python",
   "pygments_lexer": "ipython3",
   "version": "3.5.2"
  }
 },
 "nbformat": 4,
 "nbformat_minor": 2
}
