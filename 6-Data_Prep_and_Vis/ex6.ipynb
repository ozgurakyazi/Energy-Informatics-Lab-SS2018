{
 "cells": [
  {
   "cell_type": "markdown",
   "metadata": {},
   "source": [
    "# Practical Exercise: Data Preparation and Visualisation"
   ]
  },
  {
   "cell_type": "markdown",
   "metadata": {},
   "source": [
    "## Exercise I. Data Loading and Preparation"
   ]
  },
  {
   "cell_type": "code",
   "execution_count": 87,
   "metadata": {},
   "outputs": [
    {
     "name": "stdout",
     "output_type": "stream",
     "text": [
      "The autoreload extension is already loaded. To reload it, use:\n",
      "  %reload_ext autoreload\n"
     ]
    }
   ],
   "source": [
    "import pandas as pd\n",
    "import matplotlib.pyplot as plt\n",
    "import numpy as np\n",
    "import h5py\n",
    "import os, glob\n",
    "import re\n",
    "from datetime import datetime, date, time\n",
    "from six import iteritems\n",
    "%load_ext autoreload\n",
    "%autoreload 2"
   ]
  },
  {
   "cell_type": "markdown",
   "metadata": {},
   "source": [
    "###  1. Data Reading and Exploration"
   ]
  },
  {
   "cell_type": "markdown",
   "metadata": {},
   "source": [
    "### Initialize Class and Read files\n",
    "In blond.py file, you can find the Blond class which handles data input, output and calibration. When the Blond class is initiated, it tries to acquire the data, whose interval is specified as an input. \n",
    "\n",
    "**Note that:** \n",
    "* Your data should be under **./data/** folder. For example **./data/clear** and **./data/medal-2**. \n",
    "\n",
    "* It only reads h5py file names and extracts the structure of the data, i.e. number of medals and signal names under each device, which is not actually reading the data. \n",
    "\n",
    "* From this point on, using this Blond object one can not read any other time which is not in the interval of the data itself. For example, your latest clear hdf5 file is 02:15:20, when you ask for clear data between 02:20:25-02:20:30 you wont get any data. But you are still able to get data for 02:18:10-02:20:20, since clear data contains 5 minutes of data in a file."
   ]
  },
  {
   "cell_type": "code",
   "execution_count": 88,
   "metadata": {
    "scrolled": true
   },
   "outputs": [],
   "source": [
    "from blond import Blond,get_time_diff\n",
    "blond = Blond(date(2016,10,5))"
   ]
  },
  {
   "cell_type": "markdown",
   "metadata": {},
   "source": [
    "Checking the retrieved files"
   ]
  },
  {
   "cell_type": "code",
   "execution_count": 89,
   "metadata": {},
   "outputs": [
    {
     "data": {
      "text/plain": [
       "{'clear': ['clear-2016-10-05T00-01-50.891503T+0200-0001306.hdf5',\n",
       "  'clear-2016-10-05T00-06-51.177842T+0200-0001307.hdf5',\n",
       "  'clear-2016-10-05T00-11-51.464126T+0200-0001308.hdf5',\n",
       "  'clear-2016-10-05T00-16-51.750433T+0200-0001309.hdf5',\n",
       "  'clear-2016-10-05T00-21-52.035992T+0200-0001310.hdf5',\n",
       "  'clear-2016-10-05T00-26-52.322393T+0200-0001311.hdf5',\n",
       "  'clear-2016-10-05T00-31-52.608751T+0200-0001312.hdf5',\n",
       "  'clear-2016-10-05T00-36-52.894519T+0200-0001313.hdf5',\n",
       "  'clear-2016-10-05T00-41-53.180820T+0200-0001314.hdf5',\n",
       "  'clear-2016-10-05T00-46-53.467073T+0200-0001315.hdf5',\n",
       "  'clear-2016-10-05T00-51-53.752681T+0200-0001316.hdf5',\n",
       "  'clear-2016-10-05T00-56-54.039123T+0200-0001317.hdf5',\n",
       "  'clear-2016-10-05T01-01-54.325533T+0200-0001318.hdf5',\n",
       "  'clear-2016-10-05T01-06-54.611818T+0200-0001319.hdf5',\n",
       "  'clear-2016-10-05T01-11-54.897536T+0200-0001320.hdf5',\n",
       "  'clear-2016-10-05T01-16-55.183843T+0200-0001321.hdf5',\n",
       "  'clear-2016-10-05T01-21-55.470225T+0200-0001322.hdf5',\n",
       "  'clear-2016-10-05T01-26-55.755842T+0200-0001323.hdf5',\n",
       "  'clear-2016-10-05T01-31-56.042227T+0200-0001324.hdf5',\n",
       "  'clear-2016-10-05T01-36-56.328649T+0200-0001325.hdf5',\n",
       "  'clear-2016-10-05T01-41-56.615220T+0200-0001326.hdf5',\n",
       "  'clear-2016-10-05T01-46-56.900819T+0200-0001327.hdf5',\n",
       "  'clear-2016-10-05T01-51-57.187140T+0200-0001328.hdf5',\n",
       "  'clear-2016-10-05T01-56-57.473563T+0200-0001329.hdf5',\n",
       "  'clear-2016-10-05T02-01-57.759136T+0200-0001330.hdf5',\n",
       "  'clear-2016-10-05T02-06-58.045665T+0200-0001331.hdf5',\n",
       "  'clear-2016-10-05T02-11-58.331979T+0200-0001332.hdf5',\n",
       "  'clear-2016-10-05T02-16-58.617707T+0200-0001333.hdf5',\n",
       "  'clear-2016-10-05T02-21-58.904042T+0200-0001334.hdf5',\n",
       "  'clear-2016-10-05T02-26-59.190460T+0200-0001335.hdf5',\n",
       "  'clear-2016-10-05T02-31-59.476801T+0200-0001336.hdf5',\n",
       "  'clear-2016-10-05T02-36-59.762447T+0200-0001337.hdf5',\n",
       "  'clear-2016-10-05T02-42-00.048803T+0200-0001338.hdf5',\n",
       "  'clear-2016-10-05T02-47-00.335171T+0200-0001339.hdf5',\n",
       "  'clear-2016-10-05T02-52-00.620875T+0200-0001340.hdf5',\n",
       "  'clear-2016-10-05T02-57-00.907212T+0200-0001341.hdf5',\n",
       "  'clear-2016-10-05T03-02-01.193558T+0200-0001342.hdf5',\n",
       "  'clear-2016-10-05T03-07-01.479847T+0200-0001343.hdf5',\n",
       "  'clear-2016-10-05T03-12-01.765579T+0200-0001344.hdf5',\n",
       "  'clear-2016-10-05T03-17-02.051727T+0200-0001345.hdf5',\n",
       "  'clear-2016-10-05T03-22-02.338063T+0200-0001346.hdf5',\n",
       "  'clear-2016-10-05T03-27-02.623577T+0200-0001347.hdf5',\n",
       "  'clear-2016-10-05T03-32-02.909988T+0200-0001348.hdf5',\n",
       "  'clear-2016-10-05T03-37-03.196247T+0200-0001349.hdf5',\n",
       "  'clear-2016-10-05T03-42-03.481945T+0200-0001350.hdf5',\n",
       "  'clear-2016-10-05T03-47-03.768026T+0200-0001351.hdf5',\n",
       "  'clear-2016-10-05T03-52-04.054290T+0200-0001352.hdf5',\n",
       "  'clear-2016-10-05T03-57-04.340291T+0200-0001353.hdf5',\n",
       "  'clear-2016-10-05T04-02-04.625816T+0200-0001354.hdf5',\n",
       "  'clear-2016-10-05T04-07-04.912008T+0200-0001355.hdf5',\n",
       "  'clear-2016-10-05T04-12-05.198292T+0200-0001356.hdf5',\n",
       "  'clear-2016-10-05T04-17-05.483888T+0200-0001357.hdf5',\n",
       "  'clear-2016-10-05T04-22-05.769969T+0200-0001358.hdf5',\n",
       "  'clear-2016-10-05T04-27-06.055928T+0200-0001359.hdf5',\n",
       "  'clear-2016-10-05T04-32-06.342042T+0200-0001360.hdf5',\n",
       "  'clear-2016-10-05T04-37-06.627525T+0200-0001361.hdf5',\n",
       "  'clear-2016-10-05T04-42-06.913867T+0200-0001362.hdf5',\n",
       "  'clear-2016-10-05T04-47-07.199985T+0200-0001363.hdf5',\n",
       "  'clear-2016-10-05T04-52-07.485578T+0200-0001364.hdf5',\n",
       "  'clear-2016-10-05T04-57-07.771777T+0200-0001365.hdf5',\n",
       "  'clear-2016-10-05T05-02-08.057985T+0200-0001366.hdf5',\n",
       "  'clear-2016-10-05T05-07-08.343445T+0200-0001367.hdf5',\n",
       "  'clear-2016-10-05T05-12-08.629761T+0200-0001368.hdf5',\n",
       "  'clear-2016-10-05T05-17-08.915935T+0200-0001369.hdf5',\n",
       "  'clear-2016-10-05T05-22-09.202185T+0200-0001370.hdf5',\n",
       "  'clear-2016-10-05T05-27-09.487728T+0200-0001371.hdf5',\n",
       "  'clear-2016-10-05T05-32-09.773763T+0200-0001372.hdf5',\n",
       "  'clear-2016-10-05T05-37-10.059775T+0200-0001373.hdf5',\n",
       "  'clear-2016-10-05T05-42-10.345251T+0200-0001374.hdf5',\n",
       "  'clear-2016-10-05T05-47-10.631327T+0200-0001375.hdf5',\n",
       "  'clear-2016-10-05T05-52-10.917605T+0200-0001376.hdf5',\n",
       "  'clear-2016-10-05T05-57-11.203706T+0200-0001377.hdf5',\n",
       "  'clear-2016-10-05T06-02-11.489205T+0200-0001378.hdf5',\n",
       "  'clear-2016-10-05T06-07-11.775588T+0200-0001379.hdf5',\n",
       "  'clear-2016-10-05T06-12-12.061860T+0200-0001380.hdf5',\n",
       "  'clear-2016-10-05T06-17-12.347319T+0200-0001381.hdf5',\n",
       "  'clear-2016-10-05T06-22-12.633681T+0200-0001382.hdf5',\n",
       "  'clear-2016-10-05T06-27-12.919764T+0200-0001383.hdf5',\n",
       "  'clear-2016-10-05T06-32-13.205321T+0200-0001384.hdf5',\n",
       "  'clear-2016-10-05T06-37-13.491410T+0200-0001385.hdf5',\n",
       "  'clear-2016-10-05T06-42-13.777991T+0200-0001386.hdf5',\n",
       "  'clear-2016-10-05T06-47-14.064166T+0200-0001387.hdf5',\n",
       "  'clear-2016-10-05T06-52-14.349848T+0200-0001388.hdf5',\n",
       "  'clear-2016-10-05T06-57-14.635962T+0200-0001389.hdf5',\n",
       "  'clear-2016-10-05T07-02-14.922159T+0200-0001390.hdf5',\n",
       "  'clear-2016-10-05T07-07-15.207657T+0200-0001391.hdf5',\n",
       "  'clear-2016-10-05T07-12-15.494032T+0200-0001392.hdf5',\n",
       "  'clear-2016-10-05T07-17-15.780562T+0200-0001393.hdf5',\n",
       "  'clear-2016-10-05T07-22-16.066841T+0200-0001394.hdf5',\n",
       "  'clear-2016-10-05T07-27-16.352447T+0200-0001395.hdf5',\n",
       "  'clear-2016-10-05T07-32-16.638795T+0200-0001396.hdf5',\n",
       "  'clear-2016-10-05T07-37-16.925302T+0200-0001397.hdf5',\n",
       "  'clear-2016-10-05T07-42-17.210673T+0200-0001398.hdf5',\n",
       "  'clear-2016-10-05T07-47-17.497308T+0200-0001399.hdf5',\n",
       "  'clear-2016-10-05T07-52-17.783730T+0200-0001400.hdf5',\n",
       "  'clear-2016-10-05T07-57-18.069403T+0200-0001401.hdf5',\n",
       "  'clear-2016-10-05T08-02-18.355751T+0200-0001402.hdf5',\n",
       "  'clear-2016-10-05T08-07-18.642087T+0200-0001403.hdf5',\n",
       "  'clear-2016-10-05T08-12-18.928466T+0200-0001404.hdf5',\n",
       "  'clear-2016-10-05T08-17-19.214043T+0200-0001405.hdf5',\n",
       "  'clear-2016-10-05T08-22-19.500429T+0200-0001406.hdf5',\n",
       "  'clear-2016-10-05T08-27-19.786511T+0200-0001407.hdf5',\n",
       "  'clear-2016-10-05T08-32-20.072363T+0200-0001408.hdf5',\n",
       "  'clear-2016-10-05T08-37-20.358710T+0200-0001409.hdf5',\n",
       "  'clear-2016-10-05T08-42-20.645148T+0200-0001410.hdf5',\n",
       "  'clear-2016-10-05T08-47-20.931340T+0200-0001411.hdf5',\n",
       "  'clear-2016-10-05T08-52-21.216942T+0200-0001412.hdf5',\n",
       "  'clear-2016-10-05T08-57-21.503360T+0200-0001413.hdf5',\n",
       "  'clear-2016-10-05T09-02-21.789791T+0200-0001414.hdf5',\n",
       "  'clear-2016-10-05T09-07-22.075284T+0200-0001415.hdf5',\n",
       "  'clear-2016-10-05T09-12-22.361784T+0200-0001416.hdf5',\n",
       "  'clear-2016-10-05T09-17-22.648025T+0200-0001417.hdf5',\n",
       "  'clear-2016-10-05T09-22-22.933778T+0200-0001418.hdf5',\n",
       "  'clear-2016-10-05T09-27-23.219973T+0200-0001419.hdf5',\n",
       "  'clear-2016-10-05T09-32-23.506251T+0200-0001420.hdf5',\n",
       "  'clear-2016-10-05T09-37-23.792528T+0200-0001421.hdf5',\n",
       "  'clear-2016-10-05T09-42-24.078137T+0200-0001422.hdf5',\n",
       "  'clear-2016-10-05T09-47-24.364490T+0200-0001423.hdf5',\n",
       "  'clear-2016-10-05T09-52-24.650818T+0200-0001424.hdf5',\n",
       "  'clear-2016-10-05T09-57-24.936374T+0200-0001425.hdf5',\n",
       "  'clear-2016-10-05T10-02-25.222609T+0200-0001426.hdf5',\n",
       "  'clear-2016-10-05T10-07-25.508710T+0200-0001427.hdf5',\n",
       "  'clear-2016-10-05T10-12-25.794973T+0200-0001428.hdf5',\n",
       "  'clear-2016-10-05T10-17-26.080419T+0200-0001429.hdf5',\n",
       "  'clear-2016-10-05T10-22-26.366655T+0200-0001430.hdf5',\n",
       "  'clear-2016-10-05T10-27-26.652930T+0200-0001431.hdf5',\n",
       "  'clear-2016-10-05T10-32-26.938554T+0200-0001432.hdf5',\n",
       "  'clear-2016-10-05T10-37-27.224957T+0200-0001433.hdf5',\n",
       "  'clear-2016-10-05T10-42-27.511286T+0200-0001434.hdf5',\n",
       "  'clear-2016-10-05T10-47-27.796941T+0200-0001435.hdf5',\n",
       "  'clear-2016-10-05T10-52-28.083398T+0200-0001436.hdf5',\n",
       "  'clear-2016-10-05T10-57-28.369877T+0200-0001437.hdf5',\n",
       "  'clear-2016-10-05T11-02-28.656247T+0200-0001438.hdf5',\n",
       "  'clear-2016-10-05T11-07-28.941918T+0200-0001439.hdf5',\n",
       "  'clear-2016-10-05T11-12-29.228348T+0200-0001440.hdf5',\n",
       "  'clear-2016-10-05T11-17-29.514838T+0200-0001441.hdf5',\n",
       "  'clear-2016-10-05T11-22-29.800582T+0200-0001442.hdf5',\n",
       "  'clear-2016-10-05T11-27-30.086937T+0200-0001443.hdf5',\n",
       "  'clear-2016-10-05T11-32-30.373507T+0200-0001444.hdf5',\n",
       "  'clear-2016-10-05T11-37-30.659804T+0200-0001445.hdf5',\n",
       "  'clear-2016-10-05T11-42-30.945564T+0200-0001446.hdf5',\n",
       "  'clear-2016-10-05T11-47-31.232946T+0200-0001447.hdf5',\n",
       "  'clear-2016-10-05T11-52-31.520076T+0200-0001448.hdf5',\n",
       "  'clear-2016-10-05T11-57-31.806326T+0200-0001449.hdf5',\n",
       "  'clear-2016-10-05T12-02-32.093079T+0200-0001450.hdf5'],\n",
       " 'medal-1': ['medal-1-2016-10-05T00-02-13.835059T+0200-0000436.hdf5',\n",
       "  'medal-1-2016-10-05T00-17-13.845111T+0200-0000437.hdf5',\n",
       "  'medal-1-2016-10-05T00-32-13.861557T+0200-0000438.hdf5',\n",
       "  'medal-1-2016-10-05T00-47-13.877516T+0200-0000439.hdf5',\n",
       "  'medal-1-2016-10-05T01-02-13.887807T+0200-0000440.hdf5',\n",
       "  'medal-1-2016-10-05T01-17-13.903732T+0200-0000441.hdf5',\n",
       "  'medal-1-2016-10-05T01-32-13.919486T+0200-0000442.hdf5',\n",
       "  'medal-1-2016-10-05T01-47-13.930055T+0200-0000443.hdf5',\n",
       "  'medal-1-2016-10-05T02-02-13.946221T+0200-0000444.hdf5',\n",
       "  'medal-1-2016-10-05T02-17-13.956720T+0200-0000445.hdf5',\n",
       "  'medal-1-2016-10-05T02-32-13.972813T+0200-0000446.hdf5',\n",
       "  'medal-1-2016-10-05T02-47-13.988840T+0200-0000447.hdf5',\n",
       "  'medal-1-2016-10-05T03-02-13.999378T+0200-0000448.hdf5',\n",
       "  'medal-1-2016-10-05T03-17-14.015059T+0200-0000449.hdf5',\n",
       "  'medal-1-2016-10-05T03-32-14.031292T+0200-0000450.hdf5'],\n",
       " 'medal-2': ['medal-2-2016-10-05T00-02-17.523738T+0200-0000436.hdf5',\n",
       "  'medal-2-2016-10-05T00-17-17.533831T+0200-0000437.hdf5',\n",
       "  'medal-2-2016-10-05T00-32-17.549484T+0200-0000438.hdf5',\n",
       "  'medal-2-2016-10-05T00-47-17.565178T+0200-0000439.hdf5',\n",
       "  'medal-2-2016-10-05T01-02-17.575063T+0200-0000440.hdf5',\n",
       "  'medal-2-2016-10-05T01-17-17.590817T+0200-0000441.hdf5',\n",
       "  'medal-2-2016-10-05T01-32-17.606600T+0200-0000442.hdf5',\n",
       "  'medal-2-2016-10-05T01-47-17.616674T+0200-0000443.hdf5',\n",
       "  'medal-2-2016-10-05T02-02-17.632493T+0200-0000444.hdf5',\n",
       "  'medal-2-2016-10-05T02-17-17.642385T+0200-0000445.hdf5',\n",
       "  'medal-2-2016-10-05T02-32-17.658464T+0200-0000446.hdf5',\n",
       "  'medal-2-2016-10-05T02-47-17.674252T+0200-0000447.hdf5',\n",
       "  'medal-2-2016-10-05T03-02-17.684455T+0200-0000448.hdf5',\n",
       "  'medal-2-2016-10-05T03-17-17.700062T+0200-0000449.hdf5',\n",
       "  'medal-2-2016-10-05T03-32-17.715602T+0200-0000450.hdf5'],\n",
       " 'medal-3': ['medal-3-2016-10-05T00-00-09.333792T+0200-0000436.hdf5',\n",
       "  'medal-3-2016-10-05T00-15-09.339216T+0200-0000437.hdf5',\n",
       "  'medal-3-2016-10-05T00-30-09.357019T+0200-0000438.hdf5',\n",
       "  'medal-3-2016-10-05T00-45-09.374766T+0200-0000439.hdf5',\n",
       "  'medal-3-2016-10-05T01-00-09.386977T+0200-0000440.hdf5',\n",
       "  'medal-3-2016-10-05T01-15-09.404508T+0200-0000441.hdf5',\n",
       "  'medal-3-2016-10-05T01-30-09.422178T+0200-0000442.hdf5',\n",
       "  'medal-3-2016-10-05T01-45-09.434168T+0200-0000443.hdf5',\n",
       "  'medal-3-2016-10-05T02-00-09.452005T+0200-0000444.hdf5',\n",
       "  'medal-3-2016-10-05T02-15-09.464598T+0200-0000445.hdf5',\n",
       "  'medal-3-2016-10-05T02-30-09.481965T+0200-0000446.hdf5',\n",
       "  'medal-3-2016-10-05T02-45-09.499891T+0200-0000447.hdf5',\n",
       "  'medal-3-2016-10-05T03-00-09.512151T+0200-0000448.hdf5',\n",
       "  'medal-3-2016-10-05T03-15-09.530425T+0200-0000449.hdf5',\n",
       "  'medal-3-2016-10-05T03-30-09.547826T+0200-0000450.hdf5',\n",
       "  'medal-3-2016-10-05T03-45-09.559921T+0200-0000451.hdf5',\n",
       "  'medal-3-2016-10-05T04-00-09.577766T+0200-0000452.hdf5',\n",
       "  'medal-3-2016-10-05T04-15-09.595209T+0200-0000453.hdf5',\n",
       "  'medal-3-2016-10-05T04-30-09.606807T+0200-0000454.hdf5',\n",
       "  'medal-3-2016-10-05T04-45-09.624574T+0200-0000455.hdf5',\n",
       "  'medal-3-2016-10-05T05-00-09.642075T+0200-0000456.hdf5',\n",
       "  'medal-3-2016-10-05T05-15-09.653147T+0200-0000457.hdf5',\n",
       "  'medal-3-2016-10-05T05-30-09.670374T+0200-0000458.hdf5',\n",
       "  'medal-3-2016-10-05T05-45-09.687618T+0200-0000459.hdf5',\n",
       "  'medal-3-2016-10-05T06-00-09.699156T+0200-0000460.hdf5',\n",
       "  'medal-3-2016-10-05T06-15-09.716524T+0200-0000461.hdf5',\n",
       "  'medal-3-2016-10-05T06-30-09.728069T+0200-0000462.hdf5',\n",
       "  'medal-3-2016-10-05T06-45-09.745290T+0200-0000463.hdf5',\n",
       "  'medal-3-2016-10-05T07-00-09.762646T+0200-0000464.hdf5',\n",
       "  'medal-3-2016-10-05T07-15-09.774545T+0200-0000465.hdf5',\n",
       "  'medal-3-2016-10-05T07-30-09.791886T+0200-0000466.hdf5',\n",
       "  'medal-3-2016-10-05T07-45-09.809208T+0200-0000467.hdf5',\n",
       "  'medal-3-2016-10-05T08-00-09.821324T+0200-0000468.hdf5',\n",
       "  'medal-3-2016-10-05T08-15-09.838935T+0200-0000469.hdf5',\n",
       "  'medal-3-2016-10-05T08-30-09.856793T+0200-0000470.hdf5',\n",
       "  'medal-3-2016-10-05T08-45-09.868643T+0200-0000471.hdf5',\n",
       "  'medal-3-2016-10-05T09-00-09.886440T+0200-0000472.hdf5',\n",
       "  'medal-3-2016-10-05T09-15-09.904249T+0200-0000473.hdf5',\n",
       "  'medal-3-2016-10-05T09-30-09.916211T+0200-0000474.hdf5',\n",
       "  'medal-3-2016-10-05T09-45-09.933963T+0200-0000475.hdf5',\n",
       "  'medal-3-2016-10-05T10-00-09.951902T+0200-0000476.hdf5',\n",
       "  'medal-3-2016-10-05T10-15-09.964037T+0200-0000477.hdf5',\n",
       "  'medal-3-2016-10-05T10-30-09.981762T+0200-0000478.hdf5',\n",
       "  'medal-3-2016-10-05T10-45-09.994206T+0200-0000479.hdf5',\n",
       "  'medal-3-2016-10-05T11-00-10.011497T+0200-0000480.hdf5',\n",
       "  'medal-3-2016-10-05T11-15-10.029331T+0200-0000481.hdf5',\n",
       "  'medal-3-2016-10-05T11-30-10.040846T+0200-0000482.hdf5',\n",
       "  'medal-3-2016-10-05T11-45-10.058293T+0200-0000483.hdf5',\n",
       "  'medal-3-2016-10-05T12-00-10.075529T+0200-0000484.hdf5',\n",
       "  'medal-3-2016-10-05T12-15-10.087475T+0200-0000485.hdf5',\n",
       "  'medal-3-2016-10-05T12-30-10.105221T+0200-0000486.hdf5',\n",
       "  'medal-3-2016-10-05T12-45-10.122247T+0200-0000487.hdf5',\n",
       "  'medal-3-2016-10-05T13-00-10.133989T+0200-0000488.hdf5',\n",
       "  'medal-3-2016-10-05T13-15-10.151415T+0200-0000489.hdf5',\n",
       "  'medal-3-2016-10-05T13-30-10.168841T+0200-0000490.hdf5',\n",
       "  'medal-3-2016-10-05T13-45-10.180828T+0200-0000491.hdf5',\n",
       "  'medal-3-2016-10-05T14-00-10.197894T+0200-0000492.hdf5',\n",
       "  'medal-3-2016-10-05T14-15-10.215235T+0200-0000493.hdf5',\n",
       "  'medal-3-2016-10-05T14-30-10.226744T+0200-0000494.hdf5',\n",
       "  'medal-3-2016-10-05T14-45-10.244138T+0200-0000495.hdf5',\n",
       "  'medal-3-2016-10-05T15-00-10.256058T+0200-0000496.hdf5',\n",
       "  'medal-3-2016-10-05T15-15-10.273215T+0200-0000497.hdf5',\n",
       "  'medal-3-2016-10-05T15-30-10.290711T+0200-0000498.hdf5',\n",
       "  'medal-3-2016-10-05T15-45-10.302632T+0200-0000499.hdf5',\n",
       "  'medal-3-2016-10-05T16-00-10.320174T+0200-0000500.hdf5',\n",
       "  'medal-3-2016-10-05T16-15-10.337886T+0200-0000501.hdf5',\n",
       "  'medal-3-2016-10-05T16-30-10.350076T+0200-0000502.hdf5',\n",
       "  'medal-3-2016-10-05T16-45-10.368060T+0200-0000503.hdf5',\n",
       "  'medal-3-2016-10-05T17-00-10.386120T+0200-0000504.hdf5',\n",
       "  'medal-3-2016-10-05T17-15-10.398523T+0200-0000505.hdf5',\n",
       "  'medal-3-2016-10-05T17-30-10.416942T+0200-0000506.hdf5',\n",
       "  'medal-3-2016-10-05T17-45-10.435461T+0200-0000507.hdf5',\n",
       "  'medal-3-2016-10-05T18-00-10.448085T+0200-0000508.hdf5',\n",
       "  'medal-3-2016-10-05T18-15-10.466837T+0200-0000509.hdf5',\n",
       "  'medal-3-2016-10-05T18-30-10.485821T+0200-0000510.hdf5',\n",
       "  'medal-3-2016-10-05T18-45-10.498692T+0200-0000511.hdf5',\n",
       "  'medal-3-2016-10-05T19-00-10.516726T+0200-0000512.hdf5',\n",
       "  'medal-3-2016-10-05T19-15-10.529254T+0200-0000513.hdf5',\n",
       "  'medal-3-2016-10-05T19-30-10.547181T+0200-0000514.hdf5',\n",
       "  'medal-3-2016-10-05T19-45-10.565232T+0200-0000515.hdf5',\n",
       "  'medal-3-2016-10-05T20-00-10.577753T+0200-0000516.hdf5',\n",
       "  'medal-3-2016-10-05T20-15-10.596069T+0200-0000517.hdf5',\n",
       "  'medal-3-2016-10-05T20-30-10.614150T+0200-0000518.hdf5',\n",
       "  'medal-3-2016-10-05T20-45-10.626700T+0200-0000519.hdf5',\n",
       "  'medal-3-2016-10-05T21-00-10.644856T+0200-0000520.hdf5',\n",
       "  'medal-3-2016-10-05T21-15-10.663010T+0200-0000521.hdf5',\n",
       "  'medal-3-2016-10-05T21-30-10.675321T+0200-0000522.hdf5',\n",
       "  'medal-3-2016-10-05T21-45-10.693134T+0200-0000523.hdf5',\n",
       "  'medal-3-2016-10-05T22-00-10.711064T+0200-0000524.hdf5',\n",
       "  'medal-3-2016-10-05T22-15-10.723237T+0200-0000525.hdf5',\n",
       "  'medal-3-2016-10-05T22-30-10.742937T+0200-0000526.hdf5',\n",
       "  'medal-3-2016-10-05T22-45-10.759086T+0200-0000527.hdf5',\n",
       "  'medal-3-2016-10-05T23-00-10.771034T+0200-0000528.hdf5',\n",
       "  'medal-3-2016-10-05T23-15-10.788871T+0200-0000529.hdf5',\n",
       "  'medal-3-2016-10-05T23-30-10.801153T+0200-0000530.hdf5',\n",
       "  'medal-3-2016-10-05T23-45-10.818377T+0200-0000531.hdf5']}"
      ]
     },
     "execution_count": 89,
     "metadata": {},
     "output_type": "execute_result"
    }
   ],
   "source": [
    "blond.list_files()"
   ]
  },
  {
   "cell_type": "markdown",
   "metadata": {},
   "source": [
    "Checking the data structure"
   ]
  },
  {
   "cell_type": "markdown",
   "metadata": {},
   "source": [
    "See the possible time ranges for each device. Note that, all the times are inclusive. If you see a time of *medal-1* for *latest* *2:17:12* , you will get the data until the end of 12.th second."
   ]
  },
  {
   "cell_type": "code",
   "execution_count": 4,
   "metadata": {},
   "outputs": [
    {
     "data": {
      "text/plain": [
       "{'clear': {'earliest': datetime.time(0, 1, 50),\n",
       "  'latest': datetime.time(12, 7, 31)},\n",
       " 'medal-1': {'earliest': datetime.time(0, 2, 13),\n",
       "  'latest': datetime.time(3, 47, 13)},\n",
       " 'medal-2': {'earliest': datetime.time(0, 2, 17),\n",
       "  'latest': datetime.time(3, 47, 16)},\n",
       " 'medal-3': {'earliest': datetime.time(0, 0, 9),\n",
       "  'latest': datetime.time(23, 59, 59)}}"
      ]
     },
     "execution_count": 4,
     "metadata": {},
     "output_type": "execute_result"
    }
   ],
   "source": [
    "blond.time_limits"
   ]
  },
  {
   "cell_type": "markdown",
   "metadata": {},
   "source": [
    "### Example Data Read\n",
    "\n",
    "In order to read a data interval, one needs to specify **device**(\"clear\", \"medal-1\"...), **signal**(\"current1\", \"current2\"...), start and end times. The time parameters here should be present in the specified device data. You can read either with or without calibration(actually \"calibration and centering\" is one parameter, so if you calibrate it is also centered). \n",
    "\n",
    "**Note:** While start time(start_ts) is inclusive, end time(end_ts) is exclusive. So for the example below, you will get the data of whole 0:50:0, so 0:50:1 is not included."
   ]
  },
  {
   "cell_type": "code",
   "execution_count": 5,
   "metadata": {},
   "outputs": [
    {
     "data": {
      "text/plain": [
       "(6400,)"
      ]
     },
     "execution_count": 5,
     "metadata": {},
     "output_type": "execute_result"
    }
   ],
   "source": [
    "the_data_calibrated = blond.read_data(\n",
    "    device=\"medal-1\",\n",
    "    signal=\"current1\",\n",
    "    start_ts=time(0,50,0), \n",
    "    end_ts=time(0,50,2),\n",
    ")\n",
    "the_data_uncalibrated = blond.read_data(\n",
    "    device=\"medal-1\",\n",
    "    signal=\"current1\",\n",
    "    start_ts=time(0,50,0), \n",
    "    end_ts=time(0,50,2),\n",
    "    calibrate = False\n",
    ")"
   ]
  },
  {
   "cell_type": "code",
   "execution_count": 86,
   "metadata": {
    "scrolled": true
   },
   "outputs": [
    {
     "ename": "NameError",
     "evalue": "name 'the_data_uncalibrated' is not defined",
     "output_type": "error",
     "traceback": [
      "\u001b[0;31m---------------------------------------------------------------------------\u001b[0m",
      "\u001b[0;31mNameError\u001b[0m                                 Traceback (most recent call last)",
      "\u001b[0;32m<ipython-input-86-af9c07dedbdb>\u001b[0m in \u001b[0;36m<module>\u001b[0;34m()\u001b[0m\n\u001b[1;32m      1\u001b[0m \u001b[0mfig\u001b[0m \u001b[0;34m=\u001b[0m \u001b[0mplt\u001b[0m\u001b[0;34m.\u001b[0m\u001b[0mfigure\u001b[0m\u001b[0;34m(\u001b[0m\u001b[0mfigsize\u001b[0m\u001b[0;34m=\u001b[0m\u001b[0;34m[\u001b[0m\u001b[0;36m40\u001b[0m\u001b[0;34m,\u001b[0m \u001b[0;36m40\u001b[0m\u001b[0;34m]\u001b[0m\u001b[0;34m)\u001b[0m\u001b[0;34m\u001b[0m\u001b[0m\n\u001b[1;32m      2\u001b[0m \u001b[0mx\u001b[0m \u001b[0;34m=\u001b[0m \u001b[0mnp\u001b[0m\u001b[0;34m.\u001b[0m\u001b[0mlinspace\u001b[0m\u001b[0;34m(\u001b[0m\u001b[0;36m0\u001b[0m\u001b[0;34m,\u001b[0m\u001b[0;36m2\u001b[0m\u001b[0;34m,\u001b[0m\u001b[0mthe_data\u001b[0m\u001b[0;34m.\u001b[0m\u001b[0mshape\u001b[0m\u001b[0;34m[\u001b[0m\u001b[0;36m0\u001b[0m\u001b[0;34m]\u001b[0m\u001b[0;34m)\u001b[0m\u001b[0;34m\u001b[0m\u001b[0m\n\u001b[0;32m----> 3\u001b[0;31m \u001b[0mplt\u001b[0m\u001b[0;34m.\u001b[0m\u001b[0mplot\u001b[0m\u001b[0;34m(\u001b[0m\u001b[0mx\u001b[0m\u001b[0;34m,\u001b[0m\u001b[0mthe_data_uncalibrated\u001b[0m\u001b[0;34m)\u001b[0m\u001b[0;34m\u001b[0m\u001b[0m\n\u001b[0m\u001b[1;32m      4\u001b[0m \u001b[0mfig\u001b[0m\u001b[0;34m.\u001b[0m\u001b[0msuptitle\u001b[0m\u001b[0;34m(\u001b[0m\u001b[0;34m\"Medal-1 Data Calibrated For Current1 Signal Between 0:50:00-0:50:02\"\u001b[0m\u001b[0;34m,\u001b[0m\u001b[0mfontsize\u001b[0m\u001b[0;34m=\u001b[0m\u001b[0;36m40\u001b[0m\u001b[0;34m)\u001b[0m\u001b[0;34m\u001b[0m\u001b[0m\n\u001b[1;32m      5\u001b[0m \u001b[0mplt\u001b[0m\u001b[0;34m.\u001b[0m\u001b[0msavefig\u001b[0m\u001b[0;34m(\u001b[0m\u001b[0;34m\"exercise1-uncalibrated.svg\"\u001b[0m\u001b[0;34m,\u001b[0m\u001b[0mformat\u001b[0m\u001b[0;34m=\u001b[0m\u001b[0;34m\"svg\"\u001b[0m\u001b[0;34m)\u001b[0m\u001b[0;34m\u001b[0m\u001b[0m\n",
      "\u001b[0;31mNameError\u001b[0m: name 'the_data_uncalibrated' is not defined"
     ]
    },
    {
     "data": {
      "text/plain": [
       "<matplotlib.figure.Figure at 0x12f36b780>"
      ]
     },
     "metadata": {},
     "output_type": "display_data"
    }
   ],
   "source": [
    "fig = plt.figure(figsize=[40, 40])\n",
    "x = np.linspace(0,2,the_data.shape[0])\n",
    "plt.plot(x,the_data_uncalibrated)\n",
    "fig.suptitle(\"Medal-1 Data Calibrated For Current1 Signal Between 0:50:00-0:50:02\",fontsize=40)\n",
    "plt.savefig(\"exercise1-uncalibrated.svg\",format=\"svg\")"
   ]
  },
  {
   "cell_type": "markdown",
   "metadata": {},
   "source": [
    "### Exploration\n"
   ]
  },
  {
   "cell_type": "markdown",
   "metadata": {},
   "source": [
    "Signals acquisited by MEDAL"
   ]
  },
  {
   "cell_type": "code",
   "execution_count": 6,
   "metadata": {},
   "outputs": [
    {
     "data": {
      "text/plain": [
       "['current1',\n",
       " 'current2',\n",
       " 'current3',\n",
       " 'current4',\n",
       " 'current5',\n",
       " 'current6',\n",
       " 'voltage']"
      ]
     },
     "execution_count": 6,
     "metadata": {},
     "output_type": "execute_result"
    }
   ],
   "source": [
    "blond.get_data_structure()[\"medal-1\"]"
   ]
  },
  {
   "cell_type": "markdown",
   "metadata": {},
   "source": [
    "Signals acquisited by CLEAR"
   ]
  },
  {
   "cell_type": "code",
   "execution_count": 7,
   "metadata": {},
   "outputs": [
    {
     "data": {
      "text/plain": [
       "['current1', 'current2', 'current3', 'voltage1', 'voltage2', 'voltage3']"
      ]
     },
     "execution_count": 7,
     "metadata": {},
     "output_type": "execute_result"
    }
   ],
   "source": [
    "blond.get_data_structure()[\"clear\"]"
   ]
  },
  {
   "cell_type": "markdown",
   "metadata": {},
   "source": [
    "### Centering and calibrating\n",
    "\n",
    "When *read_data* function of the Blond class is called, the data is calibrated automatically. So we do not need an extra function call here.\n",
    "\n",
    "**Note:** If you do not want the data centered and calibrated, you can call *read_data* with the **calibrate** = *False* parameter. Otherwise it will be always calibrated and centered.\n",
    "\n",
    "You can create calibrated and not calibrated data here."
   ]
  },
  {
   "cell_type": "code",
   "execution_count": null,
   "metadata": {
    "scrolled": true
   },
   "outputs": [],
   "source": [
    "fig = plt.figure(figsize=[40, 40])\n",
    "x = np.linspace(0,2,the_data.shape[0])\n",
    "plt.plot(x,the_data_uncalibrated)\n",
    "fig.suptitle(\"Medal-1 Data not calibrated for current1 Signal Between 0:50:00-0:50:02\",fontsize=40)\n",
    "plt.savefig(\"exercise2-noncalibrated.svg\",format=\"svg\")"
   ]
  },
  {
   "cell_type": "code",
   "execution_count": null,
   "metadata": {
    "scrolled": true
   },
   "outputs": [],
   "source": [
    "fig = plt.figure(figsize=[40, 40])\n",
    "x = np.linspace(0,2,the_data.shape[0])\n",
    "plt.plot(x,the_data_calibrated)\n",
    "fig.suptitle(\"Medal-1 Data Calibrated For Current1 Signal Between 0:50:00-0:50:02\",fontsize=40)\n",
    "plt.savefig(\"exercise2-calibrated.svg\",format=\"svg\")"
   ]
  },
  {
   "cell_type": "markdown",
   "metadata": {},
   "source": [
    "## Exercise III. Feature Extraction\n",
    "\n",
    "In order to run the Dash-Plotly application, you need to run **python app.py**. After the server runs, you can connect to the server and use the application."
   ]
  },
  {
   "cell_type": "markdown",
   "metadata": {},
   "source": [
    "## Exercise IV. Visualization"
   ]
  },
  {
   "cell_type": "code",
   "execution_count": 85,
   "metadata": {},
   "outputs": [
    {
     "data": {
      "image/png": "[encoded data removed]",
      "text/plain": [
       "<matplotlib.figure.Figure at 0x12fba5828>"
      ]
     },
     "metadata": {},
     "output_type": "display_data"
    }
   ],
   "source": [
    "import numpy as np\n",
    "import matplotlib.pyplot as plt\n",
    "\n",
    "requested_time_start = time(0,0,9)\n",
    "requested_time_end = time(0,0,10)\n",
    "\n",
    "temp_data1 = blond.read_data(\n",
    "    device=\"medal-3\",\n",
    "    signal=\"current5\",\n",
    "    start_ts=requested_time_start, \n",
    "    end_ts=requested_time_end,\n",
    ")\n",
    "\n",
    "temp_data2 = blond.read_data(\n",
    "    device=\"medal-3\",\n",
    "    signal=\"voltage\",\n",
    "    start_ts=requested_time_start, \n",
    "    end_ts=requested_time_end,\n",
    ")\n",
    "\n",
    "temp_data3 = blond.read_data(\n",
    "    device=\"medal-3\",\n",
    "    signal=\"current5\",\n",
    "    start_ts=time(0,0,9), \n",
    "    end_ts=time(0,0,14)\n",
    ")\n",
    "\n",
    "temp_data4 = blond.read_data(\n",
    "    device=\"medal-3\",\n",
    "    signal=\"voltage\",\n",
    "    start_ts=time(0,0,9), \n",
    "    end_ts=time(0,0,14)\n",
    ")\n",
    "\n",
    "#calculate period Root-Mean-Square of the Current\n",
    "curr_rms = []\n",
    "for curr in temp_data1:\n",
    "    curr_rms.append(np.sqrt(np.mean(curr**2)))\n",
    "    \n",
    "fig, ax = plt.subplots(nrows=1, ncols=3, figsize=(12, 4))\n",
    "\n",
    "\n",
    "plot1 = ax[0]\n",
    "t = np.arange(0.0, 1.0, 1/6400)\n",
    "plot1.plot(t, temp_data1, color='b', label='Current')\n",
    "plot1.plot(t, curr_rms, color='r', label='Period RMS of Current')\n",
    "plot1.set_title('Current of Monitor')\n",
    "plot1.set_xlabel('Time [s]')\n",
    "plot1.set_ylabel('Current [A]')\n",
    "plot1.legend()\n",
    "\n",
    "plot2 = ax[1]\n",
    "t = np.arange(0.0, 40, 40/6400)\n",
    "sinewave = np.sin(2*np.pi*t/20)\n",
    "plot2.plot(t, temp_data2/6400, color='r', label='voltage')\n",
    "plot2.plot(t, curr_rms, color='b', label='current')\n",
    "plot2.plot(t, sinewave, color='y', label='pure sine')\n",
    "plot2.set_title('Waveform Comparison of Monitor')\n",
    "plot2.set_xlabel('Time [ms]')\n",
    "plot2.legend()\n",
    "\n",
    "plot3 = ax[2]\n",
    "t = np.arange(0.1, 5.1, 1/6400)\n",
    "plot3.plot(t, temp_data3*temp_data4/t, color='b')\n",
    "plot3.set_title('Power over Time of Monitor')\n",
    "plot3.set_xlabel('Time [s]')\n",
    "plot3.set_ylabel('Power [W]')\n",
    "\n",
    "plt.subplots_adjust(left=0, wspace=0.4, top=0.8)\n",
    "\n",
    "plt.show()"
   ]
  },
  {
   "cell_type": "code",
   "execution_count": null,
   "metadata": {},
   "outputs": [],
   "source": []
  }
 ],
 "metadata": {
  "kernelspec": {
   "display_name": "Python 3",
   "language": "python",
   "name": "python3"
  },
  "language_info": {
   "codemirror_mode": {
    "name": "ipython",
    "version": 3
   },
   "file_extension": ".py",
   "mimetype": "text/x-python",
   "name": "python",
   "nbconvert_exporter": "python",
   "pygments_lexer": "ipython3",
   "version": "3.6.4"
  }
 },
 "nbformat": 4,
 "nbformat_minor": 2
}
