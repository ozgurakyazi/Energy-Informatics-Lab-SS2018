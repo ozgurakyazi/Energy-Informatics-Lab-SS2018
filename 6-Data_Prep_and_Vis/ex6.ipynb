{
 "cells": [
  {
   "cell_type": "markdown",
   "metadata": {},
   "source": [
    "# Practical Exercise: Data Preparation and Visualisation"
   ]
  },
  {
   "cell_type": "code",
   "execution_count": null,
   "metadata": {},
   "outputs": [],
   "source": [
    "import pandas\n",
    "import h5py\n",
    "import os, glob\n",
    "import re\n",
    "from datetime import datetime, date, time\n",
    "\n"
   ]
  },
  {
   "cell_type": "code",
   "execution_count": 200,
   "metadata": {},
   "outputs": [],
   "source": [
    "class Blond(object):\n",
    "    \"\"\"\n",
    "    \n",
    "    \"\"\"\n",
    "    \n",
    "    def __init__(self, date):\n",
    "        self.date = date\n",
    "        \n",
    "    # start(end)_hours_minutes\n",
    "    def read_clear(self, start_hm, end_hm):\n",
    "        path_to_files = './data/clear/'\n",
    "        files_all = next(os.walk(path_to_files))[2]  \n",
    "        \n",
    "        for file_name in files_all:            \n",
    "            pattern = r'(\\d{4}-\\d{2}-\\d{2}T\\d{2}-\\d{2}-\\d{2})'\n",
    "            regex_obj = re.search(pattern, file_name)\n",
    "            \n",
    "            if regex_obj is not None:\n",
    "                ts_format = regex_obj.group(1)\n",
    "                file_hm = datetime.strptime(ts_format, '%Y-%m-%dT%H-%M-%S').time()\n",
    "\n",
    "                if start_hm <= file_hm <= end_hm:\n",
    "                    yield h5py.File(file_name,'r')\n",
    "            \n",
    "    def read_medal(self, start_hm, end_hm):\n",
    "        \n",
    "        \"\"\"\n",
    "            each MEDAL is located in a separate folder, thus, we search each folder\n",
    "        \"\"\"\n",
    "        path_to_files = './data/medal*'\n",
    "        for folder in glob.glob(path_to_files):            \n",
    "            files_all = next(os.walk(folder))[2]  \n",
    "        \n",
    "            for file_name in files_all:            \n",
    "                pattern = r'(\\d{4}-\\d{2}-\\d{2}T\\d{2}-\\d{2}-\\d{2})'\n",
    "                regex_obj = re.search(pattern, file_name)\n",
    "                \n",
    "                if regex_obj is not None:\n",
    "                    ts_format = regex_obj.group(1)\n",
    "                    file_hm = datetime.strptime(ts_format, '%Y-%m-%dT%H-%M-%S').time()\n",
    "\n",
    "                    if start_hm <= file_hm <= end_hm:\n",
    "                        yield h5py.File(file_name, 'r')\n",
    "        \n",
    "            "
   ]
  },
  {
   "cell_type": "markdown",
   "metadata": {},
   "source": [
    "## 1. Data Reading and Exploration"
   ]
  },
  {
   "cell_type": "code",
   "execution_count": 201,
   "metadata": {},
   "outputs": [],
   "source": [
    "blond = Blond(date(2018,10,5))\n",
    "\n",
    "\"\"\" Define a timeframe\"\"\"\n",
    "start_hm = time(0,30) # start_hours_minutes\n",
    "end_hm   = time(1,30)\n",
    "\n",
    "\"\"\"Read MEDAL and CLEAR data \"\"\"\n",
    "it_medal = blond.read_medal(start_hm, end_hm)\n",
    "it_clear = blond.read_clear(start_hm, end_hm)\n"
   ]
  }
 ],
 "metadata": {
  "kernelspec": {
   "display_name": "Python 3",
   "language": "python",
   "name": "python3"
  },
  "language_info": {
   "codemirror_mode": {
    "name": "ipython",
    "version": 3
   },
   "file_extension": ".py",
   "mimetype": "text/x-python",
   "name": "python",
   "nbconvert_exporter": "python",
   "pygments_lexer": "ipython3",
   "version": "3.6.4"
  }
 },
 "nbformat": 4,
 "nbformat_minor": 2
}
