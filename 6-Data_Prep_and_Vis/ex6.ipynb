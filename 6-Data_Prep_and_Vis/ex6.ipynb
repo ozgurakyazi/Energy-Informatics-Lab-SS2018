{
 "cells": [
  {
   "cell_type": "markdown",
   "metadata": {},
   "source": [
    "# Practical Exercise: Data Preparation and Visualisation"
   ]
  },
  {
   "cell_type": "markdown",
   "metadata": {},
   "source": [
    "## Exercise I. Data Loading and Preparation"
   ]
  },
  {
   "cell_type": "code",
   "execution_count": 1,
   "metadata": {},
   "outputs": [],
   "source": [
    "import pandas as pd\n",
    "import numpy as np\n",
    "import h5py\n",
    "import os, glob\n",
    "import re\n",
    "from datetime import datetime, date, time\n",
    "from six import iteritems\n",
    "%load_ext autoreload\n",
    "%autoreload 2"
   ]
  },
  {
   "cell_type": "markdown",
   "metadata": {},
   "source": [
    "###  1. Data Reading and Exploration"
   ]
  },
  {
   "cell_type": "markdown",
   "metadata": {},
   "source": [
    "### Initialize Class and Read files\n",
    "In blond.py file, you can find the Blond class which handles data input, output and calibration. When the Blond class is initiated, it tries to acquire the data, whose interval is specified as an input. \n",
    "\n",
    "**Note that:** \n",
    "* It only create h5py objects which is not actually reading the data. \n",
    "\n",
    "* From this point on, using this Blond object one can not read any other time which is not in the interval of the data itself. "
   ]
  },
  {
   "cell_type": "code",
   "execution_count": 2,
   "metadata": {
    "scrolled": true
   },
   "outputs": [],
   "source": [
    "from blond import Blond,get_time_diff\n",
    "blond = Blond(date(2016,10,5))\n"
   ]
  },
  {
   "cell_type": "code",
   "execution_count": 3,
   "metadata": {},
   "outputs": [
    {
     "data": {
      "text/plain": [
       "{'clear': [<HDF5 file \"clear-2016-10-05T00-01-50.891503T+0200-0001306.hdf5\" (mode r+)>,\n",
       "  <HDF5 file \"clear-2016-10-05T00-06-51.177842T+0200-0001307.hdf5\" (mode r+)>,\n",
       "  <HDF5 file \"clear-2016-10-05T00-11-51.464126T+0200-0001308.hdf5\" (mode r+)>,\n",
       "  <HDF5 file \"clear-2016-10-05T00-16-51.750433T+0200-0001309.hdf5\" (mode r+)>,\n",
       "  <HDF5 file \"clear-2016-10-05T00-21-52.035992T+0200-0001310.hdf5\" (mode r+)>,\n",
       "  <HDF5 file \"clear-2016-10-05T00-26-52.322393T+0200-0001311.hdf5\" (mode r+)>,\n",
       "  <HDF5 file \"clear-2016-10-05T00-31-52.608751T+0200-0001312.hdf5\" (mode r+)>,\n",
       "  <HDF5 file \"clear-2016-10-05T00-36-52.894519T+0200-0001313.hdf5\" (mode r+)>,\n",
       "  <HDF5 file \"clear-2016-10-05T00-41-53.180820T+0200-0001314.hdf5\" (mode r+)>,\n",
       "  <HDF5 file \"clear-2016-10-05T00-46-53.467073T+0200-0001315.hdf5\" (mode r+)>,\n",
       "  <HDF5 file \"clear-2016-10-05T00-51-53.752681T+0200-0001316.hdf5\" (mode r+)>,\n",
       "  <HDF5 file \"clear-2016-10-05T00-56-54.039123T+0200-0001317.hdf5\" (mode r+)>,\n",
       "  <HDF5 file \"clear-2016-10-05T01-01-54.325533T+0200-0001318.hdf5\" (mode r+)>,\n",
       "  <HDF5 file \"clear-2016-10-05T01-06-54.611818T+0200-0001319.hdf5\" (mode r+)>,\n",
       "  <HDF5 file \"clear-2016-10-05T01-11-54.897536T+0200-0001320.hdf5\" (mode r+)>,\n",
       "  <HDF5 file \"clear-2016-10-05T01-16-55.183843T+0200-0001321.hdf5\" (mode r+)>,\n",
       "  <HDF5 file \"clear-2016-10-05T01-21-55.470225T+0200-0001322.hdf5\" (mode r+)>,\n",
       "  <HDF5 file \"clear-2016-10-05T01-26-55.755842T+0200-0001323.hdf5\" (mode r+)>,\n",
       "  <HDF5 file \"clear-2016-10-05T01-31-56.042227T+0200-0001324.hdf5\" (mode r+)>,\n",
       "  <HDF5 file \"clear-2016-10-05T01-36-56.328649T+0200-0001325.hdf5\" (mode r+)>,\n",
       "  <HDF5 file \"clear-2016-10-05T01-41-56.615220T+0200-0001326.hdf5\" (mode r+)>,\n",
       "  <HDF5 file \"clear-2016-10-05T01-46-56.900819T+0200-0001327.hdf5\" (mode r+)>,\n",
       "  <HDF5 file \"clear-2016-10-05T01-51-57.187140T+0200-0001328.hdf5\" (mode r+)>,\n",
       "  <HDF5 file \"clear-2016-10-05T01-56-57.473563T+0200-0001329.hdf5\" (mode r+)>,\n",
       "  <HDF5 file \"clear-2016-10-05T02-01-57.759136T+0200-0001330.hdf5\" (mode r+)>,\n",
       "  <HDF5 file \"clear-2016-10-05T02-06-58.045665T+0200-0001331.hdf5\" (mode r+)>,\n",
       "  <HDF5 file \"clear-2016-10-05T02-11-58.331979T+0200-0001332.hdf5\" (mode r+)>,\n",
       "  <HDF5 file \"clear-2016-10-05T02-16-58.617707T+0200-0001333.hdf5\" (mode r+)>,\n",
       "  <HDF5 file \"clear-2016-10-05T02-21-58.904042T+0200-0001334.hdf5\" (mode r+)>,\n",
       "  <HDF5 file \"clear-2016-10-05T02-26-59.190460T+0200-0001335.hdf5\" (mode r+)>,\n",
       "  <HDF5 file \"clear-2016-10-05T02-31-59.476801T+0200-0001336.hdf5\" (mode r+)>,\n",
       "  <HDF5 file \"clear-2016-10-05T02-36-59.762447T+0200-0001337.hdf5\" (mode r+)>,\n",
       "  <HDF5 file \"clear-2016-10-05T02-42-00.048803T+0200-0001338.hdf5\" (mode r+)>,\n",
       "  <HDF5 file \"clear-2016-10-05T02-47-00.335171T+0200-0001339.hdf5\" (mode r+)>,\n",
       "  <HDF5 file \"clear-2016-10-05T02-52-00.620875T+0200-0001340.hdf5\" (mode r+)>,\n",
       "  <HDF5 file \"clear-2016-10-05T02-57-00.907212T+0200-0001341.hdf5\" (mode r+)>,\n",
       "  <HDF5 file \"clear-2016-10-05T03-02-01.193558T+0200-0001342.hdf5\" (mode r+)>,\n",
       "  <HDF5 file \"clear-2016-10-05T03-07-01.479847T+0200-0001343.hdf5\" (mode r+)>,\n",
       "  <HDF5 file \"clear-2016-10-05T03-12-01.765579T+0200-0001344.hdf5\" (mode r+)>,\n",
       "  <HDF5 file \"clear-2016-10-05T03-17-02.051727T+0200-0001345.hdf5\" (mode r+)>,\n",
       "  <HDF5 file \"clear-2016-10-05T03-22-02.338063T+0200-0001346.hdf5\" (mode r+)>,\n",
       "  <HDF5 file \"clear-2016-10-05T03-27-02.623577T+0200-0001347.hdf5\" (mode r+)>,\n",
       "  <HDF5 file \"clear-2016-10-05T03-32-02.909988T+0200-0001348.hdf5\" (mode r+)>,\n",
       "  <HDF5 file \"clear-2016-10-05T03-37-03.196247T+0200-0001349.hdf5\" (mode r+)>,\n",
       "  <HDF5 file \"clear-2016-10-05T03-42-03.481945T+0200-0001350.hdf5\" (mode r+)>,\n",
       "  <HDF5 file \"clear-2016-10-05T03-47-03.768026T+0200-0001351.hdf5\" (mode r+)>,\n",
       "  <HDF5 file \"clear-2016-10-05T03-52-04.054290T+0200-0001352.hdf5\" (mode r+)>,\n",
       "  <HDF5 file \"clear-2016-10-05T03-57-04.340291T+0200-0001353.hdf5\" (mode r+)>,\n",
       "  <HDF5 file \"clear-2016-10-05T04-02-04.625816T+0200-0001354.hdf5\" (mode r+)>,\n",
       "  <HDF5 file \"clear-2016-10-05T04-07-04.912008T+0200-0001355.hdf5\" (mode r+)>,\n",
       "  <HDF5 file \"clear-2016-10-05T04-12-05.198292T+0200-0001356.hdf5\" (mode r+)>,\n",
       "  <HDF5 file \"clear-2016-10-05T04-17-05.483888T+0200-0001357.hdf5\" (mode r+)>,\n",
       "  <HDF5 file \"clear-2016-10-05T04-22-05.769969T+0200-0001358.hdf5\" (mode r+)>,\n",
       "  <HDF5 file \"clear-2016-10-05T04-27-06.055928T+0200-0001359.hdf5\" (mode r+)>,\n",
       "  <HDF5 file \"clear-2016-10-05T04-32-06.342042T+0200-0001360.hdf5\" (mode r+)>,\n",
       "  <HDF5 file \"clear-2016-10-05T04-37-06.627525T+0200-0001361.hdf5\" (mode r+)>,\n",
       "  <HDF5 file \"clear-2016-10-05T04-42-06.913867T+0200-0001362.hdf5\" (mode r+)>,\n",
       "  <HDF5 file \"clear-2016-10-05T04-47-07.199985T+0200-0001363.hdf5\" (mode r+)>,\n",
       "  <HDF5 file \"clear-2016-10-05T04-52-07.485578T+0200-0001364.hdf5\" (mode r+)>,\n",
       "  <HDF5 file \"clear-2016-10-05T04-57-07.771777T+0200-0001365.hdf5\" (mode r+)>,\n",
       "  <HDF5 file \"clear-2016-10-05T05-02-08.057985T+0200-0001366.hdf5\" (mode r+)>,\n",
       "  <HDF5 file \"clear-2016-10-05T05-07-08.343445T+0200-0001367.hdf5\" (mode r+)>,\n",
       "  <HDF5 file \"clear-2016-10-05T05-12-08.629761T+0200-0001368.hdf5\" (mode r+)>,\n",
       "  <HDF5 file \"clear-2016-10-05T05-17-08.915935T+0200-0001369.hdf5\" (mode r+)>,\n",
       "  <HDF5 file \"clear-2016-10-05T05-22-09.202185T+0200-0001370.hdf5\" (mode r+)>,\n",
       "  <HDF5 file \"clear-2016-10-05T05-27-09.487728T+0200-0001371.hdf5\" (mode r+)>,\n",
       "  <HDF5 file \"clear-2016-10-05T05-32-09.773763T+0200-0001372.hdf5\" (mode r+)>,\n",
       "  <HDF5 file \"clear-2016-10-05T05-37-10.059775T+0200-0001373.hdf5\" (mode r+)>,\n",
       "  <HDF5 file \"clear-2016-10-05T05-42-10.345251T+0200-0001374.hdf5\" (mode r+)>,\n",
       "  <HDF5 file \"clear-2016-10-05T05-47-10.631327T+0200-0001375.hdf5\" (mode r+)>,\n",
       "  <HDF5 file \"clear-2016-10-05T05-52-10.917605T+0200-0001376.hdf5\" (mode r+)>,\n",
       "  <HDF5 file \"clear-2016-10-05T05-57-11.203706T+0200-0001377.hdf5\" (mode r+)>,\n",
       "  <HDF5 file \"clear-2016-10-05T06-02-11.489205T+0200-0001378.hdf5\" (mode r+)>,\n",
       "  <HDF5 file \"clear-2016-10-05T06-07-11.775588T+0200-0001379.hdf5\" (mode r+)>,\n",
       "  <HDF5 file \"clear-2016-10-05T06-12-12.061860T+0200-0001380.hdf5\" (mode r+)>,\n",
       "  <HDF5 file \"clear-2016-10-05T06-17-12.347319T+0200-0001381.hdf5\" (mode r+)>,\n",
       "  <HDF5 file \"clear-2016-10-05T06-22-12.633681T+0200-0001382.hdf5\" (mode r+)>,\n",
       "  <HDF5 file \"clear-2016-10-05T06-27-12.919764T+0200-0001383.hdf5\" (mode r+)>,\n",
       "  <HDF5 file \"clear-2016-10-05T06-32-13.205321T+0200-0001384.hdf5\" (mode r+)>,\n",
       "  <HDF5 file \"clear-2016-10-05T06-37-13.491410T+0200-0001385.hdf5\" (mode r+)>,\n",
       "  <HDF5 file \"clear-2016-10-05T06-42-13.777991T+0200-0001386.hdf5\" (mode r+)>,\n",
       "  <HDF5 file \"clear-2016-10-05T06-47-14.064166T+0200-0001387.hdf5\" (mode r+)>,\n",
       "  <HDF5 file \"clear-2016-10-05T06-52-14.349848T+0200-0001388.hdf5\" (mode r+)>,\n",
       "  <HDF5 file \"clear-2016-10-05T06-57-14.635962T+0200-0001389.hdf5\" (mode r+)>,\n",
       "  <HDF5 file \"clear-2016-10-05T07-02-14.922159T+0200-0001390.hdf5\" (mode r+)>,\n",
       "  <HDF5 file \"clear-2016-10-05T07-07-15.207657T+0200-0001391.hdf5\" (mode r+)>,\n",
       "  <HDF5 file \"clear-2016-10-05T07-12-15.494032T+0200-0001392.hdf5\" (mode r+)>,\n",
       "  <HDF5 file \"clear-2016-10-05T07-17-15.780562T+0200-0001393.hdf5\" (mode r+)>,\n",
       "  <HDF5 file \"clear-2016-10-05T07-22-16.066841T+0200-0001394.hdf5\" (mode r+)>,\n",
       "  <HDF5 file \"clear-2016-10-05T07-27-16.352447T+0200-0001395.hdf5\" (mode r+)>,\n",
       "  <HDF5 file \"clear-2016-10-05T07-32-16.638795T+0200-0001396.hdf5\" (mode r+)>,\n",
       "  <HDF5 file \"clear-2016-10-05T07-37-16.925302T+0200-0001397.hdf5\" (mode r+)>,\n",
       "  <HDF5 file \"clear-2016-10-05T07-42-17.210673T+0200-0001398.hdf5\" (mode r+)>,\n",
       "  <HDF5 file \"clear-2016-10-05T07-47-17.497308T+0200-0001399.hdf5\" (mode r+)>,\n",
       "  <HDF5 file \"clear-2016-10-05T07-52-17.783730T+0200-0001400.hdf5\" (mode r+)>,\n",
       "  <HDF5 file \"clear-2016-10-05T07-57-18.069403T+0200-0001401.hdf5\" (mode r+)>,\n",
       "  <HDF5 file \"clear-2016-10-05T08-02-18.355751T+0200-0001402.hdf5\" (mode r+)>,\n",
       "  <HDF5 file \"clear-2016-10-05T08-07-18.642087T+0200-0001403.hdf5\" (mode r+)>,\n",
       "  <HDF5 file \"clear-2016-10-05T08-12-18.928466T+0200-0001404.hdf5\" (mode r+)>,\n",
       "  <HDF5 file \"clear-2016-10-05T08-17-19.214043T+0200-0001405.hdf5\" (mode r+)>,\n",
       "  <HDF5 file \"clear-2016-10-05T08-22-19.500429T+0200-0001406.hdf5\" (mode r+)>,\n",
       "  <HDF5 file \"clear-2016-10-05T08-27-19.786511T+0200-0001407.hdf5\" (mode r+)>,\n",
       "  <HDF5 file \"clear-2016-10-05T08-32-20.072363T+0200-0001408.hdf5\" (mode r+)>,\n",
       "  <HDF5 file \"clear-2016-10-05T08-37-20.358710T+0200-0001409.hdf5\" (mode r+)>,\n",
       "  <HDF5 file \"clear-2016-10-05T08-42-20.645148T+0200-0001410.hdf5\" (mode r+)>,\n",
       "  <HDF5 file \"clear-2016-10-05T08-47-20.931340T+0200-0001411.hdf5\" (mode r+)>,\n",
       "  <HDF5 file \"clear-2016-10-05T08-52-21.216942T+0200-0001412.hdf5\" (mode r+)>,\n",
       "  <HDF5 file \"clear-2016-10-05T08-57-21.503360T+0200-0001413.hdf5\" (mode r+)>,\n",
       "  <HDF5 file \"clear-2016-10-05T09-02-21.789791T+0200-0001414.hdf5\" (mode r+)>,\n",
       "  <HDF5 file \"clear-2016-10-05T09-07-22.075284T+0200-0001415.hdf5\" (mode r+)>,\n",
       "  <HDF5 file \"clear-2016-10-05T09-12-22.361784T+0200-0001416.hdf5\" (mode r+)>,\n",
       "  <HDF5 file \"clear-2016-10-05T09-17-22.648025T+0200-0001417.hdf5\" (mode r+)>,\n",
       "  <HDF5 file \"clear-2016-10-05T09-22-22.933778T+0200-0001418.hdf5\" (mode r+)>,\n",
       "  <HDF5 file \"clear-2016-10-05T09-27-23.219973T+0200-0001419.hdf5\" (mode r+)>,\n",
       "  <HDF5 file \"clear-2016-10-05T09-32-23.506251T+0200-0001420.hdf5\" (mode r+)>,\n",
       "  <HDF5 file \"clear-2016-10-05T09-37-23.792528T+0200-0001421.hdf5\" (mode r+)>,\n",
       "  <HDF5 file \"clear-2016-10-05T09-42-24.078137T+0200-0001422.hdf5\" (mode r+)>,\n",
       "  <HDF5 file \"clear-2016-10-05T09-47-24.364490T+0200-0001423.hdf5\" (mode r+)>,\n",
       "  <HDF5 file \"clear-2016-10-05T09-52-24.650818T+0200-0001424.hdf5\" (mode r+)>,\n",
       "  <HDF5 file \"clear-2016-10-05T09-57-24.936374T+0200-0001425.hdf5\" (mode r+)>,\n",
       "  <HDF5 file \"clear-2016-10-05T10-02-25.222609T+0200-0001426.hdf5\" (mode r+)>,\n",
       "  <HDF5 file \"clear-2016-10-05T10-07-25.508710T+0200-0001427.hdf5\" (mode r+)>,\n",
       "  <HDF5 file \"clear-2016-10-05T10-12-25.794973T+0200-0001428.hdf5\" (mode r+)>,\n",
       "  <HDF5 file \"clear-2016-10-05T10-17-26.080419T+0200-0001429.hdf5\" (mode r+)>,\n",
       "  <HDF5 file \"clear-2016-10-05T10-22-26.366655T+0200-0001430.hdf5\" (mode r+)>,\n",
       "  <HDF5 file \"clear-2016-10-05T10-27-26.652930T+0200-0001431.hdf5\" (mode r+)>,\n",
       "  <HDF5 file \"clear-2016-10-05T10-32-26.938554T+0200-0001432.hdf5\" (mode r+)>,\n",
       "  <HDF5 file \"clear-2016-10-05T10-37-27.224957T+0200-0001433.hdf5\" (mode r+)>,\n",
       "  <HDF5 file \"clear-2016-10-05T10-42-27.511286T+0200-0001434.hdf5\" (mode r+)>,\n",
       "  <HDF5 file \"clear-2016-10-05T10-47-27.796941T+0200-0001435.hdf5\" (mode r+)>,\n",
       "  <HDF5 file \"clear-2016-10-05T10-52-28.083398T+0200-0001436.hdf5\" (mode r+)>,\n",
       "  <HDF5 file \"clear-2016-10-05T10-57-28.369877T+0200-0001437.hdf5\" (mode r+)>,\n",
       "  <HDF5 file \"clear-2016-10-05T11-02-28.656247T+0200-0001438.hdf5\" (mode r+)>,\n",
       "  <HDF5 file \"clear-2016-10-05T11-07-28.941918T+0200-0001439.hdf5\" (mode r+)>,\n",
       "  <HDF5 file \"clear-2016-10-05T11-12-29.228348T+0200-0001440.hdf5\" (mode r+)>,\n",
       "  <HDF5 file \"clear-2016-10-05T11-17-29.514838T+0200-0001441.hdf5\" (mode r+)>,\n",
       "  <HDF5 file \"clear-2016-10-05T11-22-29.800582T+0200-0001442.hdf5\" (mode r+)>,\n",
       "  <HDF5 file \"clear-2016-10-05T11-27-30.086937T+0200-0001443.hdf5\" (mode r+)>,\n",
       "  <HDF5 file \"clear-2016-10-05T11-32-30.373507T+0200-0001444.hdf5\" (mode r+)>,\n",
       "  <HDF5 file \"clear-2016-10-05T11-37-30.659804T+0200-0001445.hdf5\" (mode r+)>,\n",
       "  <HDF5 file \"clear-2016-10-05T11-42-30.945564T+0200-0001446.hdf5\" (mode r+)>,\n",
       "  <HDF5 file \"clear-2016-10-05T11-47-31.232946T+0200-0001447.hdf5\" (mode r+)>,\n",
       "  <HDF5 file \"clear-2016-10-05T11-52-31.520076T+0200-0001448.hdf5\" (mode r+)>,\n",
       "  <HDF5 file \"clear-2016-10-05T11-57-31.806326T+0200-0001449.hdf5\" (mode r+)>,\n",
       "  <HDF5 file \"clear-2016-10-05T12-02-32.093079T+0200-0001450.hdf5\" (mode r+)>],\n",
       " 'medal-1': [<HDF5 file \"medal-1-2016-10-05T00-02-13.835059T+0200-0000436.hdf5\" (mode r+)>,\n",
       "  <HDF5 file \"medal-1-2016-10-05T00-17-13.845111T+0200-0000437.hdf5\" (mode r+)>,\n",
       "  <HDF5 file \"medal-1-2016-10-05T00-32-13.861557T+0200-0000438.hdf5\" (mode r+)>,\n",
       "  <HDF5 file \"medal-1-2016-10-05T00-47-13.877516T+0200-0000439.hdf5\" (mode r+)>,\n",
       "  <HDF5 file \"medal-1-2016-10-05T01-02-13.887807T+0200-0000440.hdf5\" (mode r+)>,\n",
       "  <HDF5 file \"medal-1-2016-10-05T01-17-13.903732T+0200-0000441.hdf5\" (mode r+)>,\n",
       "  <HDF5 file \"medal-1-2016-10-05T01-32-13.919486T+0200-0000442.hdf5\" (mode r+)>,\n",
       "  <HDF5 file \"medal-1-2016-10-05T01-47-13.930055T+0200-0000443.hdf5\" (mode r+)>,\n",
       "  <HDF5 file \"medal-1-2016-10-05T02-02-13.946221T+0200-0000444.hdf5\" (mode r+)>,\n",
       "  <HDF5 file \"medal-1-2016-10-05T02-17-13.956720T+0200-0000445.hdf5\" (mode r+)>,\n",
       "  <HDF5 file \"medal-1-2016-10-05T02-32-13.972813T+0200-0000446.hdf5\" (mode r+)>,\n",
       "  <HDF5 file \"medal-1-2016-10-05T02-47-13.988840T+0200-0000447.hdf5\" (mode r+)>,\n",
       "  <HDF5 file \"medal-1-2016-10-05T03-02-13.999378T+0200-0000448.hdf5\" (mode r+)>,\n",
       "  <HDF5 file \"medal-1-2016-10-05T03-17-14.015059T+0200-0000449.hdf5\" (mode r+)>,\n",
       "  <HDF5 file \"medal-1-2016-10-05T03-32-14.031292T+0200-0000450.hdf5\" (mode r+)>],\n",
       " 'medal-2': [<HDF5 file \"medal-2-2016-10-05T00-02-17.523738T+0200-0000436.hdf5\" (mode r+)>,\n",
       "  <HDF5 file \"medal-2-2016-10-05T00-17-17.533831T+0200-0000437.hdf5\" (mode r+)>,\n",
       "  <HDF5 file \"medal-2-2016-10-05T00-32-17.549484T+0200-0000438.hdf5\" (mode r+)>,\n",
       "  <HDF5 file \"medal-2-2016-10-05T00-47-17.565178T+0200-0000439.hdf5\" (mode r+)>,\n",
       "  <HDF5 file \"medal-2-2016-10-05T01-02-17.575063T+0200-0000440.hdf5\" (mode r+)>,\n",
       "  <HDF5 file \"medal-2-2016-10-05T01-17-17.590817T+0200-0000441.hdf5\" (mode r+)>,\n",
       "  <HDF5 file \"medal-2-2016-10-05T01-32-17.606600T+0200-0000442.hdf5\" (mode r+)>,\n",
       "  <HDF5 file \"medal-2-2016-10-05T01-47-17.616674T+0200-0000443.hdf5\" (mode r+)>,\n",
       "  <HDF5 file \"medal-2-2016-10-05T02-02-17.632493T+0200-0000444.hdf5\" (mode r+)>,\n",
       "  <HDF5 file \"medal-2-2016-10-05T02-17-17.642385T+0200-0000445.hdf5\" (mode r+)>,\n",
       "  <HDF5 file \"medal-2-2016-10-05T02-32-17.658464T+0200-0000446.hdf5\" (mode r+)>,\n",
       "  <HDF5 file \"medal-2-2016-10-05T02-47-17.674252T+0200-0000447.hdf5\" (mode r+)>,\n",
       "  <HDF5 file \"medal-2-2016-10-05T03-02-17.684455T+0200-0000448.hdf5\" (mode r+)>,\n",
       "  <HDF5 file \"medal-2-2016-10-05T03-17-17.700062T+0200-0000449.hdf5\" (mode r+)>,\n",
       "  <HDF5 file \"medal-2-2016-10-05T03-32-17.715602T+0200-0000450.hdf5\" (mode r+)>],\n",
       " 'medal-3': [<HDF5 file \"medal-3-2016-10-05T00-00-09.333792T+0200-0000436.hdf5\" (mode r+)>,\n",
       "  <HDF5 file \"medal-3-2016-10-05T00-15-09.339216T+0200-0000437.hdf5\" (mode r+)>,\n",
       "  <HDF5 file \"medal-3-2016-10-05T00-30-09.357019T+0200-0000438.hdf5\" (mode r+)>,\n",
       "  <HDF5 file \"medal-3-2016-10-05T00-45-09.374766T+0200-0000439.hdf5\" (mode r+)>,\n",
       "  <HDF5 file \"medal-3-2016-10-05T01-00-09.386977T+0200-0000440.hdf5\" (mode r+)>,\n",
       "  <HDF5 file \"medal-3-2016-10-05T01-15-09.404508T+0200-0000441.hdf5\" (mode r+)>,\n",
       "  <HDF5 file \"medal-3-2016-10-05T01-30-09.422178T+0200-0000442.hdf5\" (mode r+)>,\n",
       "  <HDF5 file \"medal-3-2016-10-05T01-45-09.434168T+0200-0000443.hdf5\" (mode r+)>,\n",
       "  <HDF5 file \"medal-3-2016-10-05T02-00-09.452005T+0200-0000444.hdf5\" (mode r+)>,\n",
       "  <HDF5 file \"medal-3-2016-10-05T02-15-09.464598T+0200-0000445.hdf5\" (mode r+)>,\n",
       "  <HDF5 file \"medal-3-2016-10-05T02-30-09.481965T+0200-0000446.hdf5\" (mode r+)>,\n",
       "  <HDF5 file \"medal-3-2016-10-05T02-45-09.499891T+0200-0000447.hdf5\" (mode r+)>,\n",
       "  <HDF5 file \"medal-3-2016-10-05T03-00-09.512151T+0200-0000448.hdf5\" (mode r+)>,\n",
       "  <HDF5 file \"medal-3-2016-10-05T03-15-09.530425T+0200-0000449.hdf5\" (mode r+)>,\n",
       "  <HDF5 file \"medal-3-2016-10-05T03-30-09.547826T+0200-0000450.hdf5\" (mode r+)>]}"
      ]
     },
     "execution_count": 3,
     "metadata": {},
     "output_type": "execute_result"
    }
   ],
   "source": [
    "\"\"\"Checking if files have been retrieved\"\"\"\n",
    "blond.list_files()"
   ]
  },
  {
   "cell_type": "markdown",
   "metadata": {},
   "source": [
    "### Example Data Read\n",
    "\n",
    "In order to read a data interval, one needs to specify **device**(\"clear\", \"medal-1\"...), **signal**(\"current1\", \"current2\"...), start and end times. The time parameters here should be present in the specified device data.  "
   ]
  },
  {
   "cell_type": "code",
   "execution_count": 4,
   "metadata": {},
   "outputs": [
    {
     "data": {
      "text/plain": [
       "array([ -9, -18, -11, ..., -15, -12, -15])"
      ]
     },
     "execution_count": 4,
     "metadata": {},
     "output_type": "execute_result"
    }
   ],
   "source": [
    "blond.read_data( device=\"medal-1\",signal=\"current1\",start_ts=time(0,50,0), end_ts=time(2,17,13))"
   ]
  },
  {
   "cell_type": "markdown",
   "metadata": {},
   "source": [
    "### Exploration\n"
   ]
  },
  {
   "cell_type": "code",
   "execution_count": 5,
   "metadata": {},
   "outputs": [
    {
     "data": {
      "text/plain": [
       "['current1',\n",
       " 'current2',\n",
       " 'current3',\n",
       " 'current4',\n",
       " 'current5',\n",
       " 'current6',\n",
       " 'voltage']"
      ]
     },
     "execution_count": 5,
     "metadata": {},
     "output_type": "execute_result"
    }
   ],
   "source": [
    "\"\"\"signals acquisited by MEDAL\"\"\"\n",
    "medal_file = blond.list_files()['medal-1'][0]\n",
    "[key for key in medal_file.keys()]"
   ]
  },
  {
   "cell_type": "code",
   "execution_count": 6,
   "metadata": {},
   "outputs": [
    {
     "data": {
      "text/plain": [
       "['current1', 'current2', 'current3', 'voltage1', 'voltage2', 'voltage3']"
      ]
     },
     "execution_count": 6,
     "metadata": {},
     "output_type": "execute_result"
    }
   ],
   "source": [
    "\"\"\"signals acquisited by CLEAR\"\"\"\n",
    "clear_file = blond.list_files()['clear'][0]\n",
    "[key for key in clear_file.keys()]"
   ]
  },
  {
   "cell_type": "markdown",
   "metadata": {},
   "source": [
    "### Centering and calibrating"
   ]
  },
  {
   "cell_type": "code",
   "execution_count": null,
   "metadata": {},
   "outputs": [],
   "source": [
    "blond.center_and_calibrate_all()"
   ]
  },
  {
   "cell_type": "markdown",
   "metadata": {},
   "source": [
    "## Exercise III. Feature Extraction\n",
    "\n",
    "In order to run the Dash-Plotly application, you need to run **python app.py**. After the server runs, you can connect to the server and use the application."
   ]
  },
  {
   "cell_type": "markdown",
   "metadata": {},
   "source": [
    "## Exercise IV. Visualization"
   ]
  },
  {
   "cell_type": "code",
   "execution_count": 41,
   "metadata": {},
   "outputs": [
    {
     "data": {
      "image/png": "[encoded data removed]",
      "text/plain": [
       "<matplotlib.figure.Figure at 0x11b01a710>"
      ]
     },
     "metadata": {},
     "output_type": "display_data"
    }
   ],
   "source": [
    "import numpy as np\n",
    "import matplotlib.pyplot as plt\n",
    "\n",
    "sps = 6400\n",
    "phase = 1\n",
    "requested_time = time(1,10,10)\n",
    "file_index = blond.find_corresponding_file(requested_time, blond.time_stamps['clear'])\n",
    "time_diff = get_time_diff(requested_time , blond.time_stamps['clear'][file_index])\n",
    "data_index_shift = time_diff * sps\n",
    "temp_data1 = blond.list_files()['clear'][file_index][\"current\"+str(phase)][data_index_shift:data_index_shift + int(sps*0.1)]\n",
    "temp_data2 = blond.list_files()['clear'][file_index][\"voltage\"+str(phase)][data_index_shift:data_index_shift + int(sps*0.1)]\n",
    "\n",
    "#calculate period Root-Mean-Square of the Current\n",
    "for curr in temp_data1:\n",
    "    curr_rms.append(np.sqrt(np.mean(curr**2)))\n",
    "    \n",
    "fig, ax = plt.subplots(nrows=1, ncols=3, figsize=(12, 4))\n",
    "\n",
    "plot1 = ax[0]\n",
    "t = np.arange(0.0, 0.6, 0.6/640)\n",
    "plot1.plot(t, temp_data1, color='b', label='Current')\n",
    "plot1.plot(curr_rms, color='r', label='Period RMS of Current')\n",
    "plot1.set_title('Current of AC Electrolux')\n",
    "plot1.set_xlabel('Time [s]')\n",
    "plot1.set_ylabel('Current [A]')\n",
    "plot1.legend()\n",
    "\n",
    "plot2 = ax[1]\n",
    "t = np.arange(0.0, 40.0, 40/640)\n",
    "sinewave = np.sin(2*np.pi*t/20)\n",
    "plot2.plot(t, temp_data2/50000, color='r', label='voltage')\n",
    "plot2.plot(t, temp_data1/6400, color='b', label='current')\n",
    "plot2.plot(t, sinewave, color='y', label='pure sine')\n",
    "plot2.set_title('Waveform Comparison of AC Electrolux')\n",
    "plot2.set_xlabel('Time [ms]')\n",
    "plot2.legend()\n",
    "\n",
    "plot3 = ax[2]\n",
    "plot3.plot(temp_data1, color='b', label='Current')\n",
    "plot3.plot(curr_rms, color='r', label='Period RMS of Current')\n",
    "plot3.set_title('Power over Time of AC Electrolux')\n",
    "plot3.set_xlabel('Time [s]')\n",
    "plot3.set_ylabel('Power [W]')\n",
    "plot3.legend()\n",
    "\n",
    "plt.subplots_adjust(left=0, wspace=0.4, top=0.8)\n",
    "\n",
    "plt.show()"
   ]
  },
  {
   "cell_type": "code",
   "execution_count": null,
   "metadata": {},
   "outputs": [],
   "source": []
  }
 ],
 "metadata": {
  "kernelspec": {
   "display_name": "Python 3",
   "language": "python",
   "name": "python3"
  },
  "language_info": {
   "codemirror_mode": {
    "name": "ipython",
    "version": 3
   },
   "file_extension": ".py",
   "mimetype": "text/x-python",
   "name": "python",
   "nbconvert_exporter": "python",
   "pygments_lexer": "ipython3",
   "version": "3.6.4"
  }
 },
 "nbformat": 4,
 "nbformat_minor": 2
}
