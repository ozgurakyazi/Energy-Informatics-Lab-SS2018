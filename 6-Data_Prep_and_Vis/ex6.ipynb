{
 "cells": [
  {
   "cell_type": "markdown",
   "metadata": {},
   "source": [
    "# Practical Exercise: Data Preparation and Visualisation"
   ]
  },
  {
   "cell_type": "markdown",
   "metadata": {},
   "source": [
    "## Exercise I. Data Loading and Preparation"
   ]
  },
  {
   "cell_type": "code",
   "execution_count": null,
   "metadata": {},
   "outputs": [],
   "source": [
    "import pandas as pd\n",
    "import numpy as np\n",
    "import h5py\n",
    "import os, glob\n",
    "import re\n",
    "from datetime import datetime, date, time\n",
    "from six import iteritems\n",
    "%load_ext autoreload\n",
    "%autoreload 2"
   ]
  },
  {
   "cell_type": "markdown",
   "metadata": {},
   "source": [
    "###  1. Data Reading and Exploration"
   ]
  },
  {
   "cell_type": "markdown",
   "metadata": {},
   "source": [
    "### Initialize Class and Read files\n",
    "In blond.py file, you can find the Blond class which handles data input, output and calibration. When the Blond class is initiated, it tries to acquire the data, whose interval is specified as an input. \n",
    "\n",
    "**Note that:** \n",
    "* Your data should be under **./data/** folder. For example **./data/clear** and **./data/medal-2**. \n",
    "\n",
    "* It only reads h5py file names and extracts the structure of the data, i.e. number of medals and signal names under each device, which is not actually reading the data. \n",
    "\n",
    "* From this point on, using this Blond object one can not read any other time which is not in the interval of the data itself. For example, your latest clear hdf5 file is 02:15:20, when you ask for clear data between 02:20:25-02:20:30 you wont get any data. But you are still able to get data for 02:18:10-02:20:20, since clear data contains 5 minutes of data in a file."
   ]
  },
  {
   "cell_type": "code",
   "execution_count": null,
   "metadata": {
    "scrolled": true
   },
   "outputs": [],
   "source": [
    "from blond import Blond,get_time_diff\n",
    "blond = Blond(date(2016,10,5))"
   ]
  },
  {
   "cell_type": "markdown",
   "metadata": {},
   "source": [
    "Checking the retrieved files"
   ]
  },
  {
   "cell_type": "code",
   "execution_count": null,
   "metadata": {},
   "outputs": [],
   "source": [
    "blond.list_files()"
   ]
  },
  {
   "cell_type": "markdown",
   "metadata": {},
   "source": [
    "Checking the data structure"
   ]
  },
  {
   "cell_type": "markdown",
   "metadata": {},
   "source": [
    "See the possible time ranges for each device. Note that, all the times are inclusive. If you see a time of *medal-1* for *latest* *2:17:12* , you will get the data until the end of 12.th second."
   ]
  },
  {
   "cell_type": "code",
   "execution_count": null,
   "metadata": {},
   "outputs": [],
   "source": [
    "blond.time_limits"
   ]
  },
  {
   "cell_type": "markdown",
   "metadata": {},
   "source": [
    "### Example Data Read\n",
    "\n",
    "In order to read a data interval, one needs to specify **device**(\"clear\", \"medal-1\"...), **signal**(\"current1\", \"current2\"...), start and end times. The time parameters here should be present in the specified device data. You can read either with or without calibration(actually \"calibration and centering\" is one parameter, so if you calibrate it is also centered). \n",
    "\n",
    "**Note:** While start time(start_ts) is inclusive, end time(end_ts) is exclusive. So for the example below, you will get the data of whole 0:50:0, so 0:50:1 is not included."
   ]
  },
  {
   "cell_type": "code",
   "execution_count": null,
   "metadata": {},
   "outputs": [],
   "source": [
    "the_data = blond.read_data(\n",
    "    device=\"medal-1\",\n",
    "    signal=\"current1\",\n",
    "    start_ts=time(0,50,0), \n",
    "    end_ts=time(0,50,1),\n",
    "    calibrate=False\n",
    ")\n",
    "the_data.shape"
   ]
  },
  {
   "cell_type": "markdown",
   "metadata": {},
   "source": [
    "### Exploration\n"
   ]
  },
  {
   "cell_type": "markdown",
   "metadata": {},
   "source": [
    "Signals acquisited by MEDAL"
   ]
  },
  {
   "cell_type": "code",
   "execution_count": null,
   "metadata": {},
   "outputs": [],
   "source": [
    "blond.get_data_structure()[\"medal-1\"]"
   ]
  },
  {
   "cell_type": "markdown",
   "metadata": {},
   "source": [
    "Signals acquisited by CLEAR"
   ]
  },
  {
   "cell_type": "code",
   "execution_count": null,
   "metadata": {},
   "outputs": [],
   "source": [
    "blond.get_data_structure()[\"clear\"]"
   ]
  },
  {
   "cell_type": "markdown",
   "metadata": {},
   "source": [
    "### Centering and calibrating\n",
    "\n",
    "When *read_data* function of the Blond class is called, the data is calibrated automatically. So we do not need an extra function call here.\n",
    "\n",
    "**Note:** If you do not want the data centered and calibrated, you can call *read_data* with the **calibrate** = *False* parameter. Otherwise it will be always calibrated and centered."
   ]
  },
  {
   "cell_type": "markdown",
   "metadata": {},
   "source": [
    "## Exercise III. Feature Extraction\n",
    "\n",
    "In order to run the Dash-Plotly application, you need to run **python app.py**. After the server runs, you can connect to the server and use the application."
   ]
  },
  {
   "cell_type": "markdown",
   "metadata": {},
   "source": [
    "## Exercise IV. Visualization"
   ]
  },
  {
   "cell_type": "code",
   "execution_count": null,
   "metadata": {},
   "outputs": [],
   "source": [
    "import numpy as np\n",
    "import matplotlib.pyplot as plt\n",
    "\n",
    "\n",
    "\n",
    "requested_time_start = time(1,10,10)\n",
    "requested_time_end = time(1,10,15)\n",
    "\n",
    "temp_data1 = blond.read_data(\n",
    "    device=\"clear\",\n",
    "    signal=\"current1\",\n",
    "    start_ts=requested_time_start, \n",
    "    end_ts=requested_time_end,\n",
    ")\n",
    "\n",
    "temp_data2 = blond.read_data(\n",
    "    device=\"clear\",\n",
    "    signal=\"voltage1\",\n",
    "    start_ts=requested_time_start, \n",
    "    end_ts=requested_time_end,\n",
    ")\n",
    "\n",
    "#calculate period Root-Mean-Square of the Current\n",
    "for curr in temp_data1:\n",
    "    curr_rms.append(np.sqrt(np.mean(curr**2)))\n",
    "    \n",
    "fig, ax = plt.subplots(nrows=1, ncols=3, figsize=(12, 4))\n",
    "\n",
    "plot1 = ax[0]\n",
    "t = np.arange(0.0, 0.6, 0.6/640)\n",
    "plot1.plot(t, temp_data1, color='b', label='Current')\n",
    "plot1.plot(curr_rms, color='r', label='Period RMS of Current')\n",
    "plot1.set_title('Current of AC Electrolux')\n",
    "plot1.set_xlabel('Time [s]')\n",
    "plot1.set_ylabel('Current [A]')\n",
    "plot1.legend()\n",
    "\n",
    "plot2 = ax[1]\n",
    "t = np.arange(0.0, 40.0, 40/640)\n",
    "sinewave = np.sin(2*np.pi*t/20)\n",
    "plot2.plot(t, temp_data2/50000, color='r', label='voltage')\n",
    "plot2.plot(t, temp_data1/6400, color='b', label='current')\n",
    "plot2.plot(t, sinewave, color='y', label='pure sine')\n",
    "plot2.set_title('Waveform Comparison of AC Electrolux')\n",
    "plot2.set_xlabel('Time [ms]')\n",
    "plot2.legend()\n",
    "\n",
    "plot3 = ax[2]\n",
    "plot3.plot(temp_data1, color='b', label='Current')\n",
    "plot3.plot(curr_rms, color='r', label='Period RMS of Current')\n",
    "plot3.set_title('Power over Time of AC Electrolux')\n",
    "plot3.set_xlabel('Time [s]')\n",
    "plot3.set_ylabel('Power [W]')\n",
    "plot3.legend()\n",
    "\n",
    "plt.subplots_adjust(left=0, wspace=0.4, top=0.8)\n",
    "\n",
    "plt.show()"
   ]
  },
  {
   "cell_type": "code",
   "execution_count": null,
   "metadata": {},
   "outputs": [],
   "source": []
  }
 ],
 "metadata": {
  "kernelspec": {
   "display_name": "Python 3",
   "language": "python",
   "name": "python3"
  },
  "language_info": {
   "codemirror_mode": {
    "name": "ipython",
    "version": 3
   },
   "file_extension": ".py",
   "mimetype": "text/x-python",
   "name": "python",
   "nbconvert_exporter": "python",
   "pygments_lexer": "ipython3",
   "version": "3.5.2"
  }
 },
 "nbformat": 4,
 "nbformat_minor": 2
}
