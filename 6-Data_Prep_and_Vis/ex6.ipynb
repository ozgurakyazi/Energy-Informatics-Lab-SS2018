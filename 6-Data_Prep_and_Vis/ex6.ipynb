{
 "cells": [
  {
   "cell_type": "markdown",
   "metadata": {},
   "source": [
    "# Practical Exercise: Data Preparation and Visualisation"
   ]
  },
  {
   "cell_type": "markdown",
   "metadata": {},
   "source": [
    "## Exercise I. Data Loading and Preparation"
   ]
  },
  {
   "cell_type": "code",
   "execution_count": null,
   "metadata": {},
   "outputs": [],
   "source": [
    "import pandas as pd\n",
    "import numpy as np\n",
    "import h5py\n",
    "import os, glob\n",
    "import re\n",
    "from datetime import datetime, date, time\n",
    "from six import iteritems\n",
    "%load_ext autoreload\n",
    "%autoreload 2"
   ]
  },
  {
   "cell_type": "markdown",
   "metadata": {},
   "source": [
    "###  1. Data Reading and Exploration"
   ]
  },
  {
   "cell_type": "markdown",
   "metadata": {},
   "source": [
    "### Initialize Class and Read files\n",
    "In blond.py file, you can find the Blond class which handles data input, output and calibration. When the Blond class is initiated, it tries to acquire the data, whose interval is specified as an input. \n",
    "\n",
    "**Note that:** \n",
    "* It only create h5py objects which is not actually reading the data. \n",
    "\n",
    "* From this point on, using this Blond object one can not read any other time which is not in the interval of the data itself. "
   ]
  },
  {
   "cell_type": "code",
   "execution_count": null,
   "metadata": {
    "scrolled": true
   },
   "outputs": [],
   "source": [
    "from blond import Blond,get_time_diff\n",
    "blond = Blond(date(2016,10,5))\n"
   ]
  },
  {
   "cell_type": "code",
   "execution_count": null,
   "metadata": {},
   "outputs": [],
   "source": [
    "\"\"\"Checking if files have been retrieved\"\"\"\n",
    "blond.list_files()"
   ]
  },
  {
   "cell_type": "markdown",
   "metadata": {},
   "source": [
    "### Example Data Read\n",
    "\n",
    "In order to read a data interval, one needs to specify **device**(\"clear\", \"medal-1\"...), **signal**(\"current1\", \"current2\"...), start and end times. The time parameters here should be present in the specified device data.  "
   ]
  },
  {
   "cell_type": "code",
   "execution_count": null,
   "metadata": {},
   "outputs": [],
   "source": [
    "blond.read_data( device=\"medal-1\",signal=\"current1\",start_ts=time(0,50,0), end_ts=time(2,17,13))"
   ]
  },
  {
   "cell_type": "markdown",
   "metadata": {},
   "source": [
    "### Exploration\n"
   ]
  },
  {
   "cell_type": "code",
   "execution_count": null,
   "metadata": {},
   "outputs": [],
   "source": [
    "\"\"\"signals acquisited by MEDAL\"\"\"\n",
    "medal_file = blond.list_files()['medal-1'][0]\n",
    "[key for key in medal_file.keys()]"
   ]
  },
  {
   "cell_type": "code",
   "execution_count": null,
   "metadata": {},
   "outputs": [],
   "source": [
    "\"\"\"signals acquisited by CLEAR\"\"\"\n",
    "clear_file = blond.list_files()['clear'][0]\n",
    "[key for key in clear_file.keys()]"
   ]
  },
  {
   "cell_type": "markdown",
   "metadata": {},
   "source": [
    "### Centering and calibrating"
   ]
  },
  {
   "cell_type": "code",
   "execution_count": null,
   "metadata": {},
   "outputs": [],
   "source": [
    "blond.center_and_calibrate_all()"
   ]
  },
  {
   "cell_type": "markdown",
   "metadata": {},
   "source": [
    "## Exercise III. Feature Extraction\n",
    "\n",
    "In order to run the Dash-Plotly application, you need to run **python app.py**. After the server runs, you can connect to the server and use the application."
   ]
  },
  {
   "cell_type": "markdown",
   "metadata": {},
   "source": [
    "## Exercise IV. Visualization"
   ]
  },
  {
   "cell_type": "code",
   "execution_count": null,
   "metadata": {},
   "outputs": [],
   "source": [
    "import matplotlib.pyplot as plt\n",
    "\n",
    "sps = 6400\n",
    "phase = 1\n",
    "requested_time = time(1,10,10)\n",
    "file_index = blond.find_corresponding_file(requested_time, blond.time_stamps['clear'])\n",
    "time_diff = get_time_diff(requested_time , blond.time_stamps['clear'][file_index])\n",
    "data_index_shift = time_diff * sps\n",
    "temp_data = blond.list_files()['clear'][file_index][\"current\"+str(phase)][data_index_shift:data_index_shift + int(sps*0.1)]\n",
    "\n",
    "curr_rms = []\n",
    "for curr in temp_data:\n",
    "    curr_rms.append(np.sqrt(np.mean(curr**2)))\n",
    "    \n",
    "fig, ax = plt.subplots(nrows=1, ncols=3, figsize=(18, 5))\n",
    "\n",
    "plot1 = ax[0]\n",
    "plot1.plot(temp_data, color='b', label='Current')\n",
    "plot1.plot(curr_rms, color='r', label='Period RMS of Current')\n",
    "plot1.set_title('Current of AC Electrolux')\n",
    "plot1.set_xlabel('Time [s]')\n",
    "plot1.set_ylabel('Current [A]')\n",
    "plot1.legend()\n",
    "\n",
    "plot2 = ax[1]\n",
    "plot2.plot(temp_data, color='b', label='Current')\n",
    "plot2.plot(curr_rms, color='r', label='Period RMS of Current')\n",
    "plot2.set_title('Waveform Comparison of AC Electrolux')\n",
    "plot2.set_xlabel('Time [ms]')\n",
    "plot2.legend()\n",
    "\n",
    "plot3 = ax[2]\n",
    "plot3.plot(temp_data, color='b', label='Current')\n",
    "plot3.plot(curr_rms, color='r', label='Period RMS of Current')\n",
    "plot3.set_title('Power over Time of AC Electrolux')\n",
    "plot3.set_xlabel('Time [s]')\n",
    "plot3.set_ylabel('Power [W]')\n",
    "plot3.legend()\n",
    "\n",
    "plt.show()"
   ]
  },
  {
   "cell_type": "code",
   "execution_count": null,
   "metadata": {},
   "outputs": [],
   "source": []
  }
 ],
 "metadata": {
  "kernelspec": {
   "display_name": "Python 3",
   "language": "python",
   "name": "python3"
  },
  "language_info": {
   "codemirror_mode": {
    "name": "ipython",
    "version": 3
   },
   "file_extension": ".py",
   "mimetype": "text/x-python",
   "name": "python",
   "nbconvert_exporter": "python",
   "pygments_lexer": "ipython3",
   "version": "3.5.2"
  }
 },
 "nbformat": 4,
 "nbformat_minor": 2
}
