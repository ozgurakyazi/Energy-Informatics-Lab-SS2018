{
 "cells": [
  {
   "cell_type": "markdown",
   "metadata": {},
   "source": [
    "# Practical Exercise: Data Preparation and Visualisation"
   ]
  },
  {
   "cell_type": "markdown",
   "metadata": {},
   "source": [
    "## Exercise I. Data Loading and Preparation"
   ]
  },
  {
   "cell_type": "code",
   "execution_count": 1,
   "metadata": {},
   "outputs": [],
   "source": [
    "import pandas as pd\n",
    "import numpy as np\n",
    "import h5py\n",
    "import os, glob\n",
    "import re\n",
    "from datetime import datetime, date, time\n",
    "from six import iteritems\n",
    "%load_ext autoreload\n",
    "%autoreload 2"
   ]
  },
  {
   "cell_type": "markdown",
   "metadata": {},
   "source": [
    "###  1. Data Reading and Exploration"
   ]
  },
  {
   "cell_type": "markdown",
   "metadata": {},
   "source": [
    "### Initialize Class and Read files\n",
    "In blond.py file, you can find the Blond class which handles data input, output and calibration. When the Blond class is initiated, it tries to acquire the data, whose interval is specified as an input. \n",
    "\n",
    "**Note that:** \n",
    "* It only create h5py objects which is not actually reading the data. \n",
    "\n",
    "* From this point on, using this Blond object one can not read any other time which is not in the interval of the times specified. "
   ]
  },
  {
   "cell_type": "code",
   "execution_count": 32,
   "metadata": {
    "scrolled": true
   },
   "outputs": [],
   "source": [
    "from blond import Blond,get_time_diff\n",
    "blond = Blond(date(2016,10,5),start_ts=time(0,50,0),end_ts=time(1,30,10))\n"
   ]
  },
  {
   "cell_type": "code",
   "execution_count": 33,
   "metadata": {},
   "outputs": [
    {
     "data": {
      "text/plain": [
       "{'clear': [<HDF5 file \"clear-2016-10-05T00-46-53.467073T+0200-0001315.hdf5\" (mode r+)>,\n",
       "  <HDF5 file \"clear-2016-10-05T00-51-53.752681T+0200-0001316.hdf5\" (mode r+)>,\n",
       "  <HDF5 file \"clear-2016-10-05T00-56-54.039123T+0200-0001317.hdf5\" (mode r+)>,\n",
       "  <HDF5 file \"clear-2016-10-05T01-01-54.325533T+0200-0001318.hdf5\" (mode r+)>,\n",
       "  <HDF5 file \"clear-2016-10-05T01-06-54.611818T+0200-0001319.hdf5\" (mode r+)>,\n",
       "  <HDF5 file \"clear-2016-10-05T01-11-54.897536T+0200-0001320.hdf5\" (mode r+)>,\n",
       "  <HDF5 file \"clear-2016-10-05T01-16-55.183843T+0200-0001321.hdf5\" (mode r+)>,\n",
       "  <HDF5 file \"clear-2016-10-05T01-21-55.470225T+0200-0001322.hdf5\" (mode r+)>,\n",
       "  <HDF5 file \"clear-2016-10-05T01-26-55.755842T+0200-0001323.hdf5\" (mode r+)>],\n",
       " 'medal-1': [<HDF5 file \"medal-1-2016-10-05T00-47-13.877516T+0200-0000439.hdf5\" (mode r+)>,\n",
       "  <HDF5 file \"medal-1-2016-10-05T01-02-13.887807T+0200-0000440.hdf5\" (mode r+)>,\n",
       "  <HDF5 file \"medal-1-2016-10-05T01-17-13.903732T+0200-0000441.hdf5\" (mode r+)>],\n",
       " 'medal-2': [<HDF5 file \"medal-2-2016-10-05T00-47-17.565178T+0200-0000439.hdf5\" (mode r+)>,\n",
       "  <HDF5 file \"medal-2-2016-10-05T01-02-17.575063T+0200-0000440.hdf5\" (mode r+)>,\n",
       "  <HDF5 file \"medal-2-2016-10-05T01-17-17.590817T+0200-0000441.hdf5\" (mode r+)>],\n",
       " 'medal-3': [<HDF5 file \"medal-3-2016-10-05T00-45-09.374766T+0200-0000439.hdf5\" (mode r+)>,\n",
       "  <HDF5 file \"medal-3-2016-10-05T01-00-09.386977T+0200-0000440.hdf5\" (mode r+)>,\n",
       "  <HDF5 file \"medal-3-2016-10-05T01-15-09.404508T+0200-0000441.hdf5\" (mode r+)>,\n",
       "  <HDF5 file \"medal-3-2016-10-05T01-30-09.422178T+0200-0000442.hdf5\" (mode r+)>]}"
      ]
     },
     "execution_count": 33,
     "metadata": {},
     "output_type": "execute_result"
    }
   ],
   "source": [
    "\"\"\"Checking if files have been retrieved\"\"\"\n",
    "blond.list_files()"
   ]
  },
  {
   "cell_type": "markdown",
   "metadata": {},
   "source": [
    "### Example Data Read\n",
    "\n",
    "In order to read a data interval, one needs to specify **device**(\"clear\", \"medal-1\"...), **signal**(\"current1\", \"current2\"...), start and end times. The time parameters here should be included in the time parameters of the Blond object itself.  \n",
    "\n",
    "Note that, read_data returns data from the beginning of **start_ts** until the end of **end_ts** inclusively."
   ]
  },
  {
   "cell_type": "code",
   "execution_count": 40,
   "metadata": {},
   "outputs": [
    {
     "data": {
      "text/plain": [
       "array([ -9, -18, -11, ..., -17, -16, -16])"
      ]
     },
     "execution_count": 40,
     "metadata": {},
     "output_type": "execute_result"
    }
   ],
   "source": [
    "blond.read_data( device=\"medal-1\",signal=\"current1\",start_ts=time(0,50,0), end_ts=time(1,30,1))"
   ]
  },
  {
   "cell_type": "markdown",
   "metadata": {},
   "source": [
    "### Exploration\n"
   ]
  },
  {
   "cell_type": "code",
   "execution_count": 7,
   "metadata": {},
   "outputs": [
    {
     "data": {
      "text/plain": [
       "['current1',\n",
       " 'current2',\n",
       " 'current3',\n",
       " 'current4',\n",
       " 'current5',\n",
       " 'current6',\n",
       " 'voltage']"
      ]
     },
     "execution_count": 7,
     "metadata": {},
     "output_type": "execute_result"
    }
   ],
   "source": [
    "\"\"\"signals acquisited by MEDAL\"\"\"\n",
    "medal_file = blond.list_files()['medal-1'][0]\n",
    "[key for key in medal_file.keys()]"
   ]
  },
  {
   "cell_type": "code",
   "execution_count": 8,
   "metadata": {},
   "outputs": [
    {
     "data": {
      "text/plain": [
       "['current1', 'current2', 'current3', 'voltage1', 'voltage2', 'voltage3']"
      ]
     },
     "execution_count": 8,
     "metadata": {},
     "output_type": "execute_result"
    }
   ],
   "source": [
    "\"\"\"signals acquisited by CLEAR\"\"\"\n",
    "clear_file = blond.list_files()['clear'][0]\n",
    "[key for key in clear_file.keys()]"
   ]
  },
  {
   "cell_type": "markdown",
   "metadata": {},
   "source": [
    "### Centering and calibrating"
   ]
  },
  {
   "cell_type": "code",
   "execution_count": 9,
   "metadata": {},
   "outputs": [
    {
     "name": "stdout",
     "output_type": "stream",
     "text": [
      "{'attributes': [{'calibration_factor': 0.015151515, 'values': array([-5, -3, -5, ..., -6, -1, -6], dtype=int16), 'DC_offset': 2500}, {'calibration_factor': 0.015151515, 'values': array([ -6,  -7,  -7, ...,  -1, -11,  -1], dtype=int16), 'DC_offset': 2500}], 'signal': 'medal-2_current1'}\n"
     ]
    },
    {
     "data": {
      "text/plain": [
       "{'medal-2_current1': array([37.78788 , 37.772728, 37.772728, ..., 37.863636, 37.71212 ,\n",
       "        37.863636], dtype=float32)}"
      ]
     },
     "execution_count": 9,
     "metadata": {},
     "output_type": "execute_result"
    }
   ],
   "source": [
    "device = 'medal-2'\n",
    "signal = 'current1'\n",
    "\n",
    "\"\"\"Raw signal with offset and calibration factor attributes\"\"\"\n",
    "dict_signal = blond.dict_read_signal(device, signal)\n",
    "print(dict_signal)\n",
    "\n",
    "\n",
    "\"\"\"calibrated signal\"\"\"\n",
    "blond.center_and_calibrate(dict_signal)"
   ]
  },
  {
   "cell_type": "markdown",
   "metadata": {},
   "source": [
    "## Exercise III. Feature Extraction\n",
    "\n",
    "In order to run the Dash-Plotly application, you need to run **python app.py**. After the server runs, you can connect to the server and use the application."
   ]
  },
  {
   "cell_type": "markdown",
   "metadata": {},
   "source": [
    "## Exercise IV. Visualization"
   ]
  },
  {
   "cell_type": "code",
   "execution_count": null,
   "metadata": {},
   "outputs": [],
   "source": [
    "import matplotlib.pyplot as plt\n",
    "\n",
    "sps = 6400\n",
    "phase = 1\n",
    "requested_time = time(1,10,10)\n",
    "file_index = blond.find_corresponding_file(requested_time, blond.time_stamps['clear'])\n",
    "time_diff = get_time_diff(requested_time , blond.time_stamps['clear'][file_index])\n",
    "data_index_shift = time_diff * sps\n",
    "temp_data = blond.list_files()['clear'][file_index][\"current\"+str(phase)][data_index_shift:data_index_shift + int(sps*0.1)]\n",
    "\n",
    "curr_rms = []\n",
    "for curr in temp_data:\n",
    "    curr_rms.append(np.sqrt(np.mean(curr**2)))\n",
    "    \n",
    "fig, ax = plt.subplots(nrows=1, ncols=3, figsize=(18, 5))\n",
    "\n",
    "plot1 = ax[0]\n",
    "plot1.plot(temp_data, color='b', label='Current')\n",
    "plot1.plot(curr_rms, color='r', label='Period RMS of Current')\n",
    "plot1.set_title('Current of AC Electrolux')\n",
    "plot1.set_xlabel('Time [s]')\n",
    "plot1.set_ylabel('Current [A]')\n",
    "plot1.legend()\n",
    "\n",
    "plot2 = ax[1]\n",
    "plot2.plot(temp_data, color='b', label='Current')\n",
    "plot2.plot(curr_rms, color='r', label='Period RMS of Current')\n",
    "plot2.set_title('Waveform Comparison of AC Electrolux')\n",
    "plot2.set_xlabel('Time [ms]')\n",
    "plot2.legend()\n",
    "\n",
    "plot3 = ax[2]\n",
    "plot3.plot(temp_data, color='b', label='Current')\n",
    "plot3.plot(curr_rms, color='r', label='Period RMS of Current')\n",
    "plot3.set_title('Power over Time of AC Electrolux')\n",
    "plot3.set_xlabel('Time [s]')\n",
    "plot3.set_ylabel('Power [W]')\n",
    "plot3.legend()\n",
    "\n",
    "plt.show()"
   ]
  },
  {
   "cell_type": "code",
   "execution_count": null,
   "metadata": {},
   "outputs": [],
   "source": []
  }
 ],
 "metadata": {
  "kernelspec": {
   "display_name": "Python 3",
   "language": "python",
   "name": "python3"
  },
  "language_info": {
   "codemirror_mode": {
    "name": "ipython",
    "version": 3
   },
   "file_extension": ".py",
   "mimetype": "text/x-python",
   "name": "python",
   "nbconvert_exporter": "python",
   "pygments_lexer": "ipython3",
   "version": "3.5.2"
  }
 },
 "nbformat": 4,
 "nbformat_minor": 2
}
