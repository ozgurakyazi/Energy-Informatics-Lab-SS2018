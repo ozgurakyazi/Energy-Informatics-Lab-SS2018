{
 "cells": [
  {
   "cell_type": "markdown",
   "metadata": {},
   "source": [
    "# Practical Exercise: Data Preparation and Visualisation"
   ]
  },
  {
   "cell_type": "code",
   "execution_count": null,
   "metadata": {},
   "outputs": [],
   "source": [
    "import pandas as pd\n",
    "import numpy as np\n",
    "import h5py\n",
    "import os, glob\n",
    "import re\n",
    "import itertools\n",
    "from datetime import datetime, date, time\n",
    "from six import iteritems\n",
    "\n"
   ]
  },
  {
   "cell_type": "code",
   "execution_count": null,
   "metadata": {},
   "outputs": [],
   "source": [
    "class Blond(object):\n",
    "    \"\"\"\n",
    "        TODO: figure out how to close files\n",
    "    \"\"\"\n",
    "    \n",
    "    def __init__(self, date):\n",
    "        self.date = date\n",
    "        \n",
    "    # start(end)_hours_minutes\n",
    "    def read_clear(self, start_hm, end_hm):\n",
    "        path_to_files = './data/clear/'\n",
    "        files_all = next(os.walk(path_to_files))[2]  \n",
    "        \n",
    "        for file_name in files_all:            \n",
    "            pattern = r'(\\d{4}-\\d{2}-\\d{2}T\\d{2}-\\d{2}-\\d{2})'\n",
    "            regex_obj = re.search(pattern, file_name)\n",
    "            \n",
    "            if regex_obj is not None:\n",
    "                ts_format = regex_obj.group(1)\n",
    "                file_hm = datetime.strptime(ts_format, '%Y-%m-%dT%H-%M-%S').time()\n",
    "\n",
    "                if start_hm <= file_hm <= end_hm:\n",
    "                    yield h5py.File(path_to_files + file_name,'r+')\n",
    "                         \n",
    "            \n",
    "    def read_medal(self, start_hm, end_hm):\n",
    "        \n",
    "        \"\"\"\n",
    "            each MEDAL is located in a separate folder, thus, we search each folder\n",
    "        \"\"\"\n",
    "        path_to_files = './data/medal*/'\n",
    "        for folder in glob.glob(path_to_files):            \n",
    "            files_all = next(os.walk(folder))[2]  \n",
    "        \n",
    "            for file_name in files_all:            \n",
    "                pattern = r'(\\d{4}-\\d{2}-\\d{2}T\\d{2}-\\d{2}-\\d{2})'\n",
    "                regex_obj = re.search(pattern, file_name)\n",
    "                \n",
    "                if regex_obj is not None:\n",
    "                    ts_format = regex_obj.group(1)\n",
    "                    file_hm = datetime.strptime(ts_format, '%Y-%m-%dT%H-%M-%S').time()\n",
    "\n",
    "                    if start_hm <= file_hm <= end_hm:\n",
    "                        yield h5py.File(folder + file_name, 'r+') \n",
    "                        \n",
    "                    \n",
    "                     \n",
    "    def it_center_signal(self, it_medal, signal):\n",
    "        \"\"\"no DC_offset in CLEAR data\"\"\"   \n",
    "        for data in it_medal:\n",
    "            DC_offset = data[signal].attrs['removed_offset']\n",
    "            data[signal][:] = data[signal][:] + DC_offset\n",
    "            yield data\n",
    "            \n",
    "    def it_calibrate(self, it_data, signal):\n",
    "        for data in it_data:\n",
    "            factor = data[signal].attrs['calibration_factor']\n",
    "            data[signal][:] = (data[signal][:] * factor)\n",
    "            yield data\n",
    "        \n",
    "            \n",
    "        \n",
    "    def merge_into_dict(self, it_data, signal):\n",
    "        \n",
    "        signal_dict = dict()\n",
    "        for i, data in enumerate(it_data):   \n",
    "            \"\"\" Dictionary output:\n",
    "                {0: <HDF5 dataset \"current1\": shape (15000000,), type \"<i2\">,\n",
    "                1: <HDF5 dataset \"current1\": shape (15000000,), type \"<i2\">,\n",
    "                ...\n",
    "            \"\"\"\n",
    "            signal_dict[i] = data[signal] \n",
    "        \n",
    "        return signal_dict     \n",
    "    \n",
    "          \n",
    "     "
   ]
  },
  {
   "cell_type": "markdown",
   "metadata": {},
   "source": [
    "## 1. Data Reading and Exploration"
   ]
  },
  {
   "cell_type": "markdown",
   "metadata": {},
   "source": [
    "### Read files and prepare data for plotting"
   ]
  },
  {
   "cell_type": "code",
   "execution_count": null,
   "metadata": {},
   "outputs": [],
   "source": [
    "blond = Blond(date(2018,10,5))\n",
    "\n",
    "\"\"\" Define a timeframe\"\"\"\n",
    "start_hm = time(0,30) # start_hours_minutes\n",
    "end_hm   = time(1,30)\n",
    "\n",
    "\"\"\"Read MEDAL and CLEAR data \"\"\"\n",
    "it_medal = blond.read_medal(start_hm, end_hm)\n",
    "it_clear = blond.read_clear(start_hm, end_hm)\n",
    "\n",
    "\n",
    "\"\"\"center and calibrate MEDAL data\"\"\"\n",
    "it_data_calibrated = blond.it_calibrate(blond.it_center_signal(it_medal, 'current1'), 'current1')\n",
    "\n",
    "\"\"\"define a signal and prepare data to the format suitable for plotting\"\"\"\n",
    "signal = 'current1'\n",
    "d = blond.merge_into_dict(it_data_calibrated, 'current1')\n",
    "data={}\n",
    "it_merged_data = itertools.chain(*pd.DataFrame(data = d).values)\n",
    "\n",
    "\n",
    "\"\"\"read first 10,000,000 values\"\"\"\n",
    "data['medals_'+signal] = list(itertools.islice(it_merged_data, 10000000) )"
   ]
  },
  {
   "cell_type": "code",
   "execution_count": null,
   "metadata": {},
   "outputs": [],
   "source": [
    "data"
   ]
  },
  {
   "cell_type": "code",
   "execution_count": null,
   "metadata": {},
   "outputs": [],
   "source": []
  }
 ],
 "metadata": {
  "kernelspec": {
   "display_name": "Python 3",
   "language": "python",
   "name": "python3"
  },
  "language_info": {
   "codemirror_mode": {
    "name": "ipython",
    "version": 3
   },
   "file_extension": ".py",
   "mimetype": "text/x-python",
   "name": "python",
   "nbconvert_exporter": "python",
   "pygments_lexer": "ipython3",
   "version": "3.6.4"
  }
 },
 "nbformat": 4,
 "nbformat_minor": 2
}
